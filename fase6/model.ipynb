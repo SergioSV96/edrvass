{
 "cells": [
  {
   "cell_type": "markdown",
   "metadata": {},
   "source": [
    "# Procesamiento\n",
    "Vamos a utilizar sklearn para el procesamiento de datos mediante pipelines.\n",
    "- Buena info de cómo hacer esto aquí: https://www.youtube.com/watch?v=0B5eIE_1vpU&t=1227s"
   ]
  },
  {
   "cell_type": "code",
   "execution_count": null,
   "metadata": {},
   "outputs": [],
   "source": [
    "import pandas as pd\n",
    "pd.set_option('display.max_columns', None)\n",
    "\n",
    "train = pd.read_csv('data/train_data.csv')\n",
    "test = pd.read_csv('data/test_data.csv')"
   ]
  },
  {
   "cell_type": "code",
   "execution_count": null,
   "metadata": {},
   "outputs": [],
   "source": [
    "# Vamos a definir los datos de entrenamiento\n",
    "X = train.drop(['mineralType', 'id'], axis=1)\n",
    "y = train['mineralType']"
   ]
  },
  {
   "cell_type": "code",
   "execution_count": null,
   "metadata": {},
   "outputs": [],
   "source": [
    "# Create sklearn pipeline for data preprocessing\n",
    "from sklearn.pipeline import Pipeline, make_pipeline\n",
    "from sklearn.compose import ColumnTransformer\n",
    "from sklearn.preprocessing import FunctionTransformer, OneHotEncoder, OrdinalEncoder\n",
    "from sklearn.impute import SimpleImputer\n",
    "from sklearn.neighbors import KNeighborsClassifier\n",
    "from sklearn.model_selection import GridSearchCV\n",
    "from sklearn.metrics import accuracy_score, make_scorer, recall_score, precision_score\n",
    "import numpy as np\n",
    "\n",
    "preprocessor = ColumnTransformer([\n",
    "        # (name, transformer, columns)\n",
    "        (\"temperatureFirstHalfPlanetRotation\", FunctionTransformer(lambda f: (f - 32) / 1.8, feature_names_out=\"one-to-one\"), ['temperatureFirstHalfPlanetRotation']), # convert from Fahrenheit to Celsius\n",
    "        (\"temperatureSecondHalfPlanetRotation\", \"passthrough\", ['temperatureSecondHalfPlanetRotation']), # pass through the column unchanged\n",
    "        (\"waterStreamDistanceX\", FunctionTransformer(lambda f: f * 0.3048, feature_names_out=\"one-to-one\"), ['waterStreamDistanceX']), # convert from feet to meters\n",
    "        (\"waterStreamDistanceY\", \"passthrough\", ['waterStreamDistanceY']), # pass through the column unchanged\n",
    "        (\"planetSection\", OneHotEncoder(handle_unknown = \"ignore\"), ['planetSection']), # one-hot encode the planetSection column\n",
    "        (\"cover\", OneHotEncoder(handle_unknown='error', drop='first'), ['cover']), # one-hot encode the cover column and drop the first column (the one with the missing values == 0)\n",
    "        (\"climaticZone\", OrdinalEncoder(handle_unknown=\"use_encoded_value\", unknown_value=-1), ['climaticZone']), # ordinal encode the climaticZone column TODO: drop category 3? what to do? only one row has a 3\n",
    "        (\"geoZone\", OneHotEncoder(handle_unknown = \"ignore\"), ['geoZone']), # one-hot encode the geoZone column TODO: drop category 5?\n",
    "        (\"rockSize\", OneHotEncoder(handle_unknown='ignore', drop='first'), ['rockSize']), # one-hot encode the rockSize column and drop the first column (the one with the missing values == 0)\n",
    "        (\"magmaConcentrationDistance\", OneHotEncoder(handle_unknown = \"ignore\"), ['magmaConcentrationDistance']), # one-hot encode the rockSize column and drop the first column (the one with the missing values == 0) TODO: use Ordinal Encoder?\n",
    "        (\"mineralDensity\", \"passthrough\", ['mineralDensity']), # pass through the column unchanged\n",
    "        (\"detectionDepth\", \"passthrough\", ['detectionDepth']), # pass through the column unchanged TODO: convert km to m?\n",
    "        (\"longitude\", \"passthrough\", ['longitude']), # pass through the column unchanged TODO: values > 360? do x - 360\n",
    "    ],\n",
    "    verbose_feature_names_out=False, remainder='drop'\n",
    ")\n",
    "\n",
    "model = KNeighborsClassifier()\n",
    "\n",
    "pipe = Pipeline([\n",
    "    ('preprocessor', preprocessor),\n",
    "    ('model', model)\n",
    "])\n",
    "\n",
    "grid = GridSearchCV(pipe, cv=5, scoring=['accuracy', 'precision_macro'], error_score='raise', return_train_score=True, n_jobs=-1, verbose=1, refit='accuracy',\n",
    "            param_grid={\n",
    "                'model__n_neighbors': [5, 8, 10, 12, 15, 20],\n",
    "                'model__weights': ['uniform', 'distance'],\n",
    "                'model__metric': ['euclidean', 'manhattan']\n",
    "            })\n",
    "grid.fit(X, y)"
   ]
  },
  {
   "cell_type": "code",
   "execution_count": null,
   "metadata": {},
   "outputs": [],
   "source": [
    "# Plot the results of the grid search to see which parameters are the best for the model to use\n",
    "import matplotlib.pyplot as plt\n",
    "plt.figure(figsize=(10, 6))\n",
    "plt.plot(grid.cv_results_['mean_test_accuracy'], label='mean test accuracy')\n",
    "plt.plot(grid.cv_results_['mean_test_precision_macro'], label='mean test precision macro')\n",
    "plt.legend()\n",
    "plt.show()"
   ]
  },
  {
   "cell_type": "code",
   "execution_count": null,
   "metadata": {},
   "outputs": [],
   "source": [
    "grid.best_params_"
   ]
  },
  {
   "cell_type": "code",
   "execution_count": null,
   "metadata": {},
   "outputs": [],
   "source": [
    "grid.best_score_"
   ]
  },
  {
   "cell_type": "code",
   "execution_count": null,
   "metadata": {},
   "outputs": [],
   "source": [
    "pd.DataFrame(grid.cv_results_)"
   ]
  },
  {
   "cell_type": "code",
   "execution_count": null,
   "metadata": {},
   "outputs": [],
   "source": [
    "preprocessed_data = preprocessor.fit_transform(X)\n",
    "\n",
    "preprocessed_dataframe = pd.DataFrame(preprocessed_data, columns=preprocessor.get_feature_names_out())\n",
    "preprocessed_dataframe"
   ]
  },
  {
   "cell_type": "code",
   "execution_count": null,
   "metadata": {},
   "outputs": [],
   "source": [
    "from sklearn import set_config\n",
    "\n",
    "set_config(display='diagram')\n",
    "grid"
   ]
  }
 ],
 "metadata": {
  "interpreter": {
   "hash": "2b432026e43f20cf504aae65236a164c08dc39f216586df0ee869a7227797bc6"
  },
  "kernelspec": {
   "display_name": "Python 3.7.13 64-bit ('fase6')",
   "language": "python",
   "name": "python3"
  },
  "language_info": {
   "codemirror_mode": {
    "name": "ipython",
    "version": 3
   },
   "file_extension": ".py",
   "mimetype": "text/x-python",
   "name": "python",
   "nbconvert_exporter": "python",
   "pygments_lexer": "ipython3",
   "version": "3.7.13"
  },
  "orig_nbformat": 4
 },
 "nbformat": 4,
 "nbformat_minor": 2
}
