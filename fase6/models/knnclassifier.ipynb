{
 "cells": [
  {
   "cell_type": "markdown",
   "metadata": {},
   "source": [
    "# Procesamiento\n",
    "Vamos a utilizar sklearn para el procesamiento de datos mediante pipelines.\n",
    "- Buena info de cómo hacer esto aquí: https://www.youtube.com/watch?v=0B5eIE_1vpU&t=1227s"
   ]
  },
  {
   "cell_type": "code",
   "execution_count": 18,
   "metadata": {},
   "outputs": [],
   "source": [
    "import pandas as pd\n",
    "pd.set_option('display.max_columns', None)\n",
    "\n",
    "train = pd.read_csv('../data/train_data.csv')\n",
    "test = pd.read_csv('../data/test_data.csv')"
   ]
  },
  {
   "cell_type": "code",
   "execution_count": 19,
   "metadata": {},
   "outputs": [],
   "source": [
    "# Vamos a definir los datos de entrenamiento\n",
    "X = train.drop(['mineralType', 'id'], axis=1)\n",
    "y = train['mineralType']"
   ]
  },
  {
   "cell_type": "code",
   "execution_count": 10,
   "metadata": {},
   "outputs": [],
   "source": [
    "y = y.drop(y[X['climaticZone']==3].index)\n",
    "X = X.drop(X[X['climaticZone']==3].index)\n",
    "y = y.drop(y[X['geoZone']==5].index.values)\n",
    "X = X.drop(X[X['geoZone']==5].index.values)"
   ]
  },
  {
   "cell_type": "code",
   "execution_count": 11,
   "metadata": {},
   "outputs": [
    {
     "name": "stderr",
     "output_type": "stream",
     "text": [
      "2022/04/28 22:51:24 WARNING mlflow.utils.autologging_utils: You are using an unsupported version of sklearn. If you encounter errors during autologging, try upgrading / downgrading sklearn to a supported version, or try upgrading MLflow.\n",
      "2022/04/28 22:51:24 INFO mlflow.utils.autologging_utils: Created MLflow autologging run with ID '20291567f33f4796bba178067bf42752', which will track hyperparameters, performance metrics, model artifacts, and lineage information for the current sklearn workflow\n",
      "2022/04/28 22:51:24 WARNING mlflow.utils: Truncated the value of the key `estimator`. Truncated value: `Pipeline(steps=[('preprocessor',\n",
      "                 ColumnTransformer(remainder='passthrough',\n",
      "                                   transformers=[('temperatureFirstHalfPlanetRotation',\n",
      "                                                  Pipeline(steps=[...`\n"
     ]
    },
    {
     "name": "stdout",
     "output_type": "stream",
     "text": [
      "Fitting 10 folds for each of 1 candidates, totalling 10 fits\n",
      "[CV 1/10] END model=KNeighborsClassifier(), model__metric=manhattan, model__n_neighbors=7, model__weights=distance, pca__n_components=None; accuracy: (train=1.000, test=0.725) precision_macro: (train=1.000, test=0.720) total time=   0.4s\n",
      "[CV 3/10] END model=KNeighborsClassifier(), model__metric=manhattan, model__n_neighbors=7, model__weights=distance, pca__n_components=None; accuracy: (train=1.000, test=0.731) precision_macro: (train=1.000, test=0.727) total time=   0.3s\n",
      "[CV 7/10] END model=KNeighborsClassifier(), model__metric=manhattan, model__n_neighbors=7, model__weights=distance, pca__n_components=None; accuracy: (train=1.000, test=0.745) precision_macro: (train=1.000, test=0.739) total time=   0.4s\n",
      "[CV 8/10] END model=KNeighborsClassifier(), model__metric=manhattan, model__n_neighbors=7, model__weights=distance, pca__n_components=None; accuracy: (train=1.000, test=0.732) precision_macro: (train=1.000, test=0.730) total time=   0.3s\n",
      "[CV 10/10] END model=KNeighborsClassifier(), model__metric=manhattan, model__n_neighbors=7, model__weights=distance, pca__n_components=None; accuracy: (train=1.000, test=0.753) precision_macro: (train=1.000, test=0.748) total time=   0.3s\n",
      "[CV 5/10] END model=KNeighborsClassifier(), model__metric=manhattan, model__n_neighbors=7, model__weights=distance, pca__n_components=None; accuracy: (train=1.000, test=0.715) precision_macro: (train=1.000, test=0.714) total time=   0.4s\n",
      "[CV 2/10] END model=KNeighborsClassifier(), model__metric=manhattan, model__n_neighbors=7, model__weights=distance, pca__n_components=None; accuracy: (train=1.000, test=0.746) precision_macro: (train=1.000, test=0.740) total time=   0.4s\n",
      "[CV 4/10] END model=KNeighborsClassifier(), model__metric=manhattan, model__n_neighbors=7, model__weights=distance, pca__n_components=None; accuracy: (train=1.000, test=0.732) precision_macro: (train=1.000, test=0.728) total time=   0.4s\n",
      "[CV 9/10] END model=KNeighborsClassifier(), model__metric=manhattan, model__n_neighbors=7, model__weights=distance, pca__n_components=None; accuracy: (train=1.000, test=0.752) precision_macro: (train=1.000, test=0.743) total time=   0.3s\n",
      "[CV 6/10] END model=KNeighborsClassifier(), model__metric=manhattan, model__n_neighbors=7, model__weights=distance, pca__n_components=None; accuracy: (train=1.000, test=0.749) precision_macro: (train=1.000, test=0.742) total time=   0.4s\n"
     ]
    },
    {
     "name": "stderr",
     "output_type": "stream",
     "text": [
      "2022/04/28 22:51:28 WARNING mlflow.utils.autologging_utils: MLflow autologging encountered a warning: \"/home/acampillos/.pyenv/versions/3.7.13/envs/edrvass/lib/python3.7/site-packages/mlflow/models/signature.py:129: UserWarning: Hint: Inferred schema contains integer column(s). Integer columns in Python cannot represent missing values. If your input data contains missing values at inference time, it will be encoded as floats and will cause a schema enforcement error. The best way to avoid this problem is to infer the model schema based on a realistic data sample (training dataset) that includes missing values. Alternatively, you can declare integer columns as doubles (float64) whenever these columns may have missing values. See `Handling Integers With Missing Values <https://www.mlflow.org/docs/latest/models.html#handling-integers-with-missing-values>`_ for more details.\"\n",
      "2022/04/28 22:51:30 WARNING mlflow.utils.autologging_utils: MLflow autologging encountered a warning: \"/home/acampillos/.pyenv/versions/3.7.13/envs/edrvass/lib/python3.7/site-packages/mlflow/sklearn/utils.py:704: UserWarning: Top 5 child runs will be created based on ordering in rank_test_accuracy column. You can choose not to limit the number of child runs created by setting `max_tuning_runs=None`.\"\n",
      "2022/04/28 22:51:30 INFO mlflow.sklearn.utils: Logging the 5 best runs, no runs will be omitted.\n",
      "2022/04/28 22:51:30 WARNING mlflow.utils: Truncated the value of the key `steps`. Truncated value: `[('preprocessor', ColumnTransformer(remainder='passthrough',\n",
      "                  transformers=[('temperatureFirstHalfPlanetRotation',\n",
      "                                 Pipeline(steps=[('iterativeimputer',\n",
      "                                             ...`\n",
      "2022/04/28 22:51:30 WARNING mlflow.utils: Truncated the value of the key `preprocessor`. Truncated value: `ColumnTransformer(remainder='passthrough',\n",
      "                  transformers=[('temperatureFirstHalfPlanetRotation',\n",
      "                                 Pipeline(steps=[('iterativeimputer',\n",
      "                                                  IterativeImpu...`\n",
      "2022/04/28 22:51:30 WARNING mlflow.utils: Truncated the value of the key `preprocessor__transformers`. Truncated value: `[('temperatureFirstHalfPlanetRotation', Pipeline(steps=[('iterativeimputer', IterativeImputer(missing_values=-999.0)),\n",
      "                ('functiontransformer',\n",
      "                 FunctionTransformer(feature_names_out='one-to-one',\n",
      "                   ...`\n",
      "2022/04/28 22:51:30 WARNING mlflow.utils: Truncated the value of the key `preprocessor__temperatureFirstHalfPlanetRotation`. Truncated value: `Pipeline(steps=[('iterativeimputer', IterativeImputer(missing_values=-999.0)),\n",
      "                ('functiontransformer',\n",
      "                 FunctionTransformer(feature_names_out='one-to-one',\n",
      "                                     func=<function <lambda...`\n"
     ]
    }
   ],
   "source": [
    "# Create sklearn pipeline for data preprocessing\n",
    "from sklearn.pipeline import Pipeline, make_pipeline\n",
    "from sklearn.compose import ColumnTransformer\n",
    "from sklearn.preprocessing import FunctionTransformer, OneHotEncoder, OrdinalEncoder, StandardScaler, RobustScaler\n",
    "from sklearn.feature_extraction import FeatureHasher\n",
    "from sklearn.experimental import enable_iterative_imputer\n",
    "from sklearn.impute import SimpleImputer, IterativeImputer\n",
    "from sklearn.neighbors import KNeighborsClassifier\n",
    "from sklearn.ensemble import RandomForestClassifier, GradientBoostingClassifier\n",
    "from sklearn.svm import LinearSVC\n",
    "from sklearn.neural_network import MLPClassifier\n",
    "from sklearn.base import BaseEstimator, TransformerMixin\n",
    "from sklearn.model_selection import GridSearchCV\n",
    "from sklearn.metrics import accuracy_score, make_scorer, recall_score, precision_score\n",
    "from sklearn.decomposition import PCA, NMF\n",
    "from sklearn.feature_selection import SelectKBest, chi2\n",
    "from sklearn.discriminant_analysis import LinearDiscriminantAnalysis\n",
    "from sklearn import set_config\n",
    "import numpy as np\n",
    "import mlflow\n",
    "import math\n",
    "from joblib import Memory\n",
    "from shutil import rmtree\n",
    "\n",
    "mlflow.sklearn.autolog()\n",
    "mlflow.set_experiment(\"knnclassifier\")\n",
    "\n",
    "preprocessor = ColumnTransformer([\n",
    "        # (name, transformer, columns)\n",
    "        (\"temperatureFirstHalfPlanetRotation\", make_pipeline(IterativeImputer(missing_values=-999.0), FunctionTransformer(lambda f: (f - 32) / 1.8, feature_names_out=\"one-to-one\"), RobustScaler()), ['temperatureFirstHalfPlanetRotation']), # convert from Fahrenheit to Celsius\n",
    "        (\"temperatureSecondHalfPlanetRotation\", StandardScaler(), ['temperatureSecondHalfPlanetRotation']), # pass through the column unchanged\n",
    "        (\"waterStreamDistanceX\", make_pipeline(FunctionTransformer(lambda f: f * 0.3048, feature_names_out=\"one-to-one\"), StandardScaler()), ['waterStreamDistanceX']), # convert from feet to meters\n",
    "        (\"waterStreamDistanceY\", StandardScaler(), ['waterStreamDistanceY']), # pass through the column unchanged\n",
    "        (\"planetSection\", OneHotEncoder(handle_unknown = \"ignore\"), ['planetSection']), # one-hot encode the planetSection column\n",
    "        (\"cover\", OneHotEncoder(handle_unknown='error', drop='first'), ['cover']), # one-hot encode the cover column and drop the first column (the one with the missing values == 0)\n",
    "        (\"climaticZone\", OrdinalEncoder(handle_unknown=\"use_encoded_value\", unknown_value=-1), ['climaticZone']), # ordinal encode the climaticZone column TODO: drop category 3? what to do? only one row has a 3\n",
    "        (\"geoZone\", OneHotEncoder(handle_unknown = \"ignore\"), ['geoZone']), # one-hot encode the geoZone column TODO: drop category 5?\n",
    "        (\"rockSize\", OneHotEncoder(handle_unknown='ignore', drop='first'), ['rockSize']), # one-hot encode the rockSize column and drop the first column (the one with the missing values == 0)\n",
    "        (\"magmaConcentrationDistance\", OneHotEncoder(handle_unknown = \"ignore\"), ['magmaConcentrationDistance']), # one-hot encode the rockSize column and drop the first column (the one with the missing values == 0) TODO: use Ordinal Encoder?\n",
    "        (\"mineralDensity\", make_pipeline(IterativeImputer(missing_values=-999.0), RobustScaler()), ['mineralDensity']), # pass through the column unchanged\n",
    "        (\"detectionDepth\", StandardScaler(), ['detectionDepth']), # pass through the column unchanged TODO: convert km to m?\n",
    "        (\"longitude\", StandardScaler(), ['longitude']), # pass through the column unchanged TODO: values > 360? do x - 360\n",
    "    ],\n",
    "    verbose_feature_names_out=False, remainder='passthrough'\n",
    ")\n",
    "\n",
    "def euclidean_distance(x, y):\n",
    "    res = []\n",
    "    for i in range(len(x)):\n",
    "        res.append(math.sqrt(x[i]**2 + y[i]**2))\n",
    "    return np.array(res)\n",
    "\n",
    "class CreateVariables(BaseEstimator, TransformerMixin):\n",
    "    def __init__(self):\n",
    "        pass\n",
    "        \n",
    "    def fit(self, X, y = None):\n",
    "        return self\n",
    "\n",
    "    def transform(self, X, y = None):\n",
    "        # waterSteamDistance\n",
    "        waterStreamDistanceX = X[:,2]\n",
    "        waterStreamDistanceY = X[:,3]\n",
    "        waterStreamDistance = euclidean_distance(waterStreamDistanceX, waterStreamDistanceY)\n",
    "        X = np.append(X, waterStreamDistance.reshape(-1, 1), axis=1)\n",
    "\n",
    "        # temperature (both planet rotations)\n",
    "        temperatureFirstHalfPlanetRotation = X[:,0]\n",
    "        temperatureSecondHalfPlanetRotation = X[:,1]\n",
    "        meanTemperature = (temperatureFirstHalfPlanetRotation + temperatureSecondHalfPlanetRotation)/2\n",
    "        X = np.append(X, meanTemperature.reshape(-1, 1), axis=1)\n",
    "\n",
    "        return X\n",
    "\n",
    "# model = MLPClassifier(random_state=1, max_iter=300)\n",
    "model = KNeighborsClassifier()\n",
    "# model = RandomForestClassifier(bootstrap=False, max_features=5, min_samples_leaf=15,\n",
    "#                          n_estimators=512, n_jobs=-1, random_state=1,\n",
    "#                          warm_start=True)\n",
    "\n",
    "pipe = Pipeline([\n",
    "    ('preprocessor', preprocessor),\n",
    "    ('create_variables', CreateVariables()),\n",
    "    ('pca', PCA()),\n",
    "    ('model', 'passthrough')\n",
    "])\n",
    "\n",
    "param_grid = [\n",
    "    {\n",
    "        # 'preprocessor__temperatureFirstHalfPlanetRotation__robustscaler': [StandardScaler(), RobustScaler()],\n",
    "        'pca__n_components': [None],\n",
    "        'model': [KNeighborsClassifier()],\n",
    "        'model__n_neighbors': [7],\n",
    "        'model__weights': ['distance'],\n",
    "        'model__metric': ['manhattan'],\n",
    "    },\n",
    "    # {\n",
    "    #     # 'preprocessor__temperatureFirstHalfPlanetRotation__robustscaler': [StandardScaler(), RobustScaler()],\n",
    "    #     'pca__n_components': [None],\n",
    "    #     'model': [GradientBoostingClassifier()],\n",
    "    # },\n",
    "]\n",
    "\n",
    "grid = GridSearchCV(pipe, cv=10, scoring=['accuracy', 'precision_macro'], error_score='raise', return_train_score=True, n_jobs=-1, verbose=4, refit='accuracy',\n",
    "        param_grid=param_grid\n",
    "        )\n",
    "\n",
    "# Train the model\n",
    "grid.fit(X, y)\n",
    "\n",
    "set_config(display='diagram')\n",
    "# grid.get_para ms()"
   ]
  },
  {
   "cell_type": "code",
   "execution_count": 12,
   "metadata": {},
   "outputs": [
    {
     "data": {
      "image/png": "[encoded data removed]",
      "text/plain": [
       "<Figure size 720x432 with 1 Axes>"
      ]
     },
     "metadata": {
      "needs_background": "light"
     },
     "output_type": "display_data"
    }
   ],
   "source": [
    "# Plot the results of the grid search to see which parameters are the best for the model to use\n",
    "import matplotlib.pyplot as plt\n",
    "plt.figure(figsize=(10, 6))\n",
    "# Sort grid results by ranking\n",
    "grid_results_df = pd.DataFrame(grid.cv_results_)\n",
    "grid_results_df.sort_values(by=['rank_test_accuracy'], ascending=False, inplace=True)\n",
    "plt.plot(grid.cv_results_['mean_test_accuracy'], label='mean test accuracy')\n",
    "plt.plot(grid.cv_results_['mean_test_precision_macro'], label='mean test precision macro')\n",
    "plt.legend()\n",
    "plt.show()"
   ]
  },
  {
   "cell_type": "code",
   "execution_count": 13,
   "metadata": {},
   "outputs": [
    {
     "data": {
      "text/plain": [
       "{'model': KNeighborsClassifier(metric='manhattan', n_neighbors=7, weights='distance'),\n",
       " 'model__metric': 'manhattan',\n",
       " 'model__n_neighbors': 7,\n",
       " 'model__weights': 'distance',\n",
       " 'pca__n_components': None}"
      ]
     },
     "execution_count": 13,
     "metadata": {},
     "output_type": "execute_result"
    }
   ],
   "source": [
    "grid.best_params_"
   ]
  },
  {
   "cell_type": "code",
   "execution_count": 14,
   "metadata": {},
   "outputs": [
    {
     "data": {
      "text/plain": [
       "0.7379556259904912"
      ]
     },
     "execution_count": 14,
     "metadata": {},
     "output_type": "execute_result"
    }
   ],
   "source": [
    "grid.best_score_"
   ]
  },
  {
   "cell_type": "code",
   "execution_count": 15,
   "metadata": {},
   "outputs": [
    {
     "data": {
      "text/html": [
       "<div>\n",
       "<style scoped>\n",
       "    .dataframe tbody tr th:only-of-type {\n",
       "        vertical-align: middle;\n",
       "    }\n",
       "\n",
       "    .dataframe tbody tr th {\n",
       "        vertical-align: top;\n",
       "    }\n",
       "\n",
       "    .dataframe thead th {\n",
       "        text-align: right;\n",
       "    }\n",
       "</style>\n",
       "<table border=\"1\" class=\"dataframe\">\n",
       "  <thead>\n",
       "    <tr style=\"text-align: right;\">\n",
       "      <th></th>\n",
       "      <th>mean_fit_time</th>\n",
       "      <th>std_fit_time</th>\n",
       "      <th>mean_score_time</th>\n",
       "      <th>std_score_time</th>\n",
       "      <th>param_model</th>\n",
       "      <th>param_model__metric</th>\n",
       "      <th>param_model__n_neighbors</th>\n",
       "      <th>param_model__weights</th>\n",
       "      <th>param_pca__n_components</th>\n",
       "      <th>params</th>\n",
       "      <th>split0_test_accuracy</th>\n",
       "      <th>split1_test_accuracy</th>\n",
       "      <th>split2_test_accuracy</th>\n",
       "      <th>split3_test_accuracy</th>\n",
       "      <th>split4_test_accuracy</th>\n",
       "      <th>split5_test_accuracy</th>\n",
       "      <th>split6_test_accuracy</th>\n",
       "      <th>split7_test_accuracy</th>\n",
       "      <th>split8_test_accuracy</th>\n",
       "      <th>split9_test_accuracy</th>\n",
       "      <th>mean_test_accuracy</th>\n",
       "      <th>std_test_accuracy</th>\n",
       "      <th>rank_test_accuracy</th>\n",
       "      <th>split0_train_accuracy</th>\n",
       "      <th>split1_train_accuracy</th>\n",
       "      <th>split2_train_accuracy</th>\n",
       "      <th>split3_train_accuracy</th>\n",
       "      <th>split4_train_accuracy</th>\n",
       "      <th>split5_train_accuracy</th>\n",
       "      <th>split6_train_accuracy</th>\n",
       "      <th>split7_train_accuracy</th>\n",
       "      <th>split8_train_accuracy</th>\n",
       "      <th>split9_train_accuracy</th>\n",
       "      <th>mean_train_accuracy</th>\n",
       "      <th>std_train_accuracy</th>\n",
       "      <th>split0_test_precision_macro</th>\n",
       "      <th>split1_test_precision_macro</th>\n",
       "      <th>split2_test_precision_macro</th>\n",
       "      <th>split3_test_precision_macro</th>\n",
       "      <th>split4_test_precision_macro</th>\n",
       "      <th>split5_test_precision_macro</th>\n",
       "      <th>split6_test_precision_macro</th>\n",
       "      <th>split7_test_precision_macro</th>\n",
       "      <th>split8_test_precision_macro</th>\n",
       "      <th>split9_test_precision_macro</th>\n",
       "      <th>mean_test_precision_macro</th>\n",
       "      <th>std_test_precision_macro</th>\n",
       "      <th>rank_test_precision_macro</th>\n",
       "      <th>split0_train_precision_macro</th>\n",
       "      <th>split1_train_precision_macro</th>\n",
       "      <th>split2_train_precision_macro</th>\n",
       "      <th>split3_train_precision_macro</th>\n",
       "      <th>split4_train_precision_macro</th>\n",
       "      <th>split5_train_precision_macro</th>\n",
       "      <th>split6_train_precision_macro</th>\n",
       "      <th>split7_train_precision_macro</th>\n",
       "      <th>split8_train_precision_macro</th>\n",
       "      <th>split9_train_precision_macro</th>\n",
       "      <th>mean_train_precision_macro</th>\n",
       "      <th>std_train_precision_macro</th>\n",
       "    </tr>\n",
       "  </thead>\n",
       "  <tbody>\n",
       "    <tr>\n",
       "      <th>0</th>\n",
       "      <td>0.051773</td>\n",
       "      <td>0.006</td>\n",
       "      <td>0.316856</td>\n",
       "      <td>0.04784</td>\n",
       "      <td>KNeighborsClassifier(metric='manhattan', n_nei...</td>\n",
       "      <td>manhattan</td>\n",
       "      <td>7</td>\n",
       "      <td>distance</td>\n",
       "      <td>None</td>\n",
       "      <td>{'model': KNeighborsClassifier(metric='manhatt...</td>\n",
       "      <td>0.72504</td>\n",
       "      <td>0.745642</td>\n",
       "      <td>0.731379</td>\n",
       "      <td>0.732171</td>\n",
       "      <td>0.714739</td>\n",
       "      <td>0.748811</td>\n",
       "      <td>0.744849</td>\n",
       "      <td>0.732171</td>\n",
       "      <td>0.751981</td>\n",
       "      <td>0.752773</td>\n",
       "      <td>0.737956</td>\n",
       "      <td>0.01207</td>\n",
       "      <td>1</td>\n",
       "      <td>1.0</td>\n",
       "      <td>1.0</td>\n",
       "      <td>1.0</td>\n",
       "      <td>1.0</td>\n",
       "      <td>1.0</td>\n",
       "      <td>1.0</td>\n",
       "      <td>1.0</td>\n",
       "      <td>1.0</td>\n",
       "      <td>1.0</td>\n",
       "      <td>1.0</td>\n",
       "      <td>1.0</td>\n",
       "      <td>0.0</td>\n",
       "      <td>0.719653</td>\n",
       "      <td>0.739886</td>\n",
       "      <td>0.727251</td>\n",
       "      <td>0.728331</td>\n",
       "      <td>0.713786</td>\n",
       "      <td>0.742184</td>\n",
       "      <td>0.73861</td>\n",
       "      <td>0.730315</td>\n",
       "      <td>0.743191</td>\n",
       "      <td>0.748456</td>\n",
       "      <td>0.733166</td>\n",
       "      <td>0.01056</td>\n",
       "      <td>1</td>\n",
       "      <td>1.0</td>\n",
       "      <td>1.0</td>\n",
       "      <td>1.0</td>\n",
       "      <td>1.0</td>\n",
       "      <td>1.0</td>\n",
       "      <td>1.0</td>\n",
       "      <td>1.0</td>\n",
       "      <td>1.0</td>\n",
       "      <td>1.0</td>\n",
       "      <td>1.0</td>\n",
       "      <td>1.0</td>\n",
       "      <td>0.0</td>\n",
       "    </tr>\n",
       "  </tbody>\n",
       "</table>\n",
       "</div>"
      ],
      "text/plain": [
       "   mean_fit_time  std_fit_time  mean_score_time  std_score_time  \\\n",
       "0       0.051773         0.006         0.316856         0.04784   \n",
       "\n",
       "                                         param_model param_model__metric  \\\n",
       "0  KNeighborsClassifier(metric='manhattan', n_nei...           manhattan   \n",
       "\n",
       "  param_model__n_neighbors param_model__weights param_pca__n_components  \\\n",
       "0                        7             distance                    None   \n",
       "\n",
       "                                              params  split0_test_accuracy  \\\n",
       "0  {'model': KNeighborsClassifier(metric='manhatt...               0.72504   \n",
       "\n",
       "   split1_test_accuracy  split2_test_accuracy  split3_test_accuracy  \\\n",
       "0              0.745642              0.731379              0.732171   \n",
       "\n",
       "   split4_test_accuracy  split5_test_accuracy  split6_test_accuracy  \\\n",
       "0              0.714739              0.748811              0.744849   \n",
       "\n",
       "   split7_test_accuracy  split8_test_accuracy  split9_test_accuracy  \\\n",
       "0              0.732171              0.751981              0.752773   \n",
       "\n",
       "   mean_test_accuracy  std_test_accuracy  rank_test_accuracy  \\\n",
       "0            0.737956            0.01207                   1   \n",
       "\n",
       "   split0_train_accuracy  split1_train_accuracy  split2_train_accuracy  \\\n",
       "0                    1.0                    1.0                    1.0   \n",
       "\n",
       "   split3_train_accuracy  split4_train_accuracy  split5_train_accuracy  \\\n",
       "0                    1.0                    1.0                    1.0   \n",
       "\n",
       "   split6_train_accuracy  split7_train_accuracy  split8_train_accuracy  \\\n",
       "0                    1.0                    1.0                    1.0   \n",
       "\n",
       "   split9_train_accuracy  mean_train_accuracy  std_train_accuracy  \\\n",
       "0                    1.0                  1.0                 0.0   \n",
       "\n",
       "   split0_test_precision_macro  split1_test_precision_macro  \\\n",
       "0                     0.719653                     0.739886   \n",
       "\n",
       "   split2_test_precision_macro  split3_test_precision_macro  \\\n",
       "0                     0.727251                     0.728331   \n",
       "\n",
       "   split4_test_precision_macro  split5_test_precision_macro  \\\n",
       "0                     0.713786                     0.742184   \n",
       "\n",
       "   split6_test_precision_macro  split7_test_precision_macro  \\\n",
       "0                      0.73861                     0.730315   \n",
       "\n",
       "   split8_test_precision_macro  split9_test_precision_macro  \\\n",
       "0                     0.743191                     0.748456   \n",
       "\n",
       "   mean_test_precision_macro  std_test_precision_macro  \\\n",
       "0                   0.733166                   0.01056   \n",
       "\n",
       "   rank_test_precision_macro  split0_train_precision_macro  \\\n",
       "0                          1                           1.0   \n",
       "\n",
       "   split1_train_precision_macro  split2_train_precision_macro  \\\n",
       "0                           1.0                           1.0   \n",
       "\n",
       "   split3_train_precision_macro  split4_train_precision_macro  \\\n",
       "0                           1.0                           1.0   \n",
       "\n",
       "   split5_train_precision_macro  split6_train_precision_macro  \\\n",
       "0                           1.0                           1.0   \n",
       "\n",
       "   split7_train_precision_macro  split8_train_precision_macro  \\\n",
       "0                           1.0                           1.0   \n",
       "\n",
       "   split9_train_precision_macro  mean_train_precision_macro  \\\n",
       "0                           1.0                         1.0   \n",
       "\n",
       "   std_train_precision_macro  \n",
       "0                        0.0  "
      ]
     },
     "execution_count": 15,
     "metadata": {},
     "output_type": "execute_result"
    }
   ],
   "source": [
    "# Results by ranking\n",
    "grid_results_df.sort_values(by=['rank_test_accuracy'], ascending=True, inplace=True)\n",
    "grid_results_df"
   ]
  },
  {
   "cell_type": "code",
   "execution_count": 38,
   "metadata": {},
   "outputs": [
    {
     "name": "stderr",
     "output_type": "stream",
     "text": [
      "2022/04/28 17:31:55 INFO mlflow.utils.autologging_utils: Created MLflow autologging run with ID '5c25aee687674ff7b48b68fdc01af7e8', which will track hyperparameters, performance metrics, model artifacts, and lineage information for the current sklearn workflow\n",
      "2022/04/28 17:31:55 WARNING mlflow.sklearn: Training metrics will not be recorded because training labels were not specified. To automatically record training metrics, provide training labels as inputs to the model training function.\n",
      "2022/04/28 17:31:55 WARNING mlflow.sklearn: Failed to infer model signature: the trained model does not specify a `predict` function, which is required in order to infer the signature\n",
      "2022/04/28 17:31:58 INFO mlflow.utils.autologging_utils: Created MLflow autologging run with ID 'd7f60722f0e64131bab2298200c541a6', which will track hyperparameters, performance metrics, model artifacts, and lineage information for the current sklearn workflow\n",
      "2022/04/28 17:31:58 WARNING mlflow.sklearn: Training metrics will not be recorded because training labels were not specified. To automatically record training metrics, provide training labels as inputs to the model training function.\n",
      "2022/04/28 17:31:58 WARNING mlflow.sklearn: Failed to infer model signature: the trained model does not specify a `predict` function, which is required in order to infer the signature\n",
      "2022/04/28 17:32:02 INFO mlflow.utils.autologging_utils: Created MLflow autologging run with ID '843517dcc1ab4498ba322054b2d55d78', which will track hyperparameters, performance metrics, model artifacts, and lineage information for the current sklearn workflow\n",
      "2022/04/28 17:32:02 WARNING mlflow.sklearn: Training metrics will not be recorded because training labels were not specified. To automatically record training metrics, provide training labels as inputs to the model training function.\n",
      "2022/04/28 17:32:02 WARNING mlflow.sklearn: Failed to infer model signature: the trained model does not specify a `predict` function, which is required in order to infer the signature\n"
     ]
    },
    {
     "data": {
      "text/html": [
       "<div>\n",
       "<style scoped>\n",
       "    .dataframe tbody tr th:only-of-type {\n",
       "        vertical-align: middle;\n",
       "    }\n",
       "\n",
       "    .dataframe tbody tr th {\n",
       "        vertical-align: top;\n",
       "    }\n",
       "\n",
       "    .dataframe thead th {\n",
       "        text-align: right;\n",
       "    }\n",
       "</style>\n",
       "<table border=\"1\" class=\"dataframe\">\n",
       "  <thead>\n",
       "    <tr style=\"text-align: right;\">\n",
       "      <th></th>\n",
       "      <th>temperatureFirstHalfPlanetRotation</th>\n",
       "      <th>temperatureSecondHalfPlanetRotation</th>\n",
       "      <th>waterStreamDistanceX</th>\n",
       "      <th>waterStreamDistanceY</th>\n",
       "      <th>planetSection_Hyrule</th>\n",
       "      <th>planetSection_Mordor</th>\n",
       "      <th>planetSection_Tatoooine</th>\n",
       "      <th>cover_1</th>\n",
       "      <th>cover_2</th>\n",
       "      <th>cover_3</th>\n",
       "      <th>cover_4</th>\n",
       "      <th>climaticZone</th>\n",
       "      <th>geoZone_1</th>\n",
       "      <th>geoZone_2</th>\n",
       "      <th>geoZone_5</th>\n",
       "      <th>geoZone_7</th>\n",
       "      <th>rockSize_1</th>\n",
       "      <th>rockSize_2</th>\n",
       "      <th>rockSize_3</th>\n",
       "      <th>magmaConcentrationDistance_CLOSE</th>\n",
       "      <th>magmaConcentrationDistance_FAR</th>\n",
       "      <th>magmaConcentrationDistance_MEDIUM</th>\n",
       "      <th>magmaConcentrationDistance_VERY_CLOSE</th>\n",
       "      <th>magmaConcentrationDistance_VERY_FAR</th>\n",
       "      <th>mineralDensity</th>\n",
       "      <th>detectionDepth</th>\n",
       "      <th>longitude</th>\n",
       "    </tr>\n",
       "  </thead>\n",
       "  <tbody>\n",
       "    <tr>\n",
       "      <th>0</th>\n",
       "      <td>0.000000</td>\n",
       "      <td>0.062969</td>\n",
       "      <td>0.177788</td>\n",
       "      <td>-0.561392</td>\n",
       "      <td>0.0</td>\n",
       "      <td>0.0</td>\n",
       "      <td>1.0</td>\n",
       "      <td>0.0</td>\n",
       "      <td>0.0</td>\n",
       "      <td>0.0</td>\n",
       "      <td>1.0</td>\n",
       "      <td>2.0</td>\n",
       "      <td>0.0</td>\n",
       "      <td>0.0</td>\n",
       "      <td>0.0</td>\n",
       "      <td>1.0</td>\n",
       "      <td>0.0</td>\n",
       "      <td>0.0</td>\n",
       "      <td>1.0</td>\n",
       "      <td>0.0</td>\n",
       "      <td>0.0</td>\n",
       "      <td>0.0</td>\n",
       "      <td>1.0</td>\n",
       "      <td>0.0</td>\n",
       "      <td>-1.024300</td>\n",
       "      <td>0.036297</td>\n",
       "      <td>-0.816631</td>\n",
       "    </tr>\n",
       "    <tr>\n",
       "      <th>1</th>\n",
       "      <td>-0.121687</td>\n",
       "      <td>1.300463</td>\n",
       "      <td>-0.923458</td>\n",
       "      <td>-0.637252</td>\n",
       "      <td>0.0</td>\n",
       "      <td>0.0</td>\n",
       "      <td>1.0</td>\n",
       "      <td>0.0</td>\n",
       "      <td>0.0</td>\n",
       "      <td>0.0</td>\n",
       "      <td>0.0</td>\n",
       "      <td>5.0</td>\n",
       "      <td>1.0</td>\n",
       "      <td>0.0</td>\n",
       "      <td>0.0</td>\n",
       "      <td>0.0</td>\n",
       "      <td>0.0</td>\n",
       "      <td>0.0</td>\n",
       "      <td>0.0</td>\n",
       "      <td>0.0</td>\n",
       "      <td>0.0</td>\n",
       "      <td>0.0</td>\n",
       "      <td>1.0</td>\n",
       "      <td>0.0</td>\n",
       "      <td>0.421035</td>\n",
       "      <td>-0.008990</td>\n",
       "      <td>2.183750</td>\n",
       "    </tr>\n",
       "    <tr>\n",
       "      <th>2</th>\n",
       "      <td>0.950602</td>\n",
       "      <td>0.705213</td>\n",
       "      <td>-0.924247</td>\n",
       "      <td>-0.804866</td>\n",
       "      <td>0.0</td>\n",
       "      <td>1.0</td>\n",
       "      <td>0.0</td>\n",
       "      <td>0.0</td>\n",
       "      <td>0.0</td>\n",
       "      <td>1.0</td>\n",
       "      <td>0.0</td>\n",
       "      <td>6.0</td>\n",
       "      <td>0.0</td>\n",
       "      <td>0.0</td>\n",
       "      <td>0.0</td>\n",
       "      <td>1.0</td>\n",
       "      <td>1.0</td>\n",
       "      <td>0.0</td>\n",
       "      <td>0.0</td>\n",
       "      <td>1.0</td>\n",
       "      <td>0.0</td>\n",
       "      <td>0.0</td>\n",
       "      <td>0.0</td>\n",
       "      <td>0.0</td>\n",
       "      <td>0.000000</td>\n",
       "      <td>1.170855</td>\n",
       "      <td>-1.171792</td>\n",
       "    </tr>\n",
       "    <tr>\n",
       "      <th>3</th>\n",
       "      <td>0.528915</td>\n",
       "      <td>-0.469623</td>\n",
       "      <td>-0.876572</td>\n",
       "      <td>-0.641185</td>\n",
       "      <td>1.0</td>\n",
       "      <td>0.0</td>\n",
       "      <td>0.0</td>\n",
       "      <td>0.0</td>\n",
       "      <td>0.0</td>\n",
       "      <td>0.0</td>\n",
       "      <td>1.0</td>\n",
       "      <td>0.0</td>\n",
       "      <td>0.0</td>\n",
       "      <td>0.0</td>\n",
       "      <td>0.0</td>\n",
       "      <td>1.0</td>\n",
       "      <td>0.0</td>\n",
       "      <td>0.0</td>\n",
       "      <td>1.0</td>\n",
       "      <td>1.0</td>\n",
       "      <td>0.0</td>\n",
       "      <td>0.0</td>\n",
       "      <td>0.0</td>\n",
       "      <td>0.0</td>\n",
       "      <td>0.000000</td>\n",
       "      <td>-1.188836</td>\n",
       "      <td>-0.167580</td>\n",
       "    </tr>\n",
       "    <tr>\n",
       "      <th>4</th>\n",
       "      <td>0.914457</td>\n",
       "      <td>0.156956</td>\n",
       "      <td>-1.074219</td>\n",
       "      <td>-0.835997</td>\n",
       "      <td>1.0</td>\n",
       "      <td>0.0</td>\n",
       "      <td>0.0</td>\n",
       "      <td>1.0</td>\n",
       "      <td>0.0</td>\n",
       "      <td>0.0</td>\n",
       "      <td>0.0</td>\n",
       "      <td>0.0</td>\n",
       "      <td>0.0</td>\n",
       "      <td>0.0</td>\n",
       "      <td>0.0</td>\n",
       "      <td>1.0</td>\n",
       "      <td>1.0</td>\n",
       "      <td>0.0</td>\n",
       "      <td>0.0</td>\n",
       "      <td>0.0</td>\n",
       "      <td>0.0</td>\n",
       "      <td>0.0</td>\n",
       "      <td>1.0</td>\n",
       "      <td>0.0</td>\n",
       "      <td>-1.197034</td>\n",
       "      <td>-0.988620</td>\n",
       "      <td>-0.429381</td>\n",
       "    </tr>\n",
       "    <tr>\n",
       "      <th>...</th>\n",
       "      <td>...</td>\n",
       "      <td>...</td>\n",
       "      <td>...</td>\n",
       "      <td>...</td>\n",
       "      <td>...</td>\n",
       "      <td>...</td>\n",
       "      <td>...</td>\n",
       "      <td>...</td>\n",
       "      <td>...</td>\n",
       "      <td>...</td>\n",
       "      <td>...</td>\n",
       "      <td>...</td>\n",
       "      <td>...</td>\n",
       "      <td>...</td>\n",
       "      <td>...</td>\n",
       "      <td>...</td>\n",
       "      <td>...</td>\n",
       "      <td>...</td>\n",
       "      <td>...</td>\n",
       "      <td>...</td>\n",
       "      <td>...</td>\n",
       "      <td>...</td>\n",
       "      <td>...</td>\n",
       "      <td>...</td>\n",
       "      <td>...</td>\n",
       "      <td>...</td>\n",
       "      <td>...</td>\n",
       "    </tr>\n",
       "    <tr>\n",
       "      <th>12616</th>\n",
       "      <td>-0.892772</td>\n",
       "      <td>-1.111866</td>\n",
       "      <td>-0.872966</td>\n",
       "      <td>-0.673135</td>\n",
       "      <td>0.0</td>\n",
       "      <td>1.0</td>\n",
       "      <td>0.0</td>\n",
       "      <td>0.0</td>\n",
       "      <td>0.0</td>\n",
       "      <td>1.0</td>\n",
       "      <td>0.0</td>\n",
       "      <td>6.0</td>\n",
       "      <td>0.0</td>\n",
       "      <td>0.0</td>\n",
       "      <td>0.0</td>\n",
       "      <td>1.0</td>\n",
       "      <td>1.0</td>\n",
       "      <td>0.0</td>\n",
       "      <td>0.0</td>\n",
       "      <td>1.0</td>\n",
       "      <td>0.0</td>\n",
       "      <td>0.0</td>\n",
       "      <td>0.0</td>\n",
       "      <td>0.0</td>\n",
       "      <td>0.618763</td>\n",
       "      <td>1.421126</td>\n",
       "      <td>-0.462613</td>\n",
       "    </tr>\n",
       "    <tr>\n",
       "      <th>12617</th>\n",
       "      <td>0.818072</td>\n",
       "      <td>1.472772</td>\n",
       "      <td>0.231856</td>\n",
       "      <td>-0.178976</td>\n",
       "      <td>0.0</td>\n",
       "      <td>0.0</td>\n",
       "      <td>1.0</td>\n",
       "      <td>0.0</td>\n",
       "      <td>0.0</td>\n",
       "      <td>0.0</td>\n",
       "      <td>1.0</td>\n",
       "      <td>2.0</td>\n",
       "      <td>0.0</td>\n",
       "      <td>0.0</td>\n",
       "      <td>0.0</td>\n",
       "      <td>1.0</td>\n",
       "      <td>0.0</td>\n",
       "      <td>0.0</td>\n",
       "      <td>1.0</td>\n",
       "      <td>1.0</td>\n",
       "      <td>0.0</td>\n",
       "      <td>0.0</td>\n",
       "      <td>0.0</td>\n",
       "      <td>0.0</td>\n",
       "      <td>-0.517071</td>\n",
       "      <td>0.339005</td>\n",
       "      <td>1.864209</td>\n",
       "    </tr>\n",
       "    <tr>\n",
       "      <th>12618</th>\n",
       "      <td>0.781927</td>\n",
       "      <td>0.767871</td>\n",
       "      <td>0.626084</td>\n",
       "      <td>-0.506668</td>\n",
       "      <td>0.0</td>\n",
       "      <td>1.0</td>\n",
       "      <td>0.0</td>\n",
       "      <td>0.0</td>\n",
       "      <td>0.0</td>\n",
       "      <td>1.0</td>\n",
       "      <td>0.0</td>\n",
       "      <td>5.0</td>\n",
       "      <td>0.0</td>\n",
       "      <td>0.0</td>\n",
       "      <td>0.0</td>\n",
       "      <td>1.0</td>\n",
       "      <td>1.0</td>\n",
       "      <td>0.0</td>\n",
       "      <td>0.0</td>\n",
       "      <td>0.0</td>\n",
       "      <td>0.0</td>\n",
       "      <td>1.0</td>\n",
       "      <td>0.0</td>\n",
       "      <td>0.0</td>\n",
       "      <td>0.000000</td>\n",
       "      <td>1.085048</td>\n",
       "      <td>-1.252170</td>\n",
       "    </tr>\n",
       "    <tr>\n",
       "      <th>12619</th>\n",
       "      <td>0.263855</td>\n",
       "      <td>1.300463</td>\n",
       "      <td>4.127995</td>\n",
       "      <td>2.629992</td>\n",
       "      <td>0.0</td>\n",
       "      <td>0.0</td>\n",
       "      <td>1.0</td>\n",
       "      <td>0.0</td>\n",
       "      <td>0.0</td>\n",
       "      <td>1.0</td>\n",
       "      <td>0.0</td>\n",
       "      <td>5.0</td>\n",
       "      <td>0.0</td>\n",
       "      <td>0.0</td>\n",
       "      <td>0.0</td>\n",
       "      <td>1.0</td>\n",
       "      <td>1.0</td>\n",
       "      <td>0.0</td>\n",
       "      <td>0.0</td>\n",
       "      <td>0.0</td>\n",
       "      <td>0.0</td>\n",
       "      <td>1.0</td>\n",
       "      <td>0.0</td>\n",
       "      <td>0.0</td>\n",
       "      <td>0.481407</td>\n",
       "      <td>1.256662</td>\n",
       "      <td>2.158515</td>\n",
       "    </tr>\n",
       "    <tr>\n",
       "      <th>12620</th>\n",
       "      <td>-0.579519</td>\n",
       "      <td>-2.145721</td>\n",
       "      <td>1.028209</td>\n",
       "      <td>1.002842</td>\n",
       "      <td>0.0</td>\n",
       "      <td>1.0</td>\n",
       "      <td>0.0</td>\n",
       "      <td>0.0</td>\n",
       "      <td>0.0</td>\n",
       "      <td>1.0</td>\n",
       "      <td>0.0</td>\n",
       "      <td>6.0</td>\n",
       "      <td>0.0</td>\n",
       "      <td>0.0</td>\n",
       "      <td>0.0</td>\n",
       "      <td>1.0</td>\n",
       "      <td>1.0</td>\n",
       "      <td>0.0</td>\n",
       "      <td>0.0</td>\n",
       "      <td>0.0</td>\n",
       "      <td>0.0</td>\n",
       "      <td>1.0</td>\n",
       "      <td>0.0</td>\n",
       "      <td>0.0</td>\n",
       "      <td>1.683662</td>\n",
       "      <td>2.050377</td>\n",
       "      <td>0.053824</td>\n",
       "    </tr>\n",
       "  </tbody>\n",
       "</table>\n",
       "<p>12621 rows × 27 columns</p>\n",
       "</div>"
      ],
      "text/plain": [
       "       temperatureFirstHalfPlanetRotation  \\\n",
       "0                                0.000000   \n",
       "1                               -0.121687   \n",
       "2                                0.950602   \n",
       "3                                0.528915   \n",
       "4                                0.914457   \n",
       "...                                   ...   \n",
       "12616                           -0.892772   \n",
       "12617                            0.818072   \n",
       "12618                            0.781927   \n",
       "12619                            0.263855   \n",
       "12620                           -0.579519   \n",
       "\n",
       "       temperatureSecondHalfPlanetRotation  waterStreamDistanceX  \\\n",
       "0                                 0.062969              0.177788   \n",
       "1                                 1.300463             -0.923458   \n",
       "2                                 0.705213             -0.924247   \n",
       "3                                -0.469623             -0.876572   \n",
       "4                                 0.156956             -1.074219   \n",
       "...                                    ...                   ...   \n",
       "12616                            -1.111866             -0.872966   \n",
       "12617                             1.472772              0.231856   \n",
       "12618                             0.767871              0.626084   \n",
       "12619                             1.300463              4.127995   \n",
       "12620                            -2.145721              1.028209   \n",
       "\n",
       "       waterStreamDistanceY  planetSection_Hyrule  planetSection_Mordor  \\\n",
       "0                 -0.561392                   0.0                   0.0   \n",
       "1                 -0.637252                   0.0                   0.0   \n",
       "2                 -0.804866                   0.0                   1.0   \n",
       "3                 -0.641185                   1.0                   0.0   \n",
       "4                 -0.835997                   1.0                   0.0   \n",
       "...                     ...                   ...                   ...   \n",
       "12616             -0.673135                   0.0                   1.0   \n",
       "12617             -0.178976                   0.0                   0.0   \n",
       "12618             -0.506668                   0.0                   1.0   \n",
       "12619              2.629992                   0.0                   0.0   \n",
       "12620              1.002842                   0.0                   1.0   \n",
       "\n",
       "       planetSection_Tatoooine  cover_1  cover_2  cover_3  cover_4  \\\n",
       "0                          1.0      0.0      0.0      0.0      1.0   \n",
       "1                          1.0      0.0      0.0      0.0      0.0   \n",
       "2                          0.0      0.0      0.0      1.0      0.0   \n",
       "3                          0.0      0.0      0.0      0.0      1.0   \n",
       "4                          0.0      1.0      0.0      0.0      0.0   \n",
       "...                        ...      ...      ...      ...      ...   \n",
       "12616                      0.0      0.0      0.0      1.0      0.0   \n",
       "12617                      1.0      0.0      0.0      0.0      1.0   \n",
       "12618                      0.0      0.0      0.0      1.0      0.0   \n",
       "12619                      1.0      0.0      0.0      1.0      0.0   \n",
       "12620                      0.0      0.0      0.0      1.0      0.0   \n",
       "\n",
       "       climaticZone  geoZone_1  geoZone_2  geoZone_5  geoZone_7  rockSize_1  \\\n",
       "0               2.0        0.0        0.0        0.0        1.0         0.0   \n",
       "1               5.0        1.0        0.0        0.0        0.0         0.0   \n",
       "2               6.0        0.0        0.0        0.0        1.0         1.0   \n",
       "3               0.0        0.0        0.0        0.0        1.0         0.0   \n",
       "4               0.0        0.0        0.0        0.0        1.0         1.0   \n",
       "...             ...        ...        ...        ...        ...         ...   \n",
       "12616           6.0        0.0        0.0        0.0        1.0         1.0   \n",
       "12617           2.0        0.0        0.0        0.0        1.0         0.0   \n",
       "12618           5.0        0.0        0.0        0.0        1.0         1.0   \n",
       "12619           5.0        0.0        0.0        0.0        1.0         1.0   \n",
       "12620           6.0        0.0        0.0        0.0        1.0         1.0   \n",
       "\n",
       "       rockSize_2  rockSize_3  magmaConcentrationDistance_CLOSE  \\\n",
       "0             0.0         1.0                               0.0   \n",
       "1             0.0         0.0                               0.0   \n",
       "2             0.0         0.0                               1.0   \n",
       "3             0.0         1.0                               1.0   \n",
       "4             0.0         0.0                               0.0   \n",
       "...           ...         ...                               ...   \n",
       "12616         0.0         0.0                               1.0   \n",
       "12617         0.0         1.0                               1.0   \n",
       "12618         0.0         0.0                               0.0   \n",
       "12619         0.0         0.0                               0.0   \n",
       "12620         0.0         0.0                               0.0   \n",
       "\n",
       "       magmaConcentrationDistance_FAR  magmaConcentrationDistance_MEDIUM  \\\n",
       "0                                 0.0                                0.0   \n",
       "1                                 0.0                                0.0   \n",
       "2                                 0.0                                0.0   \n",
       "3                                 0.0                                0.0   \n",
       "4                                 0.0                                0.0   \n",
       "...                               ...                                ...   \n",
       "12616                             0.0                                0.0   \n",
       "12617                             0.0                                0.0   \n",
       "12618                             0.0                                1.0   \n",
       "12619                             0.0                                1.0   \n",
       "12620                             0.0                                1.0   \n",
       "\n",
       "       magmaConcentrationDistance_VERY_CLOSE  \\\n",
       "0                                        1.0   \n",
       "1                                        1.0   \n",
       "2                                        0.0   \n",
       "3                                        0.0   \n",
       "4                                        1.0   \n",
       "...                                      ...   \n",
       "12616                                    0.0   \n",
       "12617                                    0.0   \n",
       "12618                                    0.0   \n",
       "12619                                    0.0   \n",
       "12620                                    0.0   \n",
       "\n",
       "       magmaConcentrationDistance_VERY_FAR  mineralDensity  detectionDepth  \\\n",
       "0                                      0.0       -1.024300        0.036297   \n",
       "1                                      0.0        0.421035       -0.008990   \n",
       "2                                      0.0        0.000000        1.170855   \n",
       "3                                      0.0        0.000000       -1.188836   \n",
       "4                                      0.0       -1.197034       -0.988620   \n",
       "...                                    ...             ...             ...   \n",
       "12616                                  0.0        0.618763        1.421126   \n",
       "12617                                  0.0       -0.517071        0.339005   \n",
       "12618                                  0.0        0.000000        1.085048   \n",
       "12619                                  0.0        0.481407        1.256662   \n",
       "12620                                  0.0        1.683662        2.050377   \n",
       "\n",
       "       longitude  \n",
       "0      -0.816631  \n",
       "1       2.183750  \n",
       "2      -1.171792  \n",
       "3      -0.167580  \n",
       "4      -0.429381  \n",
       "...          ...  \n",
       "12616  -0.462613  \n",
       "12617   1.864209  \n",
       "12618  -1.252170  \n",
       "12619   2.158515  \n",
       "12620   0.053824  \n",
       "\n",
       "[12621 rows x 27 columns]"
      ]
     },
     "execution_count": 38,
     "metadata": {},
     "output_type": "execute_result"
    }
   ],
   "source": [
    "preprocessed_data = preprocessor.fit_transform(X)\n",
    "\n",
    "preprocessed_dataframe = pd.DataFrame(preprocessed_data, columns=preprocessor.get_feature_names_out())\n",
    "preprocessed_dataframe"
   ]
  },
  {
   "cell_type": "code",
   "execution_count": 39,
   "metadata": {},
   "outputs": [
    {
     "data": {
      "text/plain": [
       "<AxesSubplot:>"
      ]
     },
     "execution_count": 39,
     "metadata": {},
     "output_type": "execute_result"
    },
    {
     "data": {
      "image/png": "[encoded data removed]",
      "text/plain": [
       "<Figure size 432x288 with 1 Axes>"
      ]
     },
     "metadata": {
      "needs_background": "light"
     },
     "output_type": "display_data"
    }
   ],
   "source": [
    "train['mineralDensity'].hist(bins=100)"
   ]
  },
  {
   "cell_type": "code",
   "execution_count": 40,
   "metadata": {},
   "outputs": [
    {
     "data": {
      "text/plain": [
       "<AxesSubplot:>"
      ]
     },
     "execution_count": 40,
     "metadata": {},
     "output_type": "execute_result"
    },
    {
     "data": {
      "image/png": "[encoded data removed]",
      "text/plain": [
       "<Figure size 432x288 with 1 Axes>"
      ]
     },
     "metadata": {
      "needs_background": "light"
     },
     "output_type": "display_data"
    }
   ],
   "source": [
    "preprocessed_dataframe['mineralDensity'].hist(bins=100)"
   ]
  },
  {
   "cell_type": "code",
   "execution_count": 41,
   "metadata": {},
   "outputs": [
    {
     "data": {
      "text/plain": [
       "<AxesSubplot:>"
      ]
     },
     "execution_count": 41,
     "metadata": {},
     "output_type": "execute_result"
    },
    {
     "data": {
      "image/png": "[encoded data removed]",
      "text/plain": [
       "<Figure size 432x288 with 1 Axes>"
      ]
     },
     "metadata": {
      "needs_background": "light"
     },
     "output_type": "display_data"
    }
   ],
   "source": [
    "train['temperatureFirstHalfPlanetRotation'].hist(bins=100)"
   ]
  },
  {
   "cell_type": "code",
   "execution_count": 42,
   "metadata": {},
   "outputs": [
    {
     "data": {
      "text/plain": [
       "<AxesSubplot:>"
      ]
     },
     "execution_count": 42,
     "metadata": {},
     "output_type": "execute_result"
    },
    {
     "data": {
      "image/png": "[encoded data removed]",
      "text/plain": [
       "<Figure size 432x288 with 1 Axes>"
      ]
     },
     "metadata": {
      "needs_background": "light"
     },
     "output_type": "display_data"
    }
   ],
   "source": [
    "preprocessed_dataframe['temperatureFirstHalfPlanetRotation'].hist(bins=100)"
   ]
  },
  {
   "cell_type": "code",
   "execution_count": 43,
   "metadata": {},
   "outputs": [
    {
     "data": {
      "text/plain": [
       "1.0"
      ]
     },
     "execution_count": 43,
     "metadata": {},
     "output_type": "execute_result"
    }
   ],
   "source": [
    "grid.best_estimator_.score(X, y)"
   ]
  },
  {
   "cell_type": "code",
   "execution_count": 44,
   "metadata": {},
   "outputs": [],
   "source": [
    "# preprocessor = ColumnTransformer([\n",
    "#         # (name, transformer, columns)\n",
    "#         (\"temperatureFirstHalfPlanetRotation\", make_pipeline(IterativeImputer(missing_values=-999.0), FunctionTransformer(lambda f: (f - 32) / 1.8, feature_names_out=\"one-to-one\"), RobustScaler()), ['temperatureFirstHalfPlanetRotation']), # convert from Fahrenheit to Celsius\n",
    "#         (\"temperatureSecondHalfPlanetRotation\", StandardScaler(), ['temperatureSecondHalfPlanetRotation']), # pass through the column unchanged\n",
    "#         (\"waterStreamDistanceX\", make_pipeline(FunctionTransformer(lambda f: f * 0.3048, feature_names_out=\"one-to-one\"), StandardScaler()), ['waterStreamDistanceX']), # convert from feet to meters\n",
    "#         (\"waterStreamDistanceY\", StandardScaler(), ['waterStreamDistanceY']), # pass through the column unchanged\n",
    "#         (\"planetSection\", OneHotEncoder(handle_unknown = \"ignore\"), ['planetSection']), # one-hot encode the planetSection column\n",
    "#         (\"cover\", OneHotEncoder(handle_unknown='error', drop='first'), ['cover']), # one-hot encode the cover column and drop the first column (the one with the missing values == 0)\n",
    "#         (\"climaticZone\", OrdinalEncoder(handle_unknown=\"use_encoded_value\", unknown_value=-1), ['climaticZone']), # ordinal encode the climaticZone column TODO: drop category 3? what to do? only one row has a 3\n",
    "#         (\"geoZone\", OneHotEncoder(handle_unknown = \"ignore\"), ['geoZone']), # one-hot encode the geoZone column TODO: drop category 5?\n",
    "#         (\"rockSize\", OneHotEncoder(handle_unknown='ignore', drop='first'), ['rockSize']), # one-hot encode the rockSize column and drop the first column (the one with the missing values == 0)\n",
    "#         (\"magmaConcentrationDistance\", OneHotEncoder(handle_unknown = \"ignore\"), ['magmaConcentrationDistance']), # one-hot encode the rockSize column and drop the first column (the one with the missing values == 0) TODO: use Ordinal Encoder?\n",
    "#         (\"mineralDensity\", make_pipeline(IterativeImputer(missing_values=-999.0), RobustScaler()), ['mineralDensity']), # pass through the column unchanged\n",
    "#         (\"detectionDepth\", StandardScaler(), ['detectionDepth']), # pass through the column unchanged TODO: convert km to m?\n",
    "#         (\"longitude\", StandardScaler(), ['longitude']), # pass through the column unchanged TODO: values > 360? do x - 360\n",
    "#     ],\n",
    "#     verbose_feature_names_out=False, remainder='passthrough'\n",
    "# )\n",
    "\n",
    "# def euclidean_distance(x, y):\n",
    "#     res = []\n",
    "#     for i in range(len(x)):\n",
    "#         res.append(math.sqrt(x[i]**2 + y[i]**2))\n",
    "#     return np.array(res)\n",
    "\n",
    "# class CreateVariables(BaseEstimator, TransformerMixin):\n",
    "#     def __init__(self):\n",
    "#         pass\n",
    "        \n",
    "#     def fit(self, X, y = None):\n",
    "#         return self\n",
    "\n",
    "#     def transform(self, X, y = None):\n",
    "#         # waterSteamDistance\n",
    "#         waterStreamDistanceX = X[:,2]\n",
    "#         waterStreamDistanceY = X[:,3]\n",
    "#         waterStreamDistance = euclidean_distance(waterStreamDistanceX, waterStreamDistanceY)\n",
    "#         X = np.append(X, waterStreamDistance.reshape(-1, 1), axis=1)\n",
    "\n",
    "#         # temperature (both planet rotations)\n",
    "#         temperatureFirstHalfPlanetRotation = X[:,0]\n",
    "#         temperatureSecondHalfPlanetRotation = X[:,1]\n",
    "#         meanTemperature = (temperatureFirstHalfPlanetRotation + temperatureSecondHalfPlanetRotation)/2\n",
    "#         X = np.append(X, meanTemperature.reshape(-1, 1), axis=1)\n",
    "\n",
    "#         return X\n",
    "\n",
    "# pipe = Pipeline([\n",
    "#     ('preprocessor', preprocessor),\n",
    "#     ('create_variables', CreateVariables()),\n",
    "# ])\n",
    "\n",
    "# preprocessed_data = pipe.fit_transform(X, y)\n",
    "# reduced_data = PCA(n_components=2).fit_transform(preprocessed_data, y)\n",
    "\n",
    "# print(preprocessed_data.shape)\n",
    "# print(reduced_data.shape)\n",
    "\n",
    "# # reduced_data\n",
    "\n",
    "# # # Plot the PCA results in a scatter plot with the color of the mineral density with a legend\n",
    "# plt.figure(figsize=(10, 6))\n",
    "# plt.scatter(reduced_data[:, 0], reduced_data[:, 1], c=y, cmap='viridis')\n",
    "# plt.xlabel('PC1')\n",
    "# plt.ylabel('PC2')\n",
    "# plt.title('PCA of the data')\n",
    "# plt.legend()\n",
    "# plt.show()"
   ]
  },
  {
   "cell_type": "code",
   "execution_count": 45,
   "metadata": {},
   "outputs": [],
   "source": [
    "# preprocessor = ColumnTransformer([\n",
    "#         # (name, transformer, columns)\n",
    "#         (\"temperatureFirstHalfPlanetRotation\", make_pipeline(IterativeImputer(missing_values=-999.0), FunctionTransformer(lambda f: (f - 32) / 1.8, feature_names_out=\"one-to-one\"), RobustScaler()), ['temperatureFirstHalfPlanetRotation']), # convert from Fahrenheit to Celsius\n",
    "#         (\"temperatureSecondHalfPlanetRotation\", StandardScaler(), ['temperatureSecondHalfPlanetRotation']), # pass through the column unchanged\n",
    "#         (\"waterStreamDistanceX\", make_pipeline(FunctionTransformer(lambda f: f * 0.3048, feature_names_out=\"one-to-one\"), StandardScaler()), ['waterStreamDistanceX']), # convert from feet to meters\n",
    "#         (\"waterStreamDistanceY\", StandardScaler(), ['waterStreamDistanceY']), # pass through the column unchanged\n",
    "#         (\"planetSection\", OneHotEncoder(handle_unknown = \"ignore\"), ['planetSection']), # one-hot encode the planetSection column\n",
    "#         (\"cover\", OneHotEncoder(handle_unknown='error', drop='first'), ['cover']), # one-hot encode the cover column and drop the first column (the one with the missing values == 0)\n",
    "#         (\"climaticZone\", OrdinalEncoder(handle_unknown=\"use_encoded_value\", unknown_value=-1), ['climaticZone']), # ordinal encode the climaticZone column TODO: drop category 3? what to do? only one row has a 3\n",
    "#         (\"geoZone\", OneHotEncoder(handle_unknown = \"ignore\"), ['geoZone']), # one-hot encode the geoZone column TODO: drop category 5?\n",
    "#         (\"rockSize\", OneHotEncoder(handle_unknown='ignore', drop='first'), ['rockSize']), # one-hot encode the rockSize column and drop the first column (the one with the missing values == 0)\n",
    "#         (\"magmaConcentrationDistance\", OneHotEncoder(handle_unknown = \"ignore\"), ['magmaConcentrationDistance']), # one-hot encode the rockSize column and drop the first column (the one with the missing values == 0) TODO: use Ordinal Encoder?\n",
    "#         (\"mineralDensity\", make_pipeline(IterativeImputer(missing_values=-999.0), RobustScaler()), ['mineralDensity']), # pass through the column unchanged\n",
    "#         (\"detectionDepth\", StandardScaler(), ['detectionDepth']), # pass through the column unchanged TODO: convert km to m?\n",
    "#         (\"longitude\", StandardScaler(), ['longitude']), # pass through the column unchanged TODO: values > 360? do x - 360\n",
    "#     ],\n",
    "#     verbose_feature_names_out=False, remainder='passthrough'\n",
    "# )\n",
    "\n",
    "# def euclidean_distance(x, y):\n",
    "#     res = []\n",
    "#     for i in range(len(x)):\n",
    "#         res.append(math.sqrt(x[i]**2 + y[i]**2))\n",
    "#     return np.array(res)\n",
    "\n",
    "# class CreateVariables(BaseEstimator, TransformerMixin):\n",
    "#     def __init__(self):\n",
    "#         pass\n",
    "        \n",
    "#     def fit(self, X, y = None):\n",
    "#         return self\n",
    "\n",
    "#     def transform(self, X, y = None):\n",
    "#         # waterSteamDistance\n",
    "#         waterStreamDistanceX = X[:,2]\n",
    "#         waterStreamDistanceY = X[:,3]\n",
    "#         waterStreamDistance = euclidean_distance(waterStreamDistanceX, waterStreamDistanceY)\n",
    "#         X = np.append(X, waterStreamDistance.reshape(-1, 1), axis=1)\n",
    "\n",
    "#         # temperature (both planet rotations)\n",
    "#         temperatureFirstHalfPlanetRotation = X[:,0]\n",
    "#         temperatureSecondHalfPlanetRotation = X[:,1]\n",
    "#         meanTemperature = (temperatureFirstHalfPlanetRotation + temperatureSecondHalfPlanetRotation)/2\n",
    "#         X = np.append(X, meanTemperature.reshape(-1, 1), axis=1)\n",
    "\n",
    "#         return X\n",
    "\n",
    "# pipe = Pipeline([\n",
    "#     ('preprocessor', preprocessor),\n",
    "#     ('create_variables', CreateVariables())\n",
    "# ])\n",
    "\n",
    "# preprocessed_data = pipe.fit_transform(X, y)\n",
    "# reduced_data = PCA(n_components=3).fit_transform(preprocessed_data, y)\n",
    "\n",
    "# print(preprocessed_data.shape)\n",
    "# print(reduced_data.shape)\n",
    "\n",
    "# # reduced_data\n",
    "\n",
    "# # Create a dataframe with the reduced data and the labels\n",
    "# reduced_data_df = pd.DataFrame(reduced_data, columns=['PC1', 'PC2', 'PC3'])\n",
    "# reduced_data_df['mineralDensity'] = y\n",
    "\n",
    "# # Create an interactive 3D scatter plot of the PCA results with the color of the mineral density with a legend in plotly express\n",
    "# import plotly.express as px\n",
    "\n",
    "# fig = px.scatter_3d(\n",
    "#     reduced_data_df,\n",
    "#     x='PC1',\n",
    "#     y='PC2',\n",
    "#     z='PC3',\n",
    "#     color='mineralDensity',\n",
    "#     color_continuous_scale=px.colors.sequential.Viridis,\n",
    "#     opacity=0.8,\n",
    "#     title='PCA of the data'\n",
    "# )\n",
    "# fig.show()"
   ]
  },
  {
   "cell_type": "markdown",
   "metadata": {},
   "source": [
    "------------------------------------------"
   ]
  },
  {
   "cell_type": "code",
   "execution_count": 20,
   "metadata": {},
   "outputs": [],
   "source": [
    "X_submit = test.drop(['id'], axis=1)\n",
    "\n",
    "X_submit['planetSection'] = X_submit['planetSection'].astype('category')\n",
    "X_submit['geoZone'] = X_submit['geoZone'].astype('category')\n",
    "X_submit['rockSize'] = X_submit['rockSize'].astype('category')\n",
    "X_submit['cover'] = X_submit['cover'].astype('category')\n",
    "X_submit['magmaConcentrationDistance'] = X_submit['magmaConcentrationDistance'].astype('category')"
   ]
  },
  {
   "cell_type": "code",
   "execution_count": 21,
   "metadata": {},
   "outputs": [
    {
     "data": {
      "text/plain": [
       "array([2, 6, 7, ..., 6, 6, 4])"
      ]
     },
     "execution_count": 21,
     "metadata": {},
     "output_type": "execute_result"
    }
   ],
   "source": [
    "y_hat = grid.predict(X_submit)\n",
    "y_hat"
   ]
  },
  {
   "cell_type": "code",
   "execution_count": 22,
   "metadata": {},
   "outputs": [],
   "source": [
    "np.savetxt('knn_submit_dropped_predictions.txt', [y_hat], delimiter=',', fmt='%d')"
   ]
  },
  {
   "cell_type": "code",
   "execution_count": 25,
   "metadata": {},
   "outputs": [],
   "source": [
    "def count_differences(v1, v2):\n",
    "    count = 0\n",
    "    for i in range(len(v1)):\n",
    "        if v1[i] != v2[i]:\n",
    "            count += 1\n",
    "    return count"
   ]
  },
  {
   "cell_type": "code",
   "execution_count": 26,
   "metadata": {},
   "outputs": [],
   "source": [
    "f1 = open('submit_dropped_predictions.txt', 'r')\n",
    "f2 = open('knn_submit_dropped_predictions.txt', 'r')\n",
    "f3 = open('cv_submit_dropped_predictions.txt', 'r')\n",
    "\n",
    "v1 = f1.read().split(',')\n",
    "v2 = f2.read().split(',')\n",
    "v3 = f3.read().split(',')"
   ]
  },
  {
   "cell_type": "code",
   "execution_count": 27,
   "metadata": {},
   "outputs": [
    {
     "data": {
      "text/plain": [
       "328"
      ]
     },
     "execution_count": 27,
     "metadata": {},
     "output_type": "execute_result"
    }
   ],
   "source": [
    "# auto vs. knn\n",
    "count_differences(v1, v2)"
   ]
  },
  {
   "cell_type": "code",
   "execution_count": 28,
   "metadata": {},
   "outputs": [
    {
     "data": {
      "text/plain": [
       "128"
      ]
     },
     "execution_count": 28,
     "metadata": {},
     "output_type": "execute_result"
    }
   ],
   "source": [
    "# auto vs. auto cv\n",
    "count_differences(v1, v3)"
   ]
  },
  {
   "cell_type": "code",
   "execution_count": 29,
   "metadata": {},
   "outputs": [
    {
     "data": {
      "text/plain": [
       "271"
      ]
     },
     "execution_count": 29,
     "metadata": {},
     "output_type": "execute_result"
    }
   ],
   "source": [
    "# knn vs. auto cv\n",
    "count_differences(v2, v3)"
   ]
  },
  {
   "cell_type": "code",
   "execution_count": 31,
   "metadata": {},
   "outputs": [],
   "source": [
    "def count_equal(v1, v2):\n",
    "    count = 0\n",
    "    for i in range(len(v1)):\n",
    "        if v1[i] == v2[i]:\n",
    "            count += 1\n",
    "    return count"
   ]
  },
  {
   "cell_type": "code",
   "execution_count": 32,
   "metadata": {},
   "outputs": [
    {
     "data": {
      "text/plain": [
       "1672"
      ]
     },
     "execution_count": 32,
     "metadata": {},
     "output_type": "execute_result"
    }
   ],
   "source": [
    "# auto vs. knn\n",
    "count_equal(v1, v2)"
   ]
  },
  {
   "cell_type": "code",
   "execution_count": 33,
   "metadata": {},
   "outputs": [
    {
     "data": {
      "text/plain": [
       "1872"
      ]
     },
     "execution_count": 33,
     "metadata": {},
     "output_type": "execute_result"
    }
   ],
   "source": [
    "# auto vs. auto cv\n",
    "count_equal(v1, v3)"
   ]
  },
  {
   "cell_type": "code",
   "execution_count": 34,
   "metadata": {},
   "outputs": [
    {
     "data": {
      "text/plain": [
       "1729"
      ]
     },
     "execution_count": 34,
     "metadata": {},
     "output_type": "execute_result"
    }
   ],
   "source": [
    "# knn vs. auto cv\n",
    "count_equal(v2, v3)"
   ]
  },
  {
   "cell_type": "code",
   "execution_count": 36,
   "metadata": {},
   "outputs": [],
   "source": [
    "def count_equal3(v1, v2, v3):\n",
    "    count = 0\n",
    "    for i in range(len(v1)):\n",
    "        if (v1[i] == v2[i]) and (v1[i] == v3[i]) and (v2[i] == v3[i]):\n",
    "            count += 1\n",
    "    return count"
   ]
  },
  {
   "cell_type": "code",
   "execution_count": 37,
   "metadata": {},
   "outputs": [
    {
     "data": {
      "text/plain": [
       "1641"
      ]
     },
     "execution_count": 37,
     "metadata": {},
     "output_type": "execute_result"
    }
   ],
   "source": [
    "# auto vs. knn vs. auto cv\n",
    "count_equal3(v1, v2, v3)"
   ]
  },
  {
   "cell_type": "code",
   "execution_count": null,
   "metadata": {},
   "outputs": [],
   "source": []
  }
 ],
 "metadata": {
  "interpreter": {
   "hash": "2b432026e43f20cf504aae65236a164c08dc39f216586df0ee869a7227797bc6"
  },
  "kernelspec": {
   "display_name": "Python 3.7.13 64-bit ('fase6')",
   "language": "python",
   "name": "python3"
  },
  "language_info": {
   "codemirror_mode": {
    "name": "ipython",
    "version": 3
   },
   "file_extension": ".py",
   "mimetype": "text/x-python",
   "name": "python",
   "nbconvert_exporter": "python",
   "pygments_lexer": "ipython3",
   "version": "3.7.13"
  },
  "orig_nbformat": 4
 },
 "nbformat": 4,
 "nbformat_minor": 2
}
