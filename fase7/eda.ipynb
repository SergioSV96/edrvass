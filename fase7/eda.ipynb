{
 "cells": [
  {
   "cell_type": "markdown",
   "metadata": {},
   "source": [
    "# Enunciado\n",
    "## Destino: Planeta VASS!\n",
    "Por fin! El sistema que hemos creado ha terminado de analizar las características del planeta y se ha comprobado que es habitable. Después de un largo trayecto y varios inconvenientes, estamos a un paso de cumplir nuestro objetivo!\n",
    "\n",
    "Este último paso es, probablemente, el más importante de todos, aterrizar en el planeta VASS.\n",
    "Para asegurar el éxito del aterrizaje, hemos realizado una serie de experimentos en un espacio de simulación para predecir la manera más eficiente de aterrizar de forma segura.\n",
    "\n",
    "Sin embargo, el simulador ha tenido problemas a la hora de determinar la eficiencia en algunos de los experimentos, por lo que ahora nuestro objetivo será analizar las simulaciones y determinar el nivel de eficiencia de aterrizaje de cada uno de los experimentos en los que falló. Tendremos que tener en cuenta las siguientes observaciones:\n",
    "\n",
    "### Observaciones\n",
    "- Cada uno de los experimentos cuenta con una serie pasos compuestos de estados y acciones de la nave de una simulación determinada.\n",
    "- En cada paso el simulador genera un estado y decide una acción. El siguiente estado se verá determinado por esta acción, y a su vez se decidirá una nueva acción en base a ese nuevo estado, eso hasta que la simulación llegue a su fin.\n",
    "- En cada paso, el simulador determina la contribución individual que ha tenido la acción tomada a la eficiencia total. Finalmente se calculan todas estas contribuciones para determinar la eficiencia total del experimento.\n",
    "- La eficiencia es una función que utiliza internamente el simulador para determinar cuándo está tomando buenas decisiones. Esta función podría estar teniendo en cuenta los cambios que hay en los estados, así como las distintas acciones y variables.\n",
    "- Las simulaciones se han realizado en diversas condiciones: gravedad, viento y turbulencias.\n",
    "- CUIDADO! En algunas de las simulaciones los valores de la gravedad y viento no se guardaron correctamente, por lo que el sistema las ha registrado con un valor de 0.\n",
    "\n",
    "Descarga los datos de los experimentos, analízalos y crea un modelo para predecir la eficiencia total de cada uno de los experimentos. Por último, observa los experimentos del conjunto de test que viene incluido en la descarga de los datos y envía las predicciones de los registros en el orden original separadas por comas, de la siguiente manera:\n",
    "\n",
    "205.12,122.14,80.34,30.15,109.93\n",
    "\n",
    "El ejemplo expuesto se correspondería con las predicciones de los 5 primeros registros, tendréis que subir en una sola línea las 2,000 predicciones usando este formato."
   ]
  },
  {
   "cell_type": "markdown",
   "metadata": {},
   "source": [
    "# How to land the Star Cruiser 42\n",
    "\n",
    "## Context\n",
    "\n",
    "This dataset contains information about simulations of landing a spaceship in a 2D environment.\n",
    "This information can be used to determine the efficiency function in order to evaluate the best actions possible in a future landing.\n",
    "\n",
    "\n",
    "## Metadata\n",
    "Number of train files: 9513\n",
    "Number of test files: 2000\n",
    "Number of variables: 13\n",
    "Target variable: efficiency\n",
    "\n",
    "\n",
    "File variable details:\n",
    "\n",
    "- x_pos # The position of the ship on the X axis, in units relative to the landing platform.\n",
    "- y_pos # The position of the ship on the Y axis, in units relative to the landing platform.\n",
    "- x_vel # Velocity of the ship on the X axis.\n",
    "- y_vel # Velocity of the ship on the Y axis.\n",
    "- angle # The angle of the spaceship in radians.\n",
    "- ang_vel # The angular velocity of the spaceship.\n",
    "- leg_1 # Boolean that represent whether leg 1 is in contact with the ground or not\n",
    "- leg_2 # Boolean that represent whether leg 2 is in contact with the ground or not\n",
    "- main_booster #  The throttle of the main engine.\n",
    "- lat_booster # The throttle of the lateral boosters.\n",
    "\n",
    "The first 6 variables determine the state and each step, and the last two (main_booster and lat_booster) are the actions taken in response\n",
    "to that state, whose repercussions will be seen in the following step.\n",
    "\n",
    "Experiment variable details:\n",
    "- gravity # The magnitude of the gravity acceleration. A value of 0 means that the system didn't register the real value.\n",
    "- wind_power # The maximum magnitude of linear wind applied to the spaceship. A value of 0 means that the system didn't register the real value.\n",
    "- turbulences # The maximum magnitude of rotational wind applied to the spaceship.\n",
    "\n",
    "Target variable detail\n",
    "- efficiency # An internal function of the simulator to evaluate the quality of the landing.\n",
    "    "
   ]
  },
  {
   "cell_type": "code",
   "execution_count": 137,
   "metadata": {},
   "outputs": [],
   "source": [
    "import pandas as pd\n",
    "import numpy as np\n",
    "from scipy.stats import kurtosis, skew\n",
    "\n",
    "import matplotlib.pyplot as plt\n",
    "import seaborn as sns\n",
    "\n",
    "import os, os.path\n",
    "import errno"
   ]
  },
  {
   "cell_type": "markdown",
   "metadata": {},
   "source": [
    "# Experiments summary"
   ]
  },
  {
   "cell_type": "code",
   "execution_count": 138,
   "metadata": {},
   "outputs": [],
   "source": [
    "# Open fase7/data/experiments_summary_test.xlsx and train\n",
    "experiments_summary_test = pd.read_excel('data/experiments_summary_test.xlsx')\n",
    "experiments_summary_train = pd.read_excel('data/experiments_summary_train.xlsx')"
   ]
  },
  {
   "cell_type": "code",
   "execution_count": 139,
   "metadata": {},
   "outputs": [
    {
     "data": {
      "text/html": [
       "<div>\n",
       "<style scoped>\n",
       "    .dataframe tbody tr th:only-of-type {\n",
       "        vertical-align: middle;\n",
       "    }\n",
       "\n",
       "    .dataframe tbody tr th {\n",
       "        vertical-align: top;\n",
       "    }\n",
       "\n",
       "    .dataframe thead th {\n",
       "        text-align: right;\n",
       "    }\n",
       "</style>\n",
       "<table border=\"1\" class=\"dataframe\">\n",
       "  <thead>\n",
       "    <tr style=\"text-align: right;\">\n",
       "      <th></th>\n",
       "      <th>filename</th>\n",
       "      <th>total_timesteps</th>\n",
       "      <th>gravity</th>\n",
       "      <th>wind_power</th>\n",
       "      <th>turbulence_power</th>\n",
       "      <th>efficiency</th>\n",
       "    </tr>\n",
       "  </thead>\n",
       "  <tbody>\n",
       "    <tr>\n",
       "      <th>0</th>\n",
       "      <td>experiment_1.csv</td>\n",
       "      <td>185</td>\n",
       "      <td>-5.375066</td>\n",
       "      <td>14.337393</td>\n",
       "      <td>1.902789</td>\n",
       "      <td>415.69</td>\n",
       "    </tr>\n",
       "    <tr>\n",
       "      <th>1</th>\n",
       "      <td>experiment_2.csv</td>\n",
       "      <td>428</td>\n",
       "      <td>-3.958084</td>\n",
       "      <td>16.376438</td>\n",
       "      <td>1.697932</td>\n",
       "      <td>104.37</td>\n",
       "    </tr>\n",
       "    <tr>\n",
       "      <th>2</th>\n",
       "      <td>experiment_4.csv</td>\n",
       "      <td>193</td>\n",
       "      <td>-3.640152</td>\n",
       "      <td>1.614948</td>\n",
       "      <td>0.192214</td>\n",
       "      <td>411.14</td>\n",
       "    </tr>\n",
       "    <tr>\n",
       "      <th>3</th>\n",
       "      <td>experiment_5.csv</td>\n",
       "      <td>166</td>\n",
       "      <td>0.000000</td>\n",
       "      <td>0.000000</td>\n",
       "      <td>0.242178</td>\n",
       "      <td>414.93</td>\n",
       "    </tr>\n",
       "    <tr>\n",
       "      <th>4</th>\n",
       "      <td>experiment_6.csv</td>\n",
       "      <td>172</td>\n",
       "      <td>-5.289123</td>\n",
       "      <td>15.771525</td>\n",
       "      <td>1.453806</td>\n",
       "      <td>373.85</td>\n",
       "    </tr>\n",
       "    <tr>\n",
       "      <th>...</th>\n",
       "      <td>...</td>\n",
       "      <td>...</td>\n",
       "      <td>...</td>\n",
       "      <td>...</td>\n",
       "      <td>...</td>\n",
       "      <td>...</td>\n",
       "    </tr>\n",
       "    <tr>\n",
       "      <th>9508</th>\n",
       "      <td>experiment_11506.csv</td>\n",
       "      <td>290</td>\n",
       "      <td>0.000000</td>\n",
       "      <td>0.000000</td>\n",
       "      <td>1.734030</td>\n",
       "      <td>413.52</td>\n",
       "    </tr>\n",
       "    <tr>\n",
       "      <th>9509</th>\n",
       "      <td>experiment_11507.csv</td>\n",
       "      <td>80</td>\n",
       "      <td>-9.777887</td>\n",
       "      <td>17.290063</td>\n",
       "      <td>1.830932</td>\n",
       "      <td>-765.06</td>\n",
       "    </tr>\n",
       "    <tr>\n",
       "      <th>9510</th>\n",
       "      <td>experiment_11508.csv</td>\n",
       "      <td>199</td>\n",
       "      <td>-5.563846</td>\n",
       "      <td>14.299549</td>\n",
       "      <td>1.971660</td>\n",
       "      <td>414.10</td>\n",
       "    </tr>\n",
       "    <tr>\n",
       "      <th>9511</th>\n",
       "      <td>experiment_11509.csv</td>\n",
       "      <td>115</td>\n",
       "      <td>0.000000</td>\n",
       "      <td>5.761313</td>\n",
       "      <td>1.203968</td>\n",
       "      <td>41.77</td>\n",
       "    </tr>\n",
       "    <tr>\n",
       "      <th>9512</th>\n",
       "      <td>experiment_11510.csv</td>\n",
       "      <td>93</td>\n",
       "      <td>-9.025862</td>\n",
       "      <td>16.478229</td>\n",
       "      <td>0.756796</td>\n",
       "      <td>323.11</td>\n",
       "    </tr>\n",
       "  </tbody>\n",
       "</table>\n",
       "<p>9513 rows × 6 columns</p>\n",
       "</div>"
      ],
      "text/plain": [
       "                  filename  total_timesteps   gravity  wind_power  \\\n",
       "0         experiment_1.csv              185 -5.375066   14.337393   \n",
       "1         experiment_2.csv              428 -3.958084   16.376438   \n",
       "2         experiment_4.csv              193 -3.640152    1.614948   \n",
       "3         experiment_5.csv              166  0.000000    0.000000   \n",
       "4         experiment_6.csv              172 -5.289123   15.771525   \n",
       "...                    ...              ...       ...         ...   \n",
       "9508  experiment_11506.csv              290  0.000000    0.000000   \n",
       "9509  experiment_11507.csv               80 -9.777887   17.290063   \n",
       "9510  experiment_11508.csv              199 -5.563846   14.299549   \n",
       "9511  experiment_11509.csv              115  0.000000    5.761313   \n",
       "9512  experiment_11510.csv               93 -9.025862   16.478229   \n",
       "\n",
       "      turbulence_power  efficiency  \n",
       "0             1.902789      415.69  \n",
       "1             1.697932      104.37  \n",
       "2             0.192214      411.14  \n",
       "3             0.242178      414.93  \n",
       "4             1.453806      373.85  \n",
       "...                ...         ...  \n",
       "9508          1.734030      413.52  \n",
       "9509          1.830932     -765.06  \n",
       "9510          1.971660      414.10  \n",
       "9511          1.203968       41.77  \n",
       "9512          0.756796      323.11  \n",
       "\n",
       "[9513 rows x 6 columns]"
      ]
     },
     "execution_count": 139,
     "metadata": {},
     "output_type": "execute_result"
    }
   ],
   "source": [
    "experiments_summary_train"
   ]
  },
  {
   "cell_type": "code",
   "execution_count": 140,
   "metadata": {},
   "outputs": [
    {
     "data": {
      "text/html": [
       "<div>\n",
       "<style scoped>\n",
       "    .dataframe tbody tr th:only-of-type {\n",
       "        vertical-align: middle;\n",
       "    }\n",
       "\n",
       "    .dataframe tbody tr th {\n",
       "        vertical-align: top;\n",
       "    }\n",
       "\n",
       "    .dataframe thead th {\n",
       "        text-align: right;\n",
       "    }\n",
       "</style>\n",
       "<table border=\"1\" class=\"dataframe\">\n",
       "  <thead>\n",
       "    <tr style=\"text-align: right;\">\n",
       "      <th></th>\n",
       "      <th>filename</th>\n",
       "      <th>total_timesteps</th>\n",
       "      <th>gravity</th>\n",
       "      <th>wind_power</th>\n",
       "      <th>turbulence_power</th>\n",
       "    </tr>\n",
       "  </thead>\n",
       "  <tbody>\n",
       "    <tr>\n",
       "      <th>0</th>\n",
       "      <td>experiment_0.csv</td>\n",
       "      <td>156</td>\n",
       "      <td>-10.363594</td>\n",
       "      <td>9.555678</td>\n",
       "      <td>0.441689</td>\n",
       "    </tr>\n",
       "    <tr>\n",
       "      <th>1</th>\n",
       "      <td>experiment_3.csv</td>\n",
       "      <td>252</td>\n",
       "      <td>-2.599651</td>\n",
       "      <td>7.094931</td>\n",
       "      <td>0.772004</td>\n",
       "    </tr>\n",
       "    <tr>\n",
       "      <th>2</th>\n",
       "      <td>experiment_8.csv</td>\n",
       "      <td>146</td>\n",
       "      <td>-10.768399</td>\n",
       "      <td>5.744031</td>\n",
       "      <td>0.898704</td>\n",
       "    </tr>\n",
       "    <tr>\n",
       "      <th>3</th>\n",
       "      <td>experiment_10.csv</td>\n",
       "      <td>178</td>\n",
       "      <td>-7.815608</td>\n",
       "      <td>19.640269</td>\n",
       "      <td>1.631348</td>\n",
       "    </tr>\n",
       "    <tr>\n",
       "      <th>4</th>\n",
       "      <td>experiment_14.csv</td>\n",
       "      <td>193</td>\n",
       "      <td>-3.833533</td>\n",
       "      <td>11.007721</td>\n",
       "      <td>1.577970</td>\n",
       "    </tr>\n",
       "    <tr>\n",
       "      <th>...</th>\n",
       "      <td>...</td>\n",
       "      <td>...</td>\n",
       "      <td>...</td>\n",
       "      <td>...</td>\n",
       "      <td>...</td>\n",
       "    </tr>\n",
       "    <tr>\n",
       "      <th>1995</th>\n",
       "      <td>experiment_11478.csv</td>\n",
       "      <td>257</td>\n",
       "      <td>-5.879329</td>\n",
       "      <td>13.640501</td>\n",
       "      <td>0.986232</td>\n",
       "    </tr>\n",
       "    <tr>\n",
       "      <th>1996</th>\n",
       "      <td>experiment_11497.csv</td>\n",
       "      <td>845</td>\n",
       "      <td>-1.886632</td>\n",
       "      <td>0.843915</td>\n",
       "      <td>1.206717</td>\n",
       "    </tr>\n",
       "    <tr>\n",
       "      <th>1997</th>\n",
       "      <td>experiment_11505.csv</td>\n",
       "      <td>128</td>\n",
       "      <td>0.000000</td>\n",
       "      <td>5.633470</td>\n",
       "      <td>1.822572</td>\n",
       "    </tr>\n",
       "    <tr>\n",
       "      <th>1998</th>\n",
       "      <td>experiment_11511.csv</td>\n",
       "      <td>158</td>\n",
       "      <td>-10.947976</td>\n",
       "      <td>5.852086</td>\n",
       "      <td>1.298264</td>\n",
       "    </tr>\n",
       "    <tr>\n",
       "      <th>1999</th>\n",
       "      <td>experiment_11512.csv</td>\n",
       "      <td>153</td>\n",
       "      <td>-11.656888</td>\n",
       "      <td>9.602393</td>\n",
       "      <td>1.293005</td>\n",
       "    </tr>\n",
       "  </tbody>\n",
       "</table>\n",
       "<p>2000 rows × 5 columns</p>\n",
       "</div>"
      ],
      "text/plain": [
       "                  filename  total_timesteps    gravity  wind_power  \\\n",
       "0         experiment_0.csv              156 -10.363594    9.555678   \n",
       "1         experiment_3.csv              252  -2.599651    7.094931   \n",
       "2         experiment_8.csv              146 -10.768399    5.744031   \n",
       "3        experiment_10.csv              178  -7.815608   19.640269   \n",
       "4        experiment_14.csv              193  -3.833533   11.007721   \n",
       "...                    ...              ...        ...         ...   \n",
       "1995  experiment_11478.csv              257  -5.879329   13.640501   \n",
       "1996  experiment_11497.csv              845  -1.886632    0.843915   \n",
       "1997  experiment_11505.csv              128   0.000000    5.633470   \n",
       "1998  experiment_11511.csv              158 -10.947976    5.852086   \n",
       "1999  experiment_11512.csv              153 -11.656888    9.602393   \n",
       "\n",
       "      turbulence_power  \n",
       "0             0.441689  \n",
       "1             0.772004  \n",
       "2             0.898704  \n",
       "3             1.631348  \n",
       "4             1.577970  \n",
       "...                ...  \n",
       "1995          0.986232  \n",
       "1996          1.206717  \n",
       "1997          1.822572  \n",
       "1998          1.298264  \n",
       "1999          1.293005  \n",
       "\n",
       "[2000 rows x 5 columns]"
      ]
     },
     "execution_count": 140,
     "metadata": {},
     "output_type": "execute_result"
    }
   ],
   "source": [
    "experiments_summary_test"
   ]
  },
  {
   "cell_type": "code",
   "execution_count": 141,
   "metadata": {},
   "outputs": [
    {
     "data": {
      "text/html": [
       "<div>\n",
       "<style scoped>\n",
       "    .dataframe tbody tr th:only-of-type {\n",
       "        vertical-align: middle;\n",
       "    }\n",
       "\n",
       "    .dataframe tbody tr th {\n",
       "        vertical-align: top;\n",
       "    }\n",
       "\n",
       "    .dataframe thead th {\n",
       "        text-align: right;\n",
       "    }\n",
       "</style>\n",
       "<table border=\"1\" class=\"dataframe\">\n",
       "  <thead>\n",
       "    <tr style=\"text-align: right;\">\n",
       "      <th></th>\n",
       "      <th>total_timesteps</th>\n",
       "      <th>gravity</th>\n",
       "      <th>wind_power</th>\n",
       "      <th>turbulence_power</th>\n",
       "      <th>efficiency</th>\n",
       "    </tr>\n",
       "  </thead>\n",
       "  <tbody>\n",
       "    <tr>\n",
       "      <th>count</th>\n",
       "      <td>9513.000000</td>\n",
       "      <td>9513.000000</td>\n",
       "      <td>9513.000000</td>\n",
       "      <td>9513.000000</td>\n",
       "      <td>9513.000000</td>\n",
       "    </tr>\n",
       "    <tr>\n",
       "      <th>mean</th>\n",
       "      <td>224.807842</td>\n",
       "      <td>-5.671780</td>\n",
       "      <td>8.985153</td>\n",
       "      <td>0.998284</td>\n",
       "      <td>365.562140</td>\n",
       "    </tr>\n",
       "    <tr>\n",
       "      <th>std</th>\n",
       "      <td>117.874023</td>\n",
       "      <td>3.687404</td>\n",
       "      <td>6.227518</td>\n",
       "      <td>0.576618</td>\n",
       "      <td>201.228677</td>\n",
       "    </tr>\n",
       "    <tr>\n",
       "      <th>min</th>\n",
       "      <td>62.000000</td>\n",
       "      <td>-11.989907</td>\n",
       "      <td>0.000000</td>\n",
       "      <td>0.000089</td>\n",
       "      <td>-4280.660000</td>\n",
       "    </tr>\n",
       "    <tr>\n",
       "      <th>25%</th>\n",
       "      <td>160.000000</td>\n",
       "      <td>-8.853151</td>\n",
       "      <td>3.336993</td>\n",
       "      <td>0.503532</td>\n",
       "      <td>397.430000</td>\n",
       "    </tr>\n",
       "    <tr>\n",
       "      <th>50%</th>\n",
       "      <td>184.000000</td>\n",
       "      <td>-5.646706</td>\n",
       "      <td>8.888824</td>\n",
       "      <td>0.993838</td>\n",
       "      <td>407.420000</td>\n",
       "    </tr>\n",
       "    <tr>\n",
       "      <th>75%</th>\n",
       "      <td>244.000000</td>\n",
       "      <td>-2.633880</td>\n",
       "      <td>14.398609</td>\n",
       "      <td>1.500698</td>\n",
       "      <td>412.150000</td>\n",
       "    </tr>\n",
       "    <tr>\n",
       "      <th>max</th>\n",
       "      <td>996.000000</td>\n",
       "      <td>0.000000</td>\n",
       "      <td>19.996158</td>\n",
       "      <td>1.999953</td>\n",
       "      <td>425.600000</td>\n",
       "    </tr>\n",
       "  </tbody>\n",
       "</table>\n",
       "</div>"
      ],
      "text/plain": [
       "       total_timesteps      gravity   wind_power  turbulence_power  \\\n",
       "count      9513.000000  9513.000000  9513.000000       9513.000000   \n",
       "mean        224.807842    -5.671780     8.985153          0.998284   \n",
       "std         117.874023     3.687404     6.227518          0.576618   \n",
       "min          62.000000   -11.989907     0.000000          0.000089   \n",
       "25%         160.000000    -8.853151     3.336993          0.503532   \n",
       "50%         184.000000    -5.646706     8.888824          0.993838   \n",
       "75%         244.000000    -2.633880    14.398609          1.500698   \n",
       "max         996.000000     0.000000    19.996158          1.999953   \n",
       "\n",
       "        efficiency  \n",
       "count  9513.000000  \n",
       "mean    365.562140  \n",
       "std     201.228677  \n",
       "min   -4280.660000  \n",
       "25%     397.430000  \n",
       "50%     407.420000  \n",
       "75%     412.150000  \n",
       "max     425.600000  "
      ]
     },
     "execution_count": 141,
     "metadata": {},
     "output_type": "execute_result"
    }
   ],
   "source": [
    "experiments_summary_train.describe()"
   ]
  },
  {
   "cell_type": "code",
   "execution_count": 142,
   "metadata": {},
   "outputs": [
    {
     "data": {
      "text/html": [
       "<div>\n",
       "<style scoped>\n",
       "    .dataframe tbody tr th:only-of-type {\n",
       "        vertical-align: middle;\n",
       "    }\n",
       "\n",
       "    .dataframe tbody tr th {\n",
       "        vertical-align: top;\n",
       "    }\n",
       "\n",
       "    .dataframe thead th {\n",
       "        text-align: right;\n",
       "    }\n",
       "</style>\n",
       "<table border=\"1\" class=\"dataframe\">\n",
       "  <thead>\n",
       "    <tr style=\"text-align: right;\">\n",
       "      <th></th>\n",
       "      <th>total_timesteps</th>\n",
       "      <th>gravity</th>\n",
       "      <th>wind_power</th>\n",
       "      <th>turbulence_power</th>\n",
       "    </tr>\n",
       "  </thead>\n",
       "  <tbody>\n",
       "    <tr>\n",
       "      <th>count</th>\n",
       "      <td>2000.000000</td>\n",
       "      <td>2000.000000</td>\n",
       "      <td>2000.000000</td>\n",
       "      <td>2000.000000</td>\n",
       "    </tr>\n",
       "    <tr>\n",
       "      <th>mean</th>\n",
       "      <td>222.474000</td>\n",
       "      <td>-5.832455</td>\n",
       "      <td>8.983764</td>\n",
       "      <td>0.992948</td>\n",
       "    </tr>\n",
       "    <tr>\n",
       "      <th>std</th>\n",
       "      <td>118.231555</td>\n",
       "      <td>3.695817</td>\n",
       "      <td>6.208299</td>\n",
       "      <td>0.573041</td>\n",
       "    </tr>\n",
       "    <tr>\n",
       "      <th>min</th>\n",
       "      <td>65.000000</td>\n",
       "      <td>-11.985971</td>\n",
       "      <td>0.000000</td>\n",
       "      <td>0.001034</td>\n",
       "    </tr>\n",
       "    <tr>\n",
       "      <th>25%</th>\n",
       "      <td>159.000000</td>\n",
       "      <td>-9.104783</td>\n",
       "      <td>3.329954</td>\n",
       "      <td>0.486418</td>\n",
       "    </tr>\n",
       "    <tr>\n",
       "      <th>50%</th>\n",
       "      <td>180.000000</td>\n",
       "      <td>-6.031826</td>\n",
       "      <td>8.929544</td>\n",
       "      <td>0.985516</td>\n",
       "    </tr>\n",
       "    <tr>\n",
       "      <th>75%</th>\n",
       "      <td>234.000000</td>\n",
       "      <td>-2.832137</td>\n",
       "      <td>14.161360</td>\n",
       "      <td>1.484154</td>\n",
       "    </tr>\n",
       "    <tr>\n",
       "      <th>max</th>\n",
       "      <td>951.000000</td>\n",
       "      <td>0.000000</td>\n",
       "      <td>19.999464</td>\n",
       "      <td>1.997806</td>\n",
       "    </tr>\n",
       "  </tbody>\n",
       "</table>\n",
       "</div>"
      ],
      "text/plain": [
       "       total_timesteps      gravity   wind_power  turbulence_power\n",
       "count      2000.000000  2000.000000  2000.000000       2000.000000\n",
       "mean        222.474000    -5.832455     8.983764          0.992948\n",
       "std         118.231555     3.695817     6.208299          0.573041\n",
       "min          65.000000   -11.985971     0.000000          0.001034\n",
       "25%         159.000000    -9.104783     3.329954          0.486418\n",
       "50%         180.000000    -6.031826     8.929544          0.985516\n",
       "75%         234.000000    -2.832137    14.161360          1.484154\n",
       "max         951.000000     0.000000    19.999464          1.997806"
      ]
     },
     "execution_count": 142,
     "metadata": {},
     "output_type": "execute_result"
    }
   ],
   "source": [
    "experiments_summary_test.describe()"
   ]
  },
  {
   "cell_type": "code",
   "execution_count": 143,
   "metadata": {},
   "outputs": [
    {
     "data": {
      "text/html": [
       "<div>\n",
       "<style scoped>\n",
       "    .dataframe tbody tr th:only-of-type {\n",
       "        vertical-align: middle;\n",
       "    }\n",
       "\n",
       "    .dataframe tbody tr th {\n",
       "        vertical-align: top;\n",
       "    }\n",
       "\n",
       "    .dataframe thead th {\n",
       "        text-align: right;\n",
       "    }\n",
       "</style>\n",
       "<table border=\"1\" class=\"dataframe\">\n",
       "  <thead>\n",
       "    <tr style=\"text-align: right;\">\n",
       "      <th></th>\n",
       "      <th>total_timesteps</th>\n",
       "      <th>gravity</th>\n",
       "      <th>wind_power</th>\n",
       "      <th>turbulence_power</th>\n",
       "      <th>efficiency</th>\n",
       "    </tr>\n",
       "  </thead>\n",
       "  <tbody>\n",
       "    <tr>\n",
       "      <th>count</th>\n",
       "      <td>11513.000000</td>\n",
       "      <td>11513.000000</td>\n",
       "      <td>11513.000000</td>\n",
       "      <td>11513.000000</td>\n",
       "      <td>9513.000000</td>\n",
       "    </tr>\n",
       "    <tr>\n",
       "      <th>mean</th>\n",
       "      <td>224.402415</td>\n",
       "      <td>-5.699692</td>\n",
       "      <td>8.984911</td>\n",
       "      <td>0.997357</td>\n",
       "      <td>365.562140</td>\n",
       "    </tr>\n",
       "    <tr>\n",
       "      <th>std</th>\n",
       "      <td>117.934382</td>\n",
       "      <td>3.689208</td>\n",
       "      <td>6.223914</td>\n",
       "      <td>0.575977</td>\n",
       "      <td>201.228677</td>\n",
       "    </tr>\n",
       "    <tr>\n",
       "      <th>min</th>\n",
       "      <td>62.000000</td>\n",
       "      <td>-11.989907</td>\n",
       "      <td>0.000000</td>\n",
       "      <td>0.000089</td>\n",
       "      <td>-4280.660000</td>\n",
       "    </tr>\n",
       "    <tr>\n",
       "      <th>25%</th>\n",
       "      <td>159.000000</td>\n",
       "      <td>-8.886684</td>\n",
       "      <td>3.331795</td>\n",
       "      <td>0.499894</td>\n",
       "      <td>397.430000</td>\n",
       "    </tr>\n",
       "    <tr>\n",
       "      <th>50%</th>\n",
       "      <td>184.000000</td>\n",
       "      <td>-5.730175</td>\n",
       "      <td>8.897582</td>\n",
       "      <td>0.993386</td>\n",
       "      <td>407.420000</td>\n",
       "    </tr>\n",
       "    <tr>\n",
       "      <th>75%</th>\n",
       "      <td>242.000000</td>\n",
       "      <td>-2.668897</td>\n",
       "      <td>14.352806</td>\n",
       "      <td>1.497393</td>\n",
       "      <td>412.150000</td>\n",
       "    </tr>\n",
       "    <tr>\n",
       "      <th>max</th>\n",
       "      <td>996.000000</td>\n",
       "      <td>0.000000</td>\n",
       "      <td>19.999464</td>\n",
       "      <td>1.999953</td>\n",
       "      <td>425.600000</td>\n",
       "    </tr>\n",
       "  </tbody>\n",
       "</table>\n",
       "</div>"
      ],
      "text/plain": [
       "       total_timesteps       gravity    wind_power  turbulence_power  \\\n",
       "count     11513.000000  11513.000000  11513.000000      11513.000000   \n",
       "mean        224.402415     -5.699692      8.984911          0.997357   \n",
       "std         117.934382      3.689208      6.223914          0.575977   \n",
       "min          62.000000    -11.989907      0.000000          0.000089   \n",
       "25%         159.000000     -8.886684      3.331795          0.499894   \n",
       "50%         184.000000     -5.730175      8.897582          0.993386   \n",
       "75%         242.000000     -2.668897     14.352806          1.497393   \n",
       "max         996.000000      0.000000     19.999464          1.999953   \n",
       "\n",
       "        efficiency  \n",
       "count  9513.000000  \n",
       "mean    365.562140  \n",
       "std     201.228677  \n",
       "min   -4280.660000  \n",
       "25%     397.430000  \n",
       "50%     407.420000  \n",
       "75%     412.150000  \n",
       "max     425.600000  "
      ]
     },
     "execution_count": 143,
     "metadata": {},
     "output_type": "execute_result"
    }
   ],
   "source": [
    "experiments_summary = pd.concat([experiments_summary_train, experiments_summary_test], ignore_index=True)\n",
    "experiments_summary.describe()"
   ]
  },
  {
   "cell_type": "markdown",
   "metadata": {},
   "source": [
    "Los datos con los que vamos a trabajar son experimentos que se componen por series temporales de longitud variable. Para un experimento i, contamos con un conjunto de datos de la forma (t_j, x_j), donde t_j es el timestamp y x_j el vector de variables.\n",
    "\n",
    "Cada experimento i cuenta con:\n",
    "- gravity\n",
    "- wind_power\n",
    "- tubulence_power\n",
    "- eficciency\n",
    "\n",
    "El vector de variables x_j está compuesto por las variables:\n",
    "- x_pos\n",
    "- y_pos\n",
    "- x_vel\n",
    "- y_vel\n",
    "- angle\n",
    "- ang_vel\n",
    "- leg1\n",
    "- leg2\n",
    "- main_booster\n",
    "- lat_booster\n"
   ]
  },
  {
   "cell_type": "code",
   "execution_count": 144,
   "metadata": {},
   "outputs": [
    {
     "data": {
      "image/png": "[encoded data removed]",
      "text/plain": [
       "<Figure size 648x216 with 1 Axes>"
      ]
     },
     "metadata": {
      "needs_background": "light"
     },
     "output_type": "display_data"
    },
    {
     "name": "stdout",
     "output_type": "stream",
     "text": [
      "Skewness: 2.7097333474456917\n",
      "Kurtosis: 9.403960196289452\n"
     ]
    },
    {
     "data": {
      "image/png": "[encoded data removed]",
      "text/plain": [
       "<Figure size 648x216 with 1 Axes>"
      ]
     },
     "metadata": {
      "needs_background": "light"
     },
     "output_type": "display_data"
    },
    {
     "name": "stdout",
     "output_type": "stream",
     "text": [
      "Skewness: 0.0401420069587474\n",
      "Kurtosis: -1.1740127789158386\n"
     ]
    },
    {
     "data": {
      "image/png": "[encoded data removed]",
      "text/plain": [
       "<Figure size 648x216 with 1 Axes>"
      ]
     },
     "metadata": {
      "needs_background": "light"
     },
     "output_type": "display_data"
    },
    {
     "name": "stdout",
     "output_type": "stream",
     "text": [
      "Skewness: 0.07695119224147386\n",
      "Kurtosis: -1.2621910533002971\n"
     ]
    },
    {
     "data": {
      "image/png": "[encoded data removed]",
      "text/plain": [
       "<Figure size 648x216 with 1 Axes>"
      ]
     },
     "metadata": {
      "needs_background": "light"
     },
     "output_type": "display_data"
    },
    {
     "name": "stdout",
     "output_type": "stream",
     "text": [
      "Skewness: 0.010665316623490222\n",
      "Kurtosis: -1.1924621903124586\n"
     ]
    },
    {
     "data": {
      "image/png": "[encoded data removed]",
      "text/plain": [
       "<Figure size 648x216 with 1 Axes>"
      ]
     },
     "metadata": {
      "needs_background": "light"
     },
     "output_type": "display_data"
    },
    {
     "name": "stdout",
     "output_type": "stream",
     "text": [
      "Skewness: -10.097286276431895\n",
      "Kurtosis: 137.16759062025895\n"
     ]
    }
   ],
   "source": [
    "for col in experiments_summary_train.columns[1:]:\n",
    "    fig = plt.figure(figsize=(9, 3))\n",
    "    sns.histplot(data=experiments_summary_train, x=col, kde=True)\n",
    "    plt.show()\n",
    "    fig.clf()\n",
    "\n",
    "    print('Skewness:', skew(experiments_summary_train[col]))\n",
    "    print('Kurtosis:', kurtosis(experiments_summary_train[col]))"
   ]
  },
  {
   "cell_type": "code",
   "execution_count": 145,
   "metadata": {},
   "outputs": [
    {
     "data": {
      "image/png": "[encoded data removed]",
      "text/plain": [
       "<Figure size 648x216 with 1 Axes>"
      ]
     },
     "metadata": {
      "needs_background": "light"
     },
     "output_type": "display_data"
    },
    {
     "name": "stdout",
     "output_type": "stream",
     "text": [
      "Skewness: 2.742135633358109\n",
      "Kurtosis: 9.128657314846805\n"
     ]
    },
    {
     "data": {
      "image/png": "[encoded data removed]",
      "text/plain": [
       "<Figure size 648x216 with 1 Axes>"
      ]
     },
     "metadata": {
      "needs_background": "light"
     },
     "output_type": "display_data"
    },
    {
     "name": "stdout",
     "output_type": "stream",
     "text": [
      "Skewness: 0.11420310856212346\n",
      "Kurtosis: -1.1639227309503517\n"
     ]
    },
    {
     "data": {
      "image/png": "[encoded data removed]",
      "text/plain": [
       "<Figure size 648x216 with 1 Axes>"
      ]
     },
     "metadata": {
      "needs_background": "light"
     },
     "output_type": "display_data"
    },
    {
     "name": "stdout",
     "output_type": "stream",
     "text": [
      "Skewness: 0.10474973690160508\n",
      "Kurtosis: -1.2214878634974755\n"
     ]
    },
    {
     "data": {
      "image/png": "[encoded data removed]",
      "text/plain": [
       "<Figure size 648x216 with 1 Axes>"
      ]
     },
     "metadata": {
      "needs_background": "light"
     },
     "output_type": "display_data"
    },
    {
     "name": "stdout",
     "output_type": "stream",
     "text": [
      "Skewness: 0.023880402596218944\n",
      "Kurtosis: -1.177876908654558\n"
     ]
    }
   ],
   "source": [
    "for col in experiments_summary_test.columns[1:]:\n",
    "    fig = plt.figure(figsize=(9, 3))\n",
    "    sns.histplot(data=experiments_summary_test, x=col, kde=True)\n",
    "    plt.show()\n",
    "    fig.clf()\n",
    "\n",
    "    print('Skewness:', skew(experiments_summary_test[col]))\n",
    "    print('Kurtosis:', kurtosis(experiments_summary_test[col]))"
   ]
  },
  {
   "cell_type": "code",
   "execution_count": 146,
   "metadata": {},
   "outputs": [
    {
     "name": "stdout",
     "output_type": "stream",
     "text": [
      "3\n"
     ]
    }
   ],
   "source": [
    "for q in range(100):\n",
    "    if np.percentile(experiments_summary_train['efficiency'], q) >= 0:\n",
    "        print(q)\n",
    "        break"
   ]
  },
  {
   "cell_type": "code",
   "execution_count": 147,
   "metadata": {},
   "outputs": [
    {
     "data": {
      "image/png": "[encoded data removed]",
      "text/plain": [
       "<Figure size 648x216 with 1 Axes>"
      ]
     },
     "metadata": {
      "needs_background": "light"
     },
     "output_type": "display_data"
    }
   ],
   "source": [
    "fig = plt.figure(figsize=(9, 3))\n",
    "sns.histplot(data=experiments_summary_train[experiments_summary_train['efficiency'] > 0], x='efficiency', kde=True)\n",
    "plt.show()\n",
    "fig.clf()"
   ]
  },
  {
   "cell_type": "code",
   "execution_count": 148,
   "metadata": {},
   "outputs": [
    {
     "name": "stdout",
     "output_type": "stream",
     "text": [
      "9\n"
     ]
    }
   ],
   "source": [
    "for q in range(100):\n",
    "    if np.percentile(experiments_summary_train['efficiency'], q) >= 350:\n",
    "        print(q)\n",
    "        break"
   ]
  },
  {
   "cell_type": "markdown",
   "metadata": {},
   "source": [
    "Los dos conjuntos siguen la misma distribución para las variables como es de esperar, además de contar con los outliers comentados en el enunciado del ejercicio correspondientes al valor 0 para las variables gravity y wind_power.\n",
    "\n",
    "Para la variable total_timesteps, podemos ver que aunque el 75% de las entradas tiene de un valor aproximadamente menor a 240 existen entradas que se extienden hasta los 900. \n",
    "\n",
    "Para la variable total_timesteps podemos ver que el 75% de las series cuenta con un timestamp menor a 242. El resto de casos se tratan de outliers, es decir, experimentos para los que el aterrizaje ha necesitado más tiempo. Esta variable se trata de una distribución de cola larga sesgada a la derecha.\n",
    "\n",
    "Para las variables gravity y wind_power siguen una distribución uniforme, a excepción de las entradas con valor 0 para estas variables ya que se tratan de valores no registrados por el sistema.\n",
    "\n",
    "Para la variable efficiency se observa una distribución de cola larga muy sesgada a la izquierda. El 3% de las entradas cuenta con un valor negativo para efficiency, por lo que la mayoría de entradas cuentan con un valor positivo para la variable. Además, un 91% de estas se encuentran entre 350 y 425.6."
   ]
  },
  {
   "cell_type": "code",
   "execution_count": 149,
   "metadata": {},
   "outputs": [],
   "source": [
    "def get_nans_experiments_summary(experiments_summary):\n",
    "    gravity_nans = (experiments_summary['gravity'] == 0).sum()\n",
    "    wind_power_nans = (experiments_summary['wind_power'] == 0).sum()\n",
    "    gravity_wind_power_nans = ((experiments_summary[['gravity', 'wind_power']] == 0).sum(axis=1) == 2).sum()\n",
    "\n",
    "    return gravity_nans, wind_power_nans, gravity_wind_power_nans"
   ]
  },
  {
   "cell_type": "code",
   "execution_count": 150,
   "metadata": {},
   "outputs": [
    {
     "name": "stdout",
     "output_type": "stream",
     "text": [
      "(1412, 948, 133)\n",
      "(289, 190, 23)\n"
     ]
    }
   ],
   "source": [
    "print(get_nans_experiments_summary(experiments_summary_train))\n",
    "print(get_nans_experiments_summary(experiments_summary_test))"
   ]
  },
  {
   "cell_type": "markdown",
   "metadata": {},
   "source": [
    "# Experiments' series"
   ]
  },
  {
   "cell_type": "code",
   "execution_count": 151,
   "metadata": {},
   "outputs": [],
   "source": [
    "def get_nans_experiments_series(series_path):\n",
    "    nans_experiments = dict()\n",
    "\n",
    "    for filename in os.listdir(series_path):\n",
    "        series_file = os.path.join(series_path, filename)\n",
    "        experiment_series = pd.read_csv(series_file)\n",
    "\n",
    "        nans_experiments[filename] = experiment_series.isnull().sum().sum()\n",
    "\n",
    "    nans_experiments = pd.DataFrame.from_dict(nans_experiments, orient='index')\n",
    "    nans_experiments = nans_experiments.reset_index()\n",
    "    nans_experiments.columns = ['experiment', 'nans']\n",
    "    return nans_experiments"
   ]
  },
  {
   "cell_type": "code",
   "execution_count": 152,
   "metadata": {},
   "outputs": [],
   "source": [
    "train_series_path = 'data/train'\n",
    "test_series_path = 'data/test'\n",
    "\n",
    "train_series_nans = get_nans_experiments_series(train_series_path)\n",
    "test_series_nans = get_nans_experiments_series(test_series_path)"
   ]
  },
  {
   "cell_type": "code",
   "execution_count": 153,
   "metadata": {},
   "outputs": [
    {
     "data": {
      "image/png": "[encoded data removed]",
      "text/plain": [
       "<Figure size 648x216 with 1 Axes>"
      ]
     },
     "metadata": {
      "needs_background": "light"
     },
     "output_type": "display_data"
    },
    {
     "data": {
      "image/png": "[encoded data removed]",
      "text/plain": [
       "<Figure size 648x216 with 1 Axes>"
      ]
     },
     "metadata": {
      "needs_background": "light"
     },
     "output_type": "display_data"
    },
    {
     "data": {
      "image/png": "[encoded data removed]",
      "text/plain": [
       "<Figure size 648x216 with 1 Axes>"
      ]
     },
     "metadata": {
      "needs_background": "light"
     },
     "output_type": "display_data"
    },
    {
     "data": {
      "image/png": "[encoded data removed]",
      "text/plain": [
       "<Figure size 648x216 with 1 Axes>"
      ]
     },
     "metadata": {
      "needs_background": "light"
     },
     "output_type": "display_data"
    }
   ],
   "source": [
    "fig = plt.figure(figsize=(9, 3))\n",
    "sns.countplot(data=train_series_nans, x='nans')\n",
    "plt.title('NaNs in train series')\n",
    "plt.show()\n",
    "fig.clf()\n",
    "\n",
    "fig = plt.figure(figsize=(9, 3))\n",
    "sns.countplot(data=test_series_nans, x='nans')\n",
    "plt.title('NaNs in test series')\n",
    "plt.show()\n",
    "fig.clf()\n",
    "\n",
    "fig = plt.figure(figsize=(9, 3))\n",
    "sns.countplot(data=train_series_nans[-(train_series_nans == 0)], x='nans')\n",
    "plt.title('NaNs in train series')\n",
    "plt.show()\n",
    "fig.clf()\n",
    "\n",
    "fig = plt.figure(figsize=(9, 3))\n",
    "sns.countplot(data=test_series_nans[-(test_series_nans == 0)], x='nans')\n",
    "plt.title('NaNs in test series')\n",
    "plt.show()\n",
    "fig.clf()"
   ]
  },
  {
   "cell_type": "markdown",
   "metadata": {},
   "source": [
    "### Primera toma de contacto\n",
    "Tiene pinta de ser un problema de aprendizaje por refuerzo (reinforcement learning), pero creo que también podría ser un problema de redes neuronales recurrentes.\n",
    "\n",
    "#### Aprendizaje por refuerzo\n",
    "El aprendizaje por refuerzo es una técnica de aprendizaje que consiste en una serie de iteraciones de entrenamiento, donde el objetivo es aprender a predecir el estado siguiente a partir del estado actual. https://es.wikipedia.org/wiki/Aprendizaje_por_refuerzo\n",
    "![](https://upload.wikimedia.org/wikipedia/commons/thumb/1/1b/Reinforcement_learning_diagram.svg/250px-Reinforcement_learning_diagram.svg.png \"RL\")\n",
    "\n",
    "\n",
    "Pensandolo mejor, es un problema supervisado, por lo que no creo que sea un problema de aprendizaje por refuerzo, aunque sí parece que el \"simulador\" que genera estos experimentos internamente es una inteligencia artificial de Reinforcement Learning.\n",
    "Nosotros lo que tenemos que hacer es aprender a predecir la valoración de todo el conjunto de acciones de cada experimento.\n",
    "\n",
    "#### Idea de red neuronal recurrente\n",
    "La idea de la red neuronal recurrente es que la red se comporte como una máquina de estados, y que cada vez que se ejecuta una acción, se guarda el estado actual en una matriz de estados, y se guarda la acción que se ha tomado en una matriz de acciones. Podríamos probar con una LSTM.\n",
    "\n",
    "![](https://upload.wikimedia.org/wikipedia/commons/thumb/9/93/LSTM_Cell.svg/300px-LSTM_Cell.svg.png \"LSTM\")"
   ]
  },
  {
   "cell_type": "markdown",
   "metadata": {},
   "source": [
    "# Planteamiento como problema de aprendizaje por refuerzo (reinforcement learning)"
   ]
  },
  {
   "cell_type": "markdown",
   "metadata": {},
   "source": [
    "Un problema de aprendizaje por refuerzo cuenta con los siguientes elementos:\n",
    "\n",
    "- Estado: Situación del agente. En el problema se representa por las variables:\n",
    "    - x_pos, y_pos\n",
    "    - x_vel, y_vel\n",
    "    - angle, angle_vel\n",
    "    - leg1, leg2\n",
    "\n",
    "- Acciones: Acciones que puede realizar el agente. En el problema se representan por las variables:\n",
    "    - main_booster\n",
    "    - lat_booster\n",
    "\n",
    "\n",
    "- Entorno: Entorno en el que se encuentra el agente. En el problema se representa por las variables:\n",
    "    - gravity\n",
    "    - wind_power\n",
    "    - turbulences"
   ]
  },
  {
   "cell_type": "markdown",
   "metadata": {},
   "source": [
    "# Preprocessing"
   ]
  },
  {
   "cell_type": "markdown",
   "metadata": {},
   "source": [
    "## Impute missing values in experiments summary"
   ]
  },
  {
   "cell_type": "code",
   "execution_count": 154,
   "metadata": {},
   "outputs": [],
   "source": [
    "from sklearn.impute import KNNImputer"
   ]
  },
  {
   "cell_type": "code",
   "execution_count": 155,
   "metadata": {},
   "outputs": [],
   "source": [
    "def knn_impute_summary_only(experiments_summary):\n",
    "    experiments_summary_knn = experiments_summary[['total_timesteps', 'gravity', 'wind_power', 'turbulence_power']].copy()\n",
    "\n",
    "    experiments_summary_knn.loc[experiments_summary_knn['gravity'] == 0, 'gravity'] = np.nan\n",
    "    experiments_summary_knn.loc[experiments_summary_knn['wind_power'] == 0, 'wind_power'] = np.nan\n",
    "\n",
    "    imputer = KNNImputer(n_neighbors=5)\n",
    "    imputed_series = imputer.fit_transform(experiments_summary_knn.values)\n",
    "    imputed_series = pd.DataFrame(imputed_series, columns=experiments_summary_knn.columns)\n",
    "    imputed_series = imputed_series.set_index(experiments_summary_knn.index)\n",
    "\n",
    "    experiments_summary_copy = experiments_summary.copy()\n",
    "    experiments_summary_copy[['total_timesteps', 'gravity', 'wind_power', 'turbulence_power']] = imputed_series\n",
    "\n",
    "    return experiments_summary_copy"
   ]
  },
  {
   "cell_type": "code",
   "execution_count": 156,
   "metadata": {},
   "outputs": [],
   "source": [
    "experiments_summary_train_knn_imputed = knn_impute_summary_only(experiments_summary_train)\n",
    "experiments_summary_test_knn_imputed = knn_impute_summary_only(experiments_summary_test)"
   ]
  },
  {
   "cell_type": "code",
   "execution_count": 157,
   "metadata": {},
   "outputs": [
    {
     "name": "stdout",
     "output_type": "stream",
     "text": [
      "(0, 0, 0)\n",
      "(0, 0, 0)\n"
     ]
    }
   ],
   "source": [
    "print(get_nans_experiments_summary(experiments_summary_train_knn_imputed))\n",
    "print(get_nans_experiments_summary(experiments_summary_test_knn_imputed))"
   ]
  },
  {
   "cell_type": "code",
   "execution_count": 158,
   "metadata": {},
   "outputs": [],
   "source": [
    "experiments_summary_train_knn_imputed.to_excel('data/experiments_summary_train_knn_imputed.xlsx')\n",
    "experiments_summary_test_knn_imputed.to_excel('data/experiments_summary_test_knn_imputed.xlsx')  "
   ]
  },
  {
   "cell_type": "markdown",
   "metadata": {},
   "source": [
    "## Adding static fields to time series"
   ]
  },
  {
   "cell_type": "code",
   "execution_count": 26,
   "metadata": {},
   "outputs": [],
   "source": [
    "def mkdir_p(path):\n",
    "    try:\n",
    "        os.makedirs(path)\n",
    "    except OSError as exc: # Python >2.5\n",
    "        if exc.errno == errno.EEXIST and os.path.isdir(path):\n",
    "            pass\n",
    "        else: raise\n",
    "\n",
    "def safe_open_w(path):\n",
    "    mkdir_p(os.path.dirname(path))\n",
    "    return open(path, 'w')"
   ]
  },
  {
   "cell_type": "code",
   "execution_count": 27,
   "metadata": {},
   "outputs": [],
   "source": [
    "train_series_path = 'data/train'\n",
    "test_series_path = 'data/test'\n",
    "# train_experiments_summary_path = 'data/experiments_summary_train.xlsx'\n",
    "# test_experiments_summary_path = 'data/experiments_summary_test.xlsx'\n",
    "train_experiments_summary_path = 'data/experiments_summary_train_knn_imputed.xlsx'\n",
    "test_experiments_summary_path = 'data/experiments_summary_test_knn_imputed.xlsx'"
   ]
  },
  {
   "cell_type": "code",
   "execution_count": 30,
   "metadata": {},
   "outputs": [
    {
     "name": "stderr",
     "output_type": "stream",
     "text": [
      "/tmp/ipykernel_31821/2960902388.py:42: VisibleDeprecationWarning: Creating an ndarray from ragged nested sequences (which is a list-or-tuple of lists-or-tuples-or ndarrays with different lengths or shapes) is deprecated. If you meant to do this, you must specify 'dtype=object' when creating the ndarray.\n",
      "  return np.array(X), np.array(y)\n",
      "/tmp/ipykernel_31821/2960902388.py:44: VisibleDeprecationWarning: Creating an ndarray from ragged nested sequences (which is a list-or-tuple of lists-or-tuples-or ndarrays with different lengths or shapes) is deprecated. If you meant to do this, you must specify 'dtype=object' when creating the ndarray.\n",
      "  return np.array(X)\n"
     ]
    }
   ],
   "source": [
    "# Now that we have added the static variables (gravity, wind_power, turbulence_power)\n",
    "# Create a numpy array of shape (samples, timesteps, features) from several csv files and assign each to the target variable (efficiency)\n",
    "# - Load the data from the csv files\n",
    "# - Create a numpy array of shape (samples, timesteps, features)\n",
    "# - Assign each numpy array to a target variable\n",
    "# - Return the target variable\n",
    "def transform_data(series_path, experiments_summary_path, target_variable=None):\n",
    "    experiments_summary = pd.read_excel(experiments_summary_path)\n",
    "    experiments_summary = experiments_summary.set_index('filename')\n",
    "\n",
    "    X = []\n",
    "    y = []\n",
    "    for filename in os.listdir(series_path):\n",
    "        series_file = os.path.join(series_path, filename)\n",
    "        experiment_series = pd.read_csv(series_file)\n",
    "        \n",
    "        experiment_summary = experiments_summary.loc[filename]\n",
    "        \n",
    "        # Preprocessing steps\n",
    "        # - Add static fields\n",
    "        # - Remove NaNs\n",
    "        for static_var in ['gravity', 'wind_power', 'turbulence_power']:\n",
    "            experiment_series[static_var] = np.repeat(experiment_summary[static_var], experiment_summary['total_timesteps']+1)\n",
    "        \n",
    "        # KNN imputation on NaNs\n",
    "        # - Create a KNN imputer\n",
    "        # - Fit the imputer on the data\n",
    "        # - Transform the data\n",
    "        # - Return the transformed data\n",
    "        imputer = KNNImputer(n_neighbors=5)\n",
    "        imputed_series = imputer.fit_transform(experiment_series.values)\n",
    "        imputed_series = pd.DataFrame(imputed_series, columns=experiment_series.columns)\n",
    "        imputed_series = imputed_series.set_index(experiment_series.index)\n",
    "        \n",
    "        # X.append(experiment_series.values)\n",
    "        X.append(imputed_series.values)\n",
    "\n",
    "        if target_variable is not None:\n",
    "            y.append(experiment_summary[target_variable])\n",
    "    \n",
    "    if target_variable is not None:\n",
    "        return np.array(X), np.array(y)\n",
    "    else:\n",
    "        return np.array(X)\n",
    "\n",
    "train_X, train_y = transform_data(train_series_path, train_experiments_summary_path, 'efficiency')\n",
    "test_X = transform_data(test_series_path, test_experiments_summary_path)\n",
    "\n",
    "# Dump the data to a numpy files\n",
    "np.save('data/train_X.npy', train_X)\n",
    "np.save('data/train_y.npy', train_y)\n",
    "np.save('data/test_X.npy', test_X)"
   ]
  },
  {
   "cell_type": "code",
   "execution_count": 31,
   "metadata": {},
   "outputs": [],
   "source": [
    "# Load the data from the numpy files and transform it to (samples, timesteps, features)\n",
    "train_X, train_y = np.load('data/train_X.npy', allow_pickle=True), np.load('data/train_y.npy', allow_pickle=True)\n",
    "test_X = np.load('data/test_X.npy', allow_pickle=True)"
   ]
  },
  {
   "cell_type": "code",
   "execution_count": 32,
   "metadata": {},
   "outputs": [
    {
     "name": "stdout",
     "output_type": "stream",
     "text": [
      "object\n",
      "float64\n",
      "object\n",
      "(9513,) (9513,)\n",
      "(189, 13) ()\n",
      "[[-1.53751369e-03  1.40325153e+00 -1.55660763e-01 ... -6.21445902e+00\n",
      "   4.28340138e+00  3.70362300e-01]\n",
      " [-3.12347407e-03  1.39573336e+00 -1.62180588e-01 ... -6.21445902e+00\n",
      "   4.28340138e+00  3.70362300e-01]\n",
      " [-4.76570148e-03  1.38783658e+00 -1.68811649e-01 ... -6.21445902e+00\n",
      "   4.28340138e+00  3.70362300e-01]\n",
      " ...\n",
      " [-8.84067565e-02 -6.48655870e-04 -3.39273782e-08 ... -6.21445902e+00\n",
      "   4.28340138e+00  3.70362300e-01]\n",
      " [-8.84067565e-02 -6.48655870e-04 -4.38394423e-08 ... -6.21445902e+00\n",
      "   4.28340138e+00  3.70362300e-01]\n",
      " [-8.84067565e-02 -6.48655870e-04  0.00000000e+00 ... -6.21445902e+00\n",
      "   4.28340138e+00  3.70362300e-01]] 405.06\n",
      "0\n",
      "0\n",
      "0\n"
     ]
    }
   ],
   "source": [
    "print(train_X.dtype)\n",
    "print(train_y.dtype)\n",
    "print(test_X.dtype)\n",
    "\n",
    "print(train_X.shape, train_y.shape)\n",
    "print(train_X[0].shape, train_y[0].shape)\n",
    "print(train_X[0], train_y[0])\n",
    "\n",
    "# Check nans in numpy arrays\n",
    "print(pd.isnull(train_X).sum())\n",
    "print(pd.isnull(train_y).sum())\n",
    "print(pd.isnull(test_X).sum())"
   ]
  },
  {
   "cell_type": "code",
   "execution_count": 33,
   "metadata": {},
   "outputs": [
    {
     "name": "stdout",
     "output_type": "stream",
     "text": [
      "(9513, 997, 13) (9513,)\n",
      "(997, 13) ()\n",
      "(2000, 952, 13)\n"
     ]
    }
   ],
   "source": [
    "# Pad the data to make it of the same length (max of all samples)\n",
    "def pad_data(X):\n",
    "    max_length = max([x.shape[0] for x in X])\n",
    "    X_padded = []\n",
    "    for x in X:\n",
    "        x_padded = np.zeros((max_length, x.shape[1]))\n",
    "        x_padded[:x.shape[0], :] = x\n",
    "        X_padded.append(x_padded)\n",
    "    return np.array(X_padded)\n",
    "\n",
    "train_X = pad_data(train_X)\n",
    "test_X = pad_data(test_X)\n",
    "\n",
    "print(train_X.shape, train_y.shape)\n",
    "print(train_X[0].shape, train_y[0].shape)\n",
    "print(test_X.shape)"
   ]
  },
  {
   "cell_type": "code",
   "execution_count": 34,
   "metadata": {},
   "outputs": [
    {
     "name": "stdout",
     "output_type": "stream",
     "text": [
      "(9513, 997, 13) (9513,)\n",
      "(997, 13) ()\n",
      "(2000, 952, 13)\n"
     ]
    }
   ],
   "source": [
    "def reshape_data_lstm(X):\n",
    "    return X.reshape((X.shape[0], X[0].shape[0], X[0].shape[1]))\n",
    "\n",
    "train_X = reshape_data_lstm(train_X)\n",
    "test_X = reshape_data_lstm(test_X)\n",
    "\n",
    "print(train_X.shape, train_y.shape)\n",
    "print(train_X[0].shape, train_y[0].shape)\n",
    "print(test_X.shape)"
   ]
  },
  {
   "cell_type": "markdown",
   "metadata": {},
   "source": [
    "## Scaling and imputing"
   ]
  },
  {
   "cell_type": "markdown",
   "metadata": {},
   "source": [
    "# LSTM"
   ]
  },
  {
   "cell_type": "markdown",
   "metadata": {},
   "source": [
    "Crearemos una red LSTM que reciba series temporales asociadas a cada uno de los experimentos. Estas series contarán con todos las variables asociadas al estado y las acciones del agente, además de introducir como nuevas variables las del entorno. Estas últimas tendrán el mismo valor para todos los pasos del experimento."
   ]
  },
  {
   "cell_type": "markdown",
   "metadata": {},
   "source": [
    "Dado que las distintas series son de longitud variable y se encuentran en distintos archivos csv, deberemos entrenar la red mediante mini batches de tamano 1 (cada uno de los experimentos de los archivos). Otra opción sería realizar padding sobre las series, pero al contar con un rango amplio de timesteps para las series además de contar con gran cantidad de valores atípicos no parece un enfoque adecuado."
   ]
  },
  {
   "cell_type": "code",
   "execution_count": 37,
   "metadata": {},
   "outputs": [],
   "source": [
    "from keras.models import Sequential\n",
    "from keras.layers import LSTM, Dense\n",
    "from keras.callbacks import EarlyStopping\n",
    "\n",
    "import tensorflow as tf"
   ]
  },
  {
   "cell_type": "code",
   "execution_count": 36,
   "metadata": {},
   "outputs": [
    {
     "name": "stdout",
     "output_type": "stream",
     "text": [
      "Epoch 1/50\n",
      "238/238 - 43s - loss: 162600.8750 - val_loss: 166007.8125 - 43s/epoch - 181ms/step\n",
      "Epoch 2/50\n",
      "238/238 - 42s - loss: 152750.0000 - val_loss: 157687.0312 - 42s/epoch - 175ms/step\n",
      "Epoch 3/50\n",
      "238/238 - 42s - loss: 144775.5156 - val_loss: 150032.0938 - 42s/epoch - 178ms/step\n",
      "Epoch 4/50\n",
      "238/238 - 41s - loss: 137347.9844 - val_loss: 142845.6719 - 41s/epoch - 174ms/step\n",
      "Epoch 5/50\n",
      "238/238 - 40s - loss: 130350.8594 - val_loss: 136058.9531 - 40s/epoch - 167ms/step\n",
      "Epoch 6/50\n",
      "238/238 - 42s - loss: 123734.0938 - val_loss: 129634.3828 - 42s/epoch - 175ms/step\n",
      "Epoch 7/50\n",
      "238/238 - 41s - loss: 117466.4922 - val_loss: 123546.5156 - 41s/epoch - 171ms/step\n",
      "Epoch 8/50\n",
      "238/238 - 41s - loss: 111525.8516 - val_loss: 117775.9141 - 41s/epoch - 173ms/step\n",
      "Epoch 9/50\n",
      "238/238 - 42s - loss: 105740.9688 - val_loss: 111905.4453 - 42s/epoch - 175ms/step\n",
      "Epoch 10/50\n",
      "238/238 - 41s - loss: 100043.3438 - val_loss: 106522.6562 - 41s/epoch - 174ms/step\n",
      "Epoch 11/50\n",
      "238/238 - 42s - loss: 94837.4922 - val_loss: 101502.7266 - 42s/epoch - 175ms/step\n",
      "Epoch 12/50\n",
      "238/238 - 41s - loss: 89960.5703 - val_loss: 96788.8672 - 41s/epoch - 174ms/step\n",
      "Epoch 13/50\n",
      "238/238 - 41s - loss: 85377.3203 - val_loss: 92358.0000 - 41s/epoch - 171ms/step\n",
      "Epoch 14/50\n",
      "238/238 - 41s - loss: 81069.6562 - val_loss: 88195.6484 - 41s/epoch - 173ms/step\n",
      "Epoch 15/50\n",
      "238/238 - 41s - loss: 77025.0312 - val_loss: 84290.8672 - 41s/epoch - 173ms/step\n",
      "Epoch 16/50\n",
      "238/238 - 41s - loss: 73233.5000 - val_loss: 80634.6797 - 41s/epoch - 173ms/step\n",
      "Epoch 17/50\n",
      "238/238 - 42s - loss: 69686.6719 - val_loss: 77219.1562 - 42s/epoch - 175ms/step\n",
      "Epoch 18/50\n",
      "238/238 - 41s - loss: 66377.1406 - val_loss: 74037.2031 - 41s/epoch - 174ms/step\n",
      "Epoch 19/50\n",
      "238/238 - 42s - loss: 63297.9062 - val_loss: 71082.0859 - 42s/epoch - 175ms/step\n",
      "Epoch 20/50\n",
      "238/238 - 41s - loss: 60442.5156 - val_loss: 68347.4297 - 41s/epoch - 171ms/step\n",
      "Epoch 21/50\n",
      "238/238 - 42s - loss: 57804.5859 - val_loss: 65826.8516 - 42s/epoch - 176ms/step\n",
      "Epoch 22/50\n",
      "238/238 - 42s - loss: 55377.8047 - val_loss: 63514.0664 - 42s/epoch - 176ms/step\n",
      "Epoch 23/50\n",
      "238/238 - 42s - loss: 53155.7773 - val_loss: 61402.6406 - 42s/epoch - 176ms/step\n",
      "Epoch 24/50\n",
      "238/238 - 42s - loss: 51132.0625 - val_loss: 59485.9570 - 42s/epoch - 174ms/step\n",
      "Epoch 25/50\n",
      "238/238 - 42s - loss: 49299.8320 - val_loss: 57757.0352 - 42s/epoch - 175ms/step\n",
      "Epoch 26/50\n",
      "238/238 - 42s - loss: 47652.0039 - val_loss: 56208.5820 - 42s/epoch - 176ms/step\n",
      "Epoch 27/50\n",
      "238/238 - 42s - loss: 46181.0820 - val_loss: 54832.8281 - 42s/epoch - 175ms/step\n",
      "Epoch 28/50\n",
      "238/238 - 42s - loss: 44879.1016 - val_loss: 53621.5586 - 42s/epoch - 176ms/step\n",
      "Epoch 29/50\n",
      "238/238 - 42s - loss: 43737.5078 - val_loss: 52565.9492 - 42s/epoch - 176ms/step\n",
      "Epoch 30/50\n",
      "238/238 - 41s - loss: 42747.2500 - val_loss: 51656.5039 - 41s/epoch - 174ms/step\n",
      "Epoch 31/50\n",
      "238/238 - 41s - loss: 41898.5508 - val_loss: 50883.1445 - 41s/epoch - 171ms/step\n",
      "Epoch 32/50\n",
      "238/238 - 42s - loss: 41181.0469 - val_loss: 50235.2031 - 42s/epoch - 175ms/step\n",
      "Epoch 33/50\n",
      "238/238 - 42s - loss: 40583.7227 - val_loss: 49701.3281 - 42s/epoch - 175ms/step\n",
      "Epoch 34/50\n",
      "238/238 - 42s - loss: 40095.0703 - val_loss: 49269.6484 - 42s/epoch - 177ms/step\n",
      "Epoch 35/50\n",
      "238/238 - 42s - loss: 39703.0273 - val_loss: 48927.9648 - 42s/epoch - 177ms/step\n",
      "Epoch 36/50\n",
      "238/238 - 41s - loss: 39395.3086 - val_loss: 48663.9102 - 41s/epoch - 174ms/step\n",
      "Epoch 37/50\n",
      "238/238 - 42s - loss: 39159.6016 - val_loss: 48465.1836 - 42s/epoch - 175ms/step\n",
      "Epoch 38/50\n",
      "238/238 - 42s - loss: 38983.8008 - val_loss: 48319.9766 - 42s/epoch - 175ms/step\n",
      "Epoch 39/50\n",
      "238/238 - 42s - loss: 38856.5039 - val_loss: 48217.1992 - 42s/epoch - 178ms/step\n",
      "Epoch 40/50\n",
      "238/238 - 43s - loss: 38767.0859 - val_loss: 48146.9062 - 43s/epoch - 180ms/step\n",
      "Epoch 41/50\n",
      "238/238 - 42s - loss: 38706.3398 - val_loss: 48100.5586 - 42s/epoch - 177ms/step\n",
      "Epoch 42/50\n",
      "238/238 - 42s - loss: 38666.3867 - val_loss: 48071.1484 - 42s/epoch - 177ms/step\n",
      "Epoch 43/50\n",
      "238/238 - 43s - loss: 38641.0117 - val_loss: 48053.1992 - 43s/epoch - 180ms/step\n",
      "Epoch 44/50\n",
      "238/238 - 42s - loss: 38625.3555 - val_loss: 48042.6719 - 42s/epoch - 177ms/step\n",
      "Epoch 45/50\n",
      "238/238 - 42s - loss: 38616.0156 - val_loss: 48036.7656 - 42s/epoch - 175ms/step\n",
      "Epoch 46/50\n",
      "238/238 - 42s - loss: 38610.5781 - val_loss: 48033.5898 - 42s/epoch - 175ms/step\n",
      "Epoch 47/50\n",
      "238/238 - 41s - loss: 38607.4727 - val_loss: 48031.9453 - 41s/epoch - 173ms/step\n",
      "Epoch 48/50\n",
      "238/238 - 42s - loss: 38605.7383 - val_loss: 48031.1602 - 42s/epoch - 178ms/step\n",
      "Epoch 49/50\n",
      "238/238 - 41s - loss: 38604.7656 - val_loss: 48030.8203 - 41s/epoch - 174ms/step\n",
      "Epoch 50/50\n",
      "238/238 - 43s - loss: 38604.2539 - val_loss: 48030.6836 - 43s/epoch - 179ms/step\n"
     ]
    },
    {
     "data": {
      "image/png": "[encoded data removed]",
      "text/plain": [
       "<Figure size 432x288 with 1 Axes>"
      ]
     },
     "metadata": {
      "needs_background": "light"
     },
     "output_type": "display_data"
    }
   ],
   "source": [
    "model = Sequential()\n",
    "model.add(LSTM(50, input_shape=(train_X.shape[1], train_X.shape[2]), return_sequences=False)) # input_shape=(timesteps, features) return_sequences=False -> returns a single vector\n",
    "model.add(Dense(1))\n",
    "model.compile(loss='mse', optimizer='adam')\n",
    "\n",
    "# Train the model with early stopping.\n",
    "history = model.fit(train_X, train_y, epochs=50, batch_size=32, validation_split=0.2, verbose=2, shuffle=False, callbacks=[EarlyStopping(monitor='val_loss', patience=10, min_delta=0.0001, restore_best_weights=True)])\n",
    "\n",
    "# Plot the model's predictions\n",
    "plt.plot(history.history['loss'], label='train')\n",
    "plt.plot(history.history['val_loss'], label='test')\n",
    "plt.legend()\n",
    "plt.show()"
   ]
  }
 ],
 "metadata": {
  "interpreter": {
   "hash": "86a1749aaea828996fae425f4e050c68da0511889b812f7ae784176a044351ef"
  },
  "kernelspec": {
   "display_name": "Python 3.8.10 ('tensorflow-np')",
   "language": "python",
   "name": "python3"
  },
  "language_info": {
   "codemirror_mode": {
    "name": "ipython",
    "version": 3
   },
   "file_extension": ".py",
   "mimetype": "text/x-python",
   "name": "python",
   "nbconvert_exporter": "python",
   "pygments_lexer": "ipython3",
   "version": "3.8.10"
  },
  "orig_nbformat": 4,
  "vscode": {
   "interpreter": {
    "hash": "31f2aee4e71d21fbe5cf8b01ff0e069b9275f58929596ceb00d14d90e3e16cd6"
   }
  }
 },
 "nbformat": 4,
 "nbformat_minor": 2
}
