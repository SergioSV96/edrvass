{
 "cells": [
  {
   "cell_type": "markdown",
   "metadata": {},
   "source": [
    "# Enunciado\n",
    "## Destino: Planeta VASS!\n",
    "Por fin! El sistema que hemos creado ha terminado de analizar las características del planeta y se ha comprobado que es habitable. Después de un largo trayecto y varios inconvenientes, estamos a un paso de cumplir nuestro objetivo!\n",
    "\n",
    "Este último paso es, probablemente, el más importante de todos, aterrizar en el planeta VASS.\n",
    "Para asegurar el éxito del aterrizaje, hemos realizado una serie de experimentos en un espacio de simulación para predecir la manera más eficiente de aterrizar de forma segura.\n",
    "\n",
    "Sin embargo, el simulador ha tenido problemas a la hora de determinar la eficiencia en algunos de los experimentos, por lo que ahora nuestro objetivo será analizar las simulaciones y determinar el nivel de eficiencia de aterrizaje de cada uno de los experimentos en los que falló. Tendremos que tener en cuenta las siguientes observaciones:\n",
    "\n",
    "### Observaciones\n",
    "- Cada uno de los experimentos cuenta con una serie pasos compuestos de estados y acciones de la nave de una simulación determinada.\n",
    "- En cada paso el simulador genera un estado y decide una acción. El siguiente estado se verá determinado por esta acción, y a su vez se decidirá una nueva acción en base a ese nuevo estado, eso hasta que la simulación llegue a su fin.\n",
    "- En cada paso, el simulador determina la contribución individual que ha tenido la acción tomada a la eficiencia total. Finalmente se calculan todas estas contribuciones para determinar la eficiencia total del experimento.\n",
    "- La eficiencia es una función que utiliza internamente el simulador para determinar cuándo está tomando buenas decisiones. Esta función podría estar teniendo en cuenta los cambios que hay en los estados, así como las distintas acciones y variables.\n",
    "- Las simulaciones se han realizado en diversas condiciones: gravedad, viento y turbulencias.\n",
    "- CUIDADO! En algunas de las simulaciones los valores de la gravedad y viento no se guardaron correctamente, por lo que el sistema las ha registrado con un valor de 0.\n",
    "\n",
    "Descarga los datos de los experimentos, analízalos y crea un modelo para predecir la eficiencia total de cada uno de los experimentos. Por último, observa los experimentos del conjunto de test que viene incluido en la descarga de los datos y envía las predicciones de los registros en el orden original separadas por comas, de la siguiente manera:\n",
    "\n",
    "205.12,122.14,80.34,30.15,109.93\n",
    "\n",
    "El ejemplo expuesto se correspondería con las predicciones de los 5 primeros registros, tendréis que subir en una sola línea las 2,000 predicciones usando este formato."
   ]
  },
  {
   "cell_type": "markdown",
   "metadata": {},
   "source": [
    "# How to land the Star Cruiser 42\n",
    "\n",
    "## Context\n",
    "\n",
    "This dataset contains information about simulations of landing a spaceship in a 2D environment.\n",
    "This information can be used to determine the efficiency function in order to evaluate the best actions possible in a future landing.\n",
    "\n",
    "\n",
    "## Metadata\n",
    "Number of train files: 9513\n",
    "Number of test files: 2000\n",
    "Number of variables: 13\n",
    "Target variable: efficiency\n",
    "\n",
    "\n",
    "File variable details:\n",
    "\n",
    "- x_pos # The position of the ship on the X axis, in units relative to the landing platform.\n",
    "- y_pos # The position of the ship on the Y axis, in units relative to the landing platform.\n",
    "- x_vel # Velocity of the ship on the X axis.\n",
    "- y_vel # Velocity of the ship on the Y axis.\n",
    "- angle # The angle of the spaceship in radians.\n",
    "- ang_vel # The angular velocity of the spaceship.\n",
    "- leg_1 # Boolean that represent whether leg 1 is in contact with the ground or not\n",
    "- leg_2 # Boolean that represent whether leg 2 is in contact with the ground or not\n",
    "- main_booster #  The throttle of the main engine.\n",
    "- lat_booster # The throttle of the lateral boosters.\n",
    "\n",
    "The first 6 variables determine the state and each step, and the last two (main_booster and lat_booster) are the actions taken in response\n",
    "to that state, whose repercussions will be seen in the following step.\n",
    "\n",
    "Experiment variable details:\n",
    "- gravity # The magnitude of the gravity acceleration. A value of 0 means that the system didn't register the real value.\n",
    "- wind_power # The maximum magnitude of linear wind applied to the spaceship. A value of 0 means that the system didn't register the real value.\n",
    "- turbulences # The maximum magnitude of rotational wind applied to the spaceship.\n",
    "\n",
    "Target variable detail\n",
    "- efficiency # An internal function of the simulator to evaluate the quality of the landing.\n",
    "    "
   ]
  },
  {
   "cell_type": "code",
   "execution_count": 84,
   "metadata": {},
   "outputs": [],
   "source": [
    "import pandas as pd\n",
    "import numpy as np\n",
    "from scipy.stats import kurtosis, skew\n",
    "\n",
    "import matplotlib.pyplot as plt\n",
    "import seaborn as sns\n",
    "\n",
    "import os, os.path\n",
    "import errno"
   ]
  },
  {
   "cell_type": "markdown",
   "metadata": {},
   "source": [
    "# Experiments summary"
   ]
  },
  {
   "cell_type": "code",
   "execution_count": 85,
   "metadata": {},
   "outputs": [],
   "source": [
    "# Open fase7/data/experiments_summary_test.xlsx and train\n",
    "experiments_summary_test = pd.read_excel('data/experiments_summary_test.xlsx')\n",
    "experiments_summary_train = pd.read_excel('data/experiments_summary_train.xlsx')"
   ]
  },
  {
   "cell_type": "code",
   "execution_count": 86,
   "metadata": {},
   "outputs": [
    {
     "data": {
      "text/html": [
       "<div>\n",
       "<style scoped>\n",
       "    .dataframe tbody tr th:only-of-type {\n",
       "        vertical-align: middle;\n",
       "    }\n",
       "\n",
       "    .dataframe tbody tr th {\n",
       "        vertical-align: top;\n",
       "    }\n",
       "\n",
       "    .dataframe thead th {\n",
       "        text-align: right;\n",
       "    }\n",
       "</style>\n",
       "<table border=\"1\" class=\"dataframe\">\n",
       "  <thead>\n",
       "    <tr style=\"text-align: right;\">\n",
       "      <th></th>\n",
       "      <th>filename</th>\n",
       "      <th>total_timesteps</th>\n",
       "      <th>gravity</th>\n",
       "      <th>wind_power</th>\n",
       "      <th>turbulence_power</th>\n",
       "      <th>efficiency</th>\n",
       "    </tr>\n",
       "  </thead>\n",
       "  <tbody>\n",
       "    <tr>\n",
       "      <th>0</th>\n",
       "      <td>experiment_1.csv</td>\n",
       "      <td>185</td>\n",
       "      <td>-5.375066</td>\n",
       "      <td>14.337393</td>\n",
       "      <td>1.902789</td>\n",
       "      <td>415.69</td>\n",
       "    </tr>\n",
       "    <tr>\n",
       "      <th>1</th>\n",
       "      <td>experiment_2.csv</td>\n",
       "      <td>428</td>\n",
       "      <td>-3.958084</td>\n",
       "      <td>16.376438</td>\n",
       "      <td>1.697932</td>\n",
       "      <td>104.37</td>\n",
       "    </tr>\n",
       "    <tr>\n",
       "      <th>2</th>\n",
       "      <td>experiment_4.csv</td>\n",
       "      <td>193</td>\n",
       "      <td>-3.640152</td>\n",
       "      <td>1.614948</td>\n",
       "      <td>0.192214</td>\n",
       "      <td>411.14</td>\n",
       "    </tr>\n",
       "    <tr>\n",
       "      <th>3</th>\n",
       "      <td>experiment_5.csv</td>\n",
       "      <td>166</td>\n",
       "      <td>0.000000</td>\n",
       "      <td>0.000000</td>\n",
       "      <td>0.242178</td>\n",
       "      <td>414.93</td>\n",
       "    </tr>\n",
       "    <tr>\n",
       "      <th>4</th>\n",
       "      <td>experiment_6.csv</td>\n",
       "      <td>172</td>\n",
       "      <td>-5.289123</td>\n",
       "      <td>15.771525</td>\n",
       "      <td>1.453806</td>\n",
       "      <td>373.85</td>\n",
       "    </tr>\n",
       "    <tr>\n",
       "      <th>...</th>\n",
       "      <td>...</td>\n",
       "      <td>...</td>\n",
       "      <td>...</td>\n",
       "      <td>...</td>\n",
       "      <td>...</td>\n",
       "      <td>...</td>\n",
       "    </tr>\n",
       "    <tr>\n",
       "      <th>9508</th>\n",
       "      <td>experiment_11506.csv</td>\n",
       "      <td>290</td>\n",
       "      <td>0.000000</td>\n",
       "      <td>0.000000</td>\n",
       "      <td>1.734030</td>\n",
       "      <td>413.52</td>\n",
       "    </tr>\n",
       "    <tr>\n",
       "      <th>9509</th>\n",
       "      <td>experiment_11507.csv</td>\n",
       "      <td>80</td>\n",
       "      <td>-9.777887</td>\n",
       "      <td>17.290063</td>\n",
       "      <td>1.830932</td>\n",
       "      <td>-765.06</td>\n",
       "    </tr>\n",
       "    <tr>\n",
       "      <th>9510</th>\n",
       "      <td>experiment_11508.csv</td>\n",
       "      <td>199</td>\n",
       "      <td>-5.563846</td>\n",
       "      <td>14.299549</td>\n",
       "      <td>1.971660</td>\n",
       "      <td>414.10</td>\n",
       "    </tr>\n",
       "    <tr>\n",
       "      <th>9511</th>\n",
       "      <td>experiment_11509.csv</td>\n",
       "      <td>115</td>\n",
       "      <td>0.000000</td>\n",
       "      <td>5.761313</td>\n",
       "      <td>1.203968</td>\n",
       "      <td>41.77</td>\n",
       "    </tr>\n",
       "    <tr>\n",
       "      <th>9512</th>\n",
       "      <td>experiment_11510.csv</td>\n",
       "      <td>93</td>\n",
       "      <td>-9.025862</td>\n",
       "      <td>16.478229</td>\n",
       "      <td>0.756796</td>\n",
       "      <td>323.11</td>\n",
       "    </tr>\n",
       "  </tbody>\n",
       "</table>\n",
       "<p>9513 rows × 6 columns</p>\n",
       "</div>"
      ],
      "text/plain": [
       "                  filename  total_timesteps   gravity  wind_power  \\\n",
       "0         experiment_1.csv              185 -5.375066   14.337393   \n",
       "1         experiment_2.csv              428 -3.958084   16.376438   \n",
       "2         experiment_4.csv              193 -3.640152    1.614948   \n",
       "3         experiment_5.csv              166  0.000000    0.000000   \n",
       "4         experiment_6.csv              172 -5.289123   15.771525   \n",
       "...                    ...              ...       ...         ...   \n",
       "9508  experiment_11506.csv              290  0.000000    0.000000   \n",
       "9509  experiment_11507.csv               80 -9.777887   17.290063   \n",
       "9510  experiment_11508.csv              199 -5.563846   14.299549   \n",
       "9511  experiment_11509.csv              115  0.000000    5.761313   \n",
       "9512  experiment_11510.csv               93 -9.025862   16.478229   \n",
       "\n",
       "      turbulence_power  efficiency  \n",
       "0             1.902789      415.69  \n",
       "1             1.697932      104.37  \n",
       "2             0.192214      411.14  \n",
       "3             0.242178      414.93  \n",
       "4             1.453806      373.85  \n",
       "...                ...         ...  \n",
       "9508          1.734030      413.52  \n",
       "9509          1.830932     -765.06  \n",
       "9510          1.971660      414.10  \n",
       "9511          1.203968       41.77  \n",
       "9512          0.756796      323.11  \n",
       "\n",
       "[9513 rows x 6 columns]"
      ]
     },
     "execution_count": 86,
     "metadata": {},
     "output_type": "execute_result"
    }
   ],
   "source": [
    "experiments_summary_train"
   ]
  },
  {
   "cell_type": "code",
   "execution_count": 87,
   "metadata": {},
   "outputs": [
    {
     "data": {
      "text/html": [
       "<div>\n",
       "<style scoped>\n",
       "    .dataframe tbody tr th:only-of-type {\n",
       "        vertical-align: middle;\n",
       "    }\n",
       "\n",
       "    .dataframe tbody tr th {\n",
       "        vertical-align: top;\n",
       "    }\n",
       "\n",
       "    .dataframe thead th {\n",
       "        text-align: right;\n",
       "    }\n",
       "</style>\n",
       "<table border=\"1\" class=\"dataframe\">\n",
       "  <thead>\n",
       "    <tr style=\"text-align: right;\">\n",
       "      <th></th>\n",
       "      <th>filename</th>\n",
       "      <th>total_timesteps</th>\n",
       "      <th>gravity</th>\n",
       "      <th>wind_power</th>\n",
       "      <th>turbulence_power</th>\n",
       "    </tr>\n",
       "  </thead>\n",
       "  <tbody>\n",
       "    <tr>\n",
       "      <th>0</th>\n",
       "      <td>experiment_0.csv</td>\n",
       "      <td>156</td>\n",
       "      <td>-10.363594</td>\n",
       "      <td>9.555678</td>\n",
       "      <td>0.441689</td>\n",
       "    </tr>\n",
       "    <tr>\n",
       "      <th>1</th>\n",
       "      <td>experiment_3.csv</td>\n",
       "      <td>252</td>\n",
       "      <td>-2.599651</td>\n",
       "      <td>7.094931</td>\n",
       "      <td>0.772004</td>\n",
       "    </tr>\n",
       "    <tr>\n",
       "      <th>2</th>\n",
       "      <td>experiment_8.csv</td>\n",
       "      <td>146</td>\n",
       "      <td>-10.768399</td>\n",
       "      <td>5.744031</td>\n",
       "      <td>0.898704</td>\n",
       "    </tr>\n",
       "    <tr>\n",
       "      <th>3</th>\n",
       "      <td>experiment_10.csv</td>\n",
       "      <td>178</td>\n",
       "      <td>-7.815608</td>\n",
       "      <td>19.640269</td>\n",
       "      <td>1.631348</td>\n",
       "    </tr>\n",
       "    <tr>\n",
       "      <th>4</th>\n",
       "      <td>experiment_14.csv</td>\n",
       "      <td>193</td>\n",
       "      <td>-3.833533</td>\n",
       "      <td>11.007721</td>\n",
       "      <td>1.577970</td>\n",
       "    </tr>\n",
       "    <tr>\n",
       "      <th>...</th>\n",
       "      <td>...</td>\n",
       "      <td>...</td>\n",
       "      <td>...</td>\n",
       "      <td>...</td>\n",
       "      <td>...</td>\n",
       "    </tr>\n",
       "    <tr>\n",
       "      <th>1995</th>\n",
       "      <td>experiment_11478.csv</td>\n",
       "      <td>257</td>\n",
       "      <td>-5.879329</td>\n",
       "      <td>13.640501</td>\n",
       "      <td>0.986232</td>\n",
       "    </tr>\n",
       "    <tr>\n",
       "      <th>1996</th>\n",
       "      <td>experiment_11497.csv</td>\n",
       "      <td>845</td>\n",
       "      <td>-1.886632</td>\n",
       "      <td>0.843915</td>\n",
       "      <td>1.206717</td>\n",
       "    </tr>\n",
       "    <tr>\n",
       "      <th>1997</th>\n",
       "      <td>experiment_11505.csv</td>\n",
       "      <td>128</td>\n",
       "      <td>0.000000</td>\n",
       "      <td>5.633470</td>\n",
       "      <td>1.822572</td>\n",
       "    </tr>\n",
       "    <tr>\n",
       "      <th>1998</th>\n",
       "      <td>experiment_11511.csv</td>\n",
       "      <td>158</td>\n",
       "      <td>-10.947976</td>\n",
       "      <td>5.852086</td>\n",
       "      <td>1.298264</td>\n",
       "    </tr>\n",
       "    <tr>\n",
       "      <th>1999</th>\n",
       "      <td>experiment_11512.csv</td>\n",
       "      <td>153</td>\n",
       "      <td>-11.656888</td>\n",
       "      <td>9.602393</td>\n",
       "      <td>1.293005</td>\n",
       "    </tr>\n",
       "  </tbody>\n",
       "</table>\n",
       "<p>2000 rows × 5 columns</p>\n",
       "</div>"
      ],
      "text/plain": [
       "                  filename  total_timesteps    gravity  wind_power  \\\n",
       "0         experiment_0.csv              156 -10.363594    9.555678   \n",
       "1         experiment_3.csv              252  -2.599651    7.094931   \n",
       "2         experiment_8.csv              146 -10.768399    5.744031   \n",
       "3        experiment_10.csv              178  -7.815608   19.640269   \n",
       "4        experiment_14.csv              193  -3.833533   11.007721   \n",
       "...                    ...              ...        ...         ...   \n",
       "1995  experiment_11478.csv              257  -5.879329   13.640501   \n",
       "1996  experiment_11497.csv              845  -1.886632    0.843915   \n",
       "1997  experiment_11505.csv              128   0.000000    5.633470   \n",
       "1998  experiment_11511.csv              158 -10.947976    5.852086   \n",
       "1999  experiment_11512.csv              153 -11.656888    9.602393   \n",
       "\n",
       "      turbulence_power  \n",
       "0             0.441689  \n",
       "1             0.772004  \n",
       "2             0.898704  \n",
       "3             1.631348  \n",
       "4             1.577970  \n",
       "...                ...  \n",
       "1995          0.986232  \n",
       "1996          1.206717  \n",
       "1997          1.822572  \n",
       "1998          1.298264  \n",
       "1999          1.293005  \n",
       "\n",
       "[2000 rows x 5 columns]"
      ]
     },
     "execution_count": 87,
     "metadata": {},
     "output_type": "execute_result"
    }
   ],
   "source": [
    "experiments_summary_test"
   ]
  },
  {
   "cell_type": "code",
   "execution_count": 88,
   "metadata": {},
   "outputs": [
    {
     "data": {
      "text/html": [
       "<div>\n",
       "<style scoped>\n",
       "    .dataframe tbody tr th:only-of-type {\n",
       "        vertical-align: middle;\n",
       "    }\n",
       "\n",
       "    .dataframe tbody tr th {\n",
       "        vertical-align: top;\n",
       "    }\n",
       "\n",
       "    .dataframe thead th {\n",
       "        text-align: right;\n",
       "    }\n",
       "</style>\n",
       "<table border=\"1\" class=\"dataframe\">\n",
       "  <thead>\n",
       "    <tr style=\"text-align: right;\">\n",
       "      <th></th>\n",
       "      <th>total_timesteps</th>\n",
       "      <th>gravity</th>\n",
       "      <th>wind_power</th>\n",
       "      <th>turbulence_power</th>\n",
       "      <th>efficiency</th>\n",
       "    </tr>\n",
       "  </thead>\n",
       "  <tbody>\n",
       "    <tr>\n",
       "      <th>count</th>\n",
       "      <td>9513.000000</td>\n",
       "      <td>9513.000000</td>\n",
       "      <td>9513.000000</td>\n",
       "      <td>9513.000000</td>\n",
       "      <td>9513.000000</td>\n",
       "    </tr>\n",
       "    <tr>\n",
       "      <th>mean</th>\n",
       "      <td>224.807842</td>\n",
       "      <td>-5.671780</td>\n",
       "      <td>8.985153</td>\n",
       "      <td>0.998284</td>\n",
       "      <td>365.562140</td>\n",
       "    </tr>\n",
       "    <tr>\n",
       "      <th>std</th>\n",
       "      <td>117.874023</td>\n",
       "      <td>3.687404</td>\n",
       "      <td>6.227518</td>\n",
       "      <td>0.576618</td>\n",
       "      <td>201.228677</td>\n",
       "    </tr>\n",
       "    <tr>\n",
       "      <th>min</th>\n",
       "      <td>62.000000</td>\n",
       "      <td>-11.989907</td>\n",
       "      <td>0.000000</td>\n",
       "      <td>0.000089</td>\n",
       "      <td>-4280.660000</td>\n",
       "    </tr>\n",
       "    <tr>\n",
       "      <th>25%</th>\n",
       "      <td>160.000000</td>\n",
       "      <td>-8.853151</td>\n",
       "      <td>3.336993</td>\n",
       "      <td>0.503532</td>\n",
       "      <td>397.430000</td>\n",
       "    </tr>\n",
       "    <tr>\n",
       "      <th>50%</th>\n",
       "      <td>184.000000</td>\n",
       "      <td>-5.646706</td>\n",
       "      <td>8.888824</td>\n",
       "      <td>0.993838</td>\n",
       "      <td>407.420000</td>\n",
       "    </tr>\n",
       "    <tr>\n",
       "      <th>75%</th>\n",
       "      <td>244.000000</td>\n",
       "      <td>-2.633880</td>\n",
       "      <td>14.398609</td>\n",
       "      <td>1.500698</td>\n",
       "      <td>412.150000</td>\n",
       "    </tr>\n",
       "    <tr>\n",
       "      <th>max</th>\n",
       "      <td>996.000000</td>\n",
       "      <td>0.000000</td>\n",
       "      <td>19.996158</td>\n",
       "      <td>1.999953</td>\n",
       "      <td>425.600000</td>\n",
       "    </tr>\n",
       "  </tbody>\n",
       "</table>\n",
       "</div>"
      ],
      "text/plain": [
       "       total_timesteps      gravity   wind_power  turbulence_power  \\\n",
       "count      9513.000000  9513.000000  9513.000000       9513.000000   \n",
       "mean        224.807842    -5.671780     8.985153          0.998284   \n",
       "std         117.874023     3.687404     6.227518          0.576618   \n",
       "min          62.000000   -11.989907     0.000000          0.000089   \n",
       "25%         160.000000    -8.853151     3.336993          0.503532   \n",
       "50%         184.000000    -5.646706     8.888824          0.993838   \n",
       "75%         244.000000    -2.633880    14.398609          1.500698   \n",
       "max         996.000000     0.000000    19.996158          1.999953   \n",
       "\n",
       "        efficiency  \n",
       "count  9513.000000  \n",
       "mean    365.562140  \n",
       "std     201.228677  \n",
       "min   -4280.660000  \n",
       "25%     397.430000  \n",
       "50%     407.420000  \n",
       "75%     412.150000  \n",
       "max     425.600000  "
      ]
     },
     "execution_count": 88,
     "metadata": {},
     "output_type": "execute_result"
    }
   ],
   "source": [
    "experiments_summary_train.describe()"
   ]
  },
  {
   "cell_type": "code",
   "execution_count": 89,
   "metadata": {},
   "outputs": [
    {
     "data": {
      "text/html": [
       "<div>\n",
       "<style scoped>\n",
       "    .dataframe tbody tr th:only-of-type {\n",
       "        vertical-align: middle;\n",
       "    }\n",
       "\n",
       "    .dataframe tbody tr th {\n",
       "        vertical-align: top;\n",
       "    }\n",
       "\n",
       "    .dataframe thead th {\n",
       "        text-align: right;\n",
       "    }\n",
       "</style>\n",
       "<table border=\"1\" class=\"dataframe\">\n",
       "  <thead>\n",
       "    <tr style=\"text-align: right;\">\n",
       "      <th></th>\n",
       "      <th>total_timesteps</th>\n",
       "      <th>gravity</th>\n",
       "      <th>wind_power</th>\n",
       "      <th>turbulence_power</th>\n",
       "    </tr>\n",
       "  </thead>\n",
       "  <tbody>\n",
       "    <tr>\n",
       "      <th>count</th>\n",
       "      <td>2000.000000</td>\n",
       "      <td>2000.000000</td>\n",
       "      <td>2000.000000</td>\n",
       "      <td>2000.000000</td>\n",
       "    </tr>\n",
       "    <tr>\n",
       "      <th>mean</th>\n",
       "      <td>222.474000</td>\n",
       "      <td>-5.832455</td>\n",
       "      <td>8.983764</td>\n",
       "      <td>0.992948</td>\n",
       "    </tr>\n",
       "    <tr>\n",
       "      <th>std</th>\n",
       "      <td>118.231555</td>\n",
       "      <td>3.695817</td>\n",
       "      <td>6.208299</td>\n",
       "      <td>0.573041</td>\n",
       "    </tr>\n",
       "    <tr>\n",
       "      <th>min</th>\n",
       "      <td>65.000000</td>\n",
       "      <td>-11.985971</td>\n",
       "      <td>0.000000</td>\n",
       "      <td>0.001034</td>\n",
       "    </tr>\n",
       "    <tr>\n",
       "      <th>25%</th>\n",
       "      <td>159.000000</td>\n",
       "      <td>-9.104783</td>\n",
       "      <td>3.329954</td>\n",
       "      <td>0.486418</td>\n",
       "    </tr>\n",
       "    <tr>\n",
       "      <th>50%</th>\n",
       "      <td>180.000000</td>\n",
       "      <td>-6.031826</td>\n",
       "      <td>8.929544</td>\n",
       "      <td>0.985516</td>\n",
       "    </tr>\n",
       "    <tr>\n",
       "      <th>75%</th>\n",
       "      <td>234.000000</td>\n",
       "      <td>-2.832137</td>\n",
       "      <td>14.161360</td>\n",
       "      <td>1.484154</td>\n",
       "    </tr>\n",
       "    <tr>\n",
       "      <th>max</th>\n",
       "      <td>951.000000</td>\n",
       "      <td>0.000000</td>\n",
       "      <td>19.999464</td>\n",
       "      <td>1.997806</td>\n",
       "    </tr>\n",
       "  </tbody>\n",
       "</table>\n",
       "</div>"
      ],
      "text/plain": [
       "       total_timesteps      gravity   wind_power  turbulence_power\n",
       "count      2000.000000  2000.000000  2000.000000       2000.000000\n",
       "mean        222.474000    -5.832455     8.983764          0.992948\n",
       "std         118.231555     3.695817     6.208299          0.573041\n",
       "min          65.000000   -11.985971     0.000000          0.001034\n",
       "25%         159.000000    -9.104783     3.329954          0.486418\n",
       "50%         180.000000    -6.031826     8.929544          0.985516\n",
       "75%         234.000000    -2.832137    14.161360          1.484154\n",
       "max         951.000000     0.000000    19.999464          1.997806"
      ]
     },
     "execution_count": 89,
     "metadata": {},
     "output_type": "execute_result"
    }
   ],
   "source": [
    "experiments_summary_test.describe()"
   ]
  },
  {
   "cell_type": "code",
   "execution_count": 90,
   "metadata": {},
   "outputs": [
    {
     "data": {
      "text/html": [
       "<div>\n",
       "<style scoped>\n",
       "    .dataframe tbody tr th:only-of-type {\n",
       "        vertical-align: middle;\n",
       "    }\n",
       "\n",
       "    .dataframe tbody tr th {\n",
       "        vertical-align: top;\n",
       "    }\n",
       "\n",
       "    .dataframe thead th {\n",
       "        text-align: right;\n",
       "    }\n",
       "</style>\n",
       "<table border=\"1\" class=\"dataframe\">\n",
       "  <thead>\n",
       "    <tr style=\"text-align: right;\">\n",
       "      <th></th>\n",
       "      <th>total_timesteps</th>\n",
       "      <th>gravity</th>\n",
       "      <th>wind_power</th>\n",
       "      <th>turbulence_power</th>\n",
       "      <th>efficiency</th>\n",
       "    </tr>\n",
       "  </thead>\n",
       "  <tbody>\n",
       "    <tr>\n",
       "      <th>count</th>\n",
       "      <td>11513.000000</td>\n",
       "      <td>11513.000000</td>\n",
       "      <td>11513.000000</td>\n",
       "      <td>11513.000000</td>\n",
       "      <td>9513.000000</td>\n",
       "    </tr>\n",
       "    <tr>\n",
       "      <th>mean</th>\n",
       "      <td>224.402415</td>\n",
       "      <td>-5.699692</td>\n",
       "      <td>8.984911</td>\n",
       "      <td>0.997357</td>\n",
       "      <td>365.562140</td>\n",
       "    </tr>\n",
       "    <tr>\n",
       "      <th>std</th>\n",
       "      <td>117.934382</td>\n",
       "      <td>3.689208</td>\n",
       "      <td>6.223914</td>\n",
       "      <td>0.575977</td>\n",
       "      <td>201.228677</td>\n",
       "    </tr>\n",
       "    <tr>\n",
       "      <th>min</th>\n",
       "      <td>62.000000</td>\n",
       "      <td>-11.989907</td>\n",
       "      <td>0.000000</td>\n",
       "      <td>0.000089</td>\n",
       "      <td>-4280.660000</td>\n",
       "    </tr>\n",
       "    <tr>\n",
       "      <th>25%</th>\n",
       "      <td>159.000000</td>\n",
       "      <td>-8.886684</td>\n",
       "      <td>3.331795</td>\n",
       "      <td>0.499894</td>\n",
       "      <td>397.430000</td>\n",
       "    </tr>\n",
       "    <tr>\n",
       "      <th>50%</th>\n",
       "      <td>184.000000</td>\n",
       "      <td>-5.730175</td>\n",
       "      <td>8.897582</td>\n",
       "      <td>0.993386</td>\n",
       "      <td>407.420000</td>\n",
       "    </tr>\n",
       "    <tr>\n",
       "      <th>75%</th>\n",
       "      <td>242.000000</td>\n",
       "      <td>-2.668897</td>\n",
       "      <td>14.352806</td>\n",
       "      <td>1.497393</td>\n",
       "      <td>412.150000</td>\n",
       "    </tr>\n",
       "    <tr>\n",
       "      <th>max</th>\n",
       "      <td>996.000000</td>\n",
       "      <td>0.000000</td>\n",
       "      <td>19.999464</td>\n",
       "      <td>1.999953</td>\n",
       "      <td>425.600000</td>\n",
       "    </tr>\n",
       "  </tbody>\n",
       "</table>\n",
       "</div>"
      ],
      "text/plain": [
       "       total_timesteps       gravity    wind_power  turbulence_power  \\\n",
       "count     11513.000000  11513.000000  11513.000000      11513.000000   \n",
       "mean        224.402415     -5.699692      8.984911          0.997357   \n",
       "std         117.934382      3.689208      6.223914          0.575977   \n",
       "min          62.000000    -11.989907      0.000000          0.000089   \n",
       "25%         159.000000     -8.886684      3.331795          0.499894   \n",
       "50%         184.000000     -5.730175      8.897582          0.993386   \n",
       "75%         242.000000     -2.668897     14.352806          1.497393   \n",
       "max         996.000000      0.000000     19.999464          1.999953   \n",
       "\n",
       "        efficiency  \n",
       "count  9513.000000  \n",
       "mean    365.562140  \n",
       "std     201.228677  \n",
       "min   -4280.660000  \n",
       "25%     397.430000  \n",
       "50%     407.420000  \n",
       "75%     412.150000  \n",
       "max     425.600000  "
      ]
     },
     "execution_count": 90,
     "metadata": {},
     "output_type": "execute_result"
    }
   ],
   "source": [
    "experiments_summary = pd.concat([experiments_summary_train, experiments_summary_test], ignore_index=True)\n",
    "experiments_summary.describe()"
   ]
  },
  {
   "cell_type": "markdown",
   "metadata": {},
   "source": [
    "Los datos con los que vamos a trabajar son experimentos que se componen por series temporales de longitud variable. Para un experimento i, contamos con un conjunto de datos de la forma (t_j, x_j), donde t_j es el timestamp y x_j el vector de variables.\n",
    "\n",
    "Cada experimento i cuenta con:\n",
    "- gravity\n",
    "- wind_power\n",
    "- tubulence_power\n",
    "- eficciency\n",
    "\n",
    "El vector de variables x_j está compuesto por las variables:\n",
    "- x_pos\n",
    "- y_pos\n",
    "- x_vel\n",
    "- y_vel\n",
    "- angle\n",
    "- ang_vel\n",
    "- leg1\n",
    "- leg2\n",
    "- main_booster\n",
    "- lat_booster\n"
   ]
  },
  {
   "cell_type": "code",
   "execution_count": 91,
   "metadata": {},
   "outputs": [
    {
     "data": {
      "image/png": "[encoded data removed]",
      "text/plain": [
       "<Figure size 648x216 with 1 Axes>"
      ]
     },
     "metadata": {
      "needs_background": "light"
     },
     "output_type": "display_data"
    },
    {
     "name": "stdout",
     "output_type": "stream",
     "text": [
      "Skewness: 2.7097333474456917\n",
      "Kurtosis: 9.403960196289452\n"
     ]
    },
    {
     "data": {
      "image/png": "[encoded data removed]",
      "text/plain": [
       "<Figure size 648x216 with 1 Axes>"
      ]
     },
     "metadata": {
      "needs_background": "light"
     },
     "output_type": "display_data"
    },
    {
     "name": "stdout",
     "output_type": "stream",
     "text": [
      "Skewness: 0.0401420069587474\n",
      "Kurtosis: -1.1740127789158386\n"
     ]
    },
    {
     "data": {
      "image/png": "[encoded data removed]",
      "text/plain": [
       "<Figure size 648x216 with 1 Axes>"
      ]
     },
     "metadata": {
      "needs_background": "light"
     },
     "output_type": "display_data"
    },
    {
     "name": "stdout",
     "output_type": "stream",
     "text": [
      "Skewness: 0.07695119224147386\n",
      "Kurtosis: -1.2621910533002971\n"
     ]
    },
    {
     "data": {
      "image/png": "[encoded data removed]",
      "text/plain": [
       "<Figure size 648x216 with 1 Axes>"
      ]
     },
     "metadata": {
      "needs_background": "light"
     },
     "output_type": "display_data"
    },
    {
     "name": "stdout",
     "output_type": "stream",
     "text": [
      "Skewness: 0.010665316623490222\n",
      "Kurtosis: -1.1924621903124586\n"
     ]
    },
    {
     "data": {
      "image/png": "[encoded data removed]",
      "text/plain": [
       "<Figure size 648x216 with 1 Axes>"
      ]
     },
     "metadata": {
      "needs_background": "light"
     },
     "output_type": "display_data"
    },
    {
     "name": "stdout",
     "output_type": "stream",
     "text": [
      "Skewness: -10.097286276431895\n",
      "Kurtosis: 137.16759062025895\n"
     ]
    }
   ],
   "source": [
    "for col in experiments_summary_train.columns[1:]:\n",
    "    fig = plt.figure(figsize=(9, 3))\n",
    "    sns.histplot(data=experiments_summary_train, x=col, kde=True)\n",
    "    plt.show()\n",
    "    fig.clf()\n",
    "\n",
    "    print('Skewness:', skew(experiments_summary_train[col]))\n",
    "    print('Kurtosis:', kurtosis(experiments_summary_train[col]))"
   ]
  },
  {
   "cell_type": "code",
   "execution_count": 92,
   "metadata": {},
   "outputs": [
    {
     "data": {
      "image/png": "[encoded data removed]",
      "text/plain": [
       "<Figure size 648x216 with 1 Axes>"
      ]
     },
     "metadata": {
      "needs_background": "light"
     },
     "output_type": "display_data"
    },
    {
     "name": "stdout",
     "output_type": "stream",
     "text": [
      "Skewness: 2.742135633358109\n",
      "Kurtosis: 9.128657314846805\n"
     ]
    },
    {
     "data": {
      "image/png": "[encoded data removed]",
      "text/plain": [
       "<Figure size 648x216 with 1 Axes>"
      ]
     },
     "metadata": {
      "needs_background": "light"
     },
     "output_type": "display_data"
    },
    {
     "name": "stdout",
     "output_type": "stream",
     "text": [
      "Skewness: 0.11420310856212346\n",
      "Kurtosis: -1.1639227309503517\n"
     ]
    },
    {
     "data": {
      "image/png": "[encoded data removed]",
      "text/plain": [
       "<Figure size 648x216 with 1 Axes>"
      ]
     },
     "metadata": {
      "needs_background": "light"
     },
     "output_type": "display_data"
    },
    {
     "name": "stdout",
     "output_type": "stream",
     "text": [
      "Skewness: 0.10474973690160508\n",
      "Kurtosis: -1.2214878634974755\n"
     ]
    },
    {
     "data": {
      "image/png": "[encoded data removed]",
      "text/plain": [
       "<Figure size 648x216 with 1 Axes>"
      ]
     },
     "metadata": {
      "needs_background": "light"
     },
     "output_type": "display_data"
    },
    {
     "name": "stdout",
     "output_type": "stream",
     "text": [
      "Skewness: 0.023880402596218944\n",
      "Kurtosis: -1.177876908654558\n"
     ]
    }
   ],
   "source": [
    "for col in experiments_summary_test.columns[1:]:\n",
    "    fig = plt.figure(figsize=(9, 3))\n",
    "    sns.histplot(data=experiments_summary_test, x=col, kde=True)\n",
    "    plt.show()\n",
    "    fig.clf()\n",
    "\n",
    "    print('Skewness:', skew(experiments_summary_test[col]))\n",
    "    print('Kurtosis:', kurtosis(experiments_summary_test[col]))"
   ]
  },
  {
   "cell_type": "code",
   "execution_count": 93,
   "metadata": {},
   "outputs": [
    {
     "name": "stdout",
     "output_type": "stream",
     "text": [
      "3\n"
     ]
    }
   ],
   "source": [
    "for q in range(100):\n",
    "    if np.percentile(experiments_summary_train['efficiency'], q) >= 0:\n",
    "        print(q)\n",
    "        break"
   ]
  },
  {
   "cell_type": "code",
   "execution_count": 94,
   "metadata": {},
   "outputs": [
    {
     "data": {
      "image/png": "[encoded data removed]",
      "text/plain": [
       "<Figure size 648x216 with 1 Axes>"
      ]
     },
     "metadata": {
      "needs_background": "light"
     },
     "output_type": "display_data"
    }
   ],
   "source": [
    "fig = plt.figure(figsize=(9, 3))\n",
    "sns.histplot(data=experiments_summary_train[experiments_summary_train['efficiency'] > 0], x='efficiency', kde=True)\n",
    "plt.show()\n",
    "fig.clf()"
   ]
  },
  {
   "cell_type": "code",
   "execution_count": 95,
   "metadata": {},
   "outputs": [
    {
     "name": "stdout",
     "output_type": "stream",
     "text": [
      "9\n"
     ]
    }
   ],
   "source": [
    "for q in range(100):\n",
    "    if np.percentile(experiments_summary_train['efficiency'], q) >= 350:\n",
    "        print(q)\n",
    "        break"
   ]
  },
  {
   "cell_type": "markdown",
   "metadata": {},
   "source": [
    "Los dos conjuntos siguen la misma distribución para las variables como es de esperar, además de contar con los outliers comentados en el enunciado del ejercicio correspondientes al valor 0 para las variables gravity y wind_power.\n",
    "\n",
    "Para la variable total_timesteps, podemos ver que aunque el 75% de las entradas tiene de un valor aproximadamente menor a 240 existen entradas que se extienden hasta los 900. \n",
    "\n",
    "Para la variable total_timesteps podemos ver que el 75% de las series cuenta con un timestamp menor a 242. El resto de casos se tratan de outliers, es decir, experimentos para los que el aterrizaje ha necesitado más tiempo. Esta variable se trata de una distribución de cola larga sesgada a la derecha.\n",
    "\n",
    "Para las variables gravity y wind_power siguen una distribución uniforme, a excepción de las entradas con valor 0 para estas variables ya que se tratan de valores no registrados por el sistema.\n",
    "\n",
    "Para la variable efficiency se observa una distribución de cola larga muy sesgada a la izquierda. El 3% de las entradas cuenta con un valor negativo para efficiency, por lo que la mayoría de entradas cuentan con un valor positivo para la variable. Además, un 91% de estas se encuentran entre 350 y 425.6."
   ]
  },
  {
   "cell_type": "markdown",
   "metadata": {},
   "source": [
    "# Experiments' series"
   ]
  },
  {
   "cell_type": "code",
   "execution_count": 96,
   "metadata": {},
   "outputs": [],
   "source": [
    "def get_nans_experiments_series(series_path):\n",
    "    nans_experiments = dict()\n",
    "\n",
    "    for filename in os.listdir(series_path):\n",
    "        series_file = os.path.join(series_path, filename)\n",
    "        experiment_series = pd.read_csv(series_file)\n",
    "\n",
    "        nans_experiments[filename] = experiment_series.isnull().sum().sum()\n",
    "\n",
    "    nans_experiments = pd.DataFrame.from_dict(nans_experiments, orient='index')\n",
    "    nans_experiments = nans_experiments.reset_index()\n",
    "    nans_experiments.columns = ['experiment', 'nans']\n",
    "    return nans_experiments"
   ]
  },
  {
   "cell_type": "code",
   "execution_count": 97,
   "metadata": {},
   "outputs": [],
   "source": [
    "train_series_path = 'data/train'\n",
    "test_series_path = 'data/test'\n",
    "\n",
    "train_series_nans = get_nans_experiments_series(train_series_path)\n",
    "test_series_nans = get_nans_experiments_series(test_series_path)"
   ]
  },
  {
   "cell_type": "code",
   "execution_count": 98,
   "metadata": {},
   "outputs": [
    {
     "data": {
      "image/png": "[encoded data removed]",
      "text/plain": [
       "<Figure size 648x216 with 1 Axes>"
      ]
     },
     "metadata": {
      "needs_background": "light"
     },
     "output_type": "display_data"
    },
    {
     "data": {
      "image/png": "[encoded data removed]",
      "text/plain": [
       "<Figure size 648x216 with 1 Axes>"
      ]
     },
     "metadata": {
      "needs_background": "light"
     },
     "output_type": "display_data"
    }
   ],
   "source": [
    "fig = plt.figure(figsize=(9, 3))\n",
    "sns.countplot(data=train_series_nans, x='nans')\n",
    "plt.title('NaNs in train series')\n",
    "plt.show()\n",
    "fig.clf()\n",
    "\n",
    "fig = plt.figure(figsize=(9, 3))\n",
    "sns.countplot(data=test_series_nans, x='nans')\n",
    "plt.title('NaNs in test series')\n",
    "plt.show()\n",
    "fig.clf()"
   ]
  },
  {
   "cell_type": "markdown",
   "metadata": {},
   "source": [
    "### Primera toma de contacto\n",
    "Tiene pinta de ser un problema de aprendizaje por refuerzo (reinforcement learning), pero creo que también podría ser un problema de redes neuronales recurrentes.\n",
    "\n",
    "#### Aprendizaje por refuerzo\n",
    "El aprendizaje por refuerzo es una técnica de aprendizaje que consiste en una serie de iteraciones de entrenamiento, donde el objetivo es aprender a predecir el estado siguiente a partir del estado actual. https://es.wikipedia.org/wiki/Aprendizaje_por_refuerzo\n",
    "![](https://upload.wikimedia.org/wikipedia/commons/thumb/1/1b/Reinforcement_learning_diagram.svg/250px-Reinforcement_learning_diagram.svg.png \"RL\")\n",
    "\n",
    "\n",
    "Pensandolo mejor, es un problema supervisado, por lo que no creo que sea un problema de aprendizaje por refuerzo, aunque sí parece que el \"simulador\" que genera estos experimentos internamente es una inteligencia artificial de Reinforcement Learning.\n",
    "Nosotros lo que tenemos que hacer es aprender a predecir la valoración de todo el conjunto de acciones de cada experimento.\n",
    "\n",
    "#### Idea de red neuronal recurrente\n",
    "La idea de la red neuronal recurrente es que la red se comporte como una máquina de estados, y que cada vez que se ejecuta una acción, se guarda el estado actual en una matriz de estados, y se guarda la acción que se ha tomado en una matriz de acciones. Podríamos probar con una LSTM.\n",
    "\n",
    "![](https://upload.wikimedia.org/wikipedia/commons/thumb/9/93/LSTM_Cell.svg/300px-LSTM_Cell.svg.png \"LSTM\")"
   ]
  },
  {
   "cell_type": "markdown",
   "metadata": {},
   "source": [
    "# Planteamiento como problema de aprendizaje por refuerzo (reinforcement learning)"
   ]
  },
  {
   "cell_type": "markdown",
   "metadata": {},
   "source": [
    "Un problema de aprendizaje por refuerzo cuenta con los siguientes elementos:\n",
    "\n",
    "- Estado: Situación del agente. En el problema se representa por las variables:\n",
    "    - x_pos, y_pos\n",
    "    - x_vel, y_vel\n",
    "    - angle, angle_vel\n",
    "    - leg1, leg2\n",
    "\n",
    "- Acciones: Acciones que puede realizar el agente. En el problema se representan por las variables:\n",
    "    - main_booster\n",
    "    - lat_booster\n",
    "\n",
    "\n",
    "- Entorno: Entorno en el que se encuentra el agente. En el problema se representa por las variables:\n",
    "    - gravity\n",
    "    - wind_power\n",
    "    - turbulences"
   ]
  },
  {
   "cell_type": "markdown",
   "metadata": {},
   "source": [
    "# Preprocessing"
   ]
  },
  {
   "cell_type": "markdown",
   "metadata": {},
   "source": [
    "## Adding static fields to time series"
   ]
  },
  {
   "cell_type": "code",
   "execution_count": 99,
   "metadata": {},
   "outputs": [],
   "source": [
    "def mkdir_p(path):\n",
    "    try:\n",
    "        os.makedirs(path)\n",
    "    except OSError as exc: # Python >2.5\n",
    "        if exc.errno == errno.EEXIST and os.path.isdir(path):\n",
    "            pass\n",
    "        else: raise\n",
    "\n",
    "def safe_open_w(path):\n",
    "    mkdir_p(os.path.dirname(path))\n",
    "    return open(path, 'w')"
   ]
  },
  {
   "cell_type": "code",
   "execution_count": 100,
   "metadata": {},
   "outputs": [],
   "source": [
    "train_series_path = 'data/train'\n",
    "test_series_path = 'data/test'\n",
    "train_experiments_summary_path = 'data/experiments_summary_train.xlsx'\n",
    "test_experiments_summary_path = 'data/experiments_summary_test.xlsx'"
   ]
  },
  {
   "cell_type": "code",
   "execution_count": 104,
   "metadata": {},
   "outputs": [
    {
     "name": "stderr",
     "output_type": "stream",
     "text": [
      "/tmp/ipykernel_10022/1873543914.py:30: VisibleDeprecationWarning: Creating an ndarray from ragged nested sequences (which is a list-or-tuple of lists-or-tuples-or ndarrays with different lengths or shapes) is deprecated. If you meant to do this, you must specify 'dtype=object' when creating the ndarray.\n",
      "  return np.array(X), np.array(y)\n",
      "/tmp/ipykernel_10022/1873543914.py:32: VisibleDeprecationWarning: Creating an ndarray from ragged nested sequences (which is a list-or-tuple of lists-or-tuples-or ndarrays with different lengths or shapes) is deprecated. If you meant to do this, you must specify 'dtype=object' when creating the ndarray.\n",
      "  return np.array(X)\n"
     ]
    }
   ],
   "source": [
    "# Now that we have added the static variables (gravity, wind_power, turbulence_power)\n",
    "# Create a numpy array of shape (samples, timesteps, features) from several csv files and assign each to the target variable (efficiency)\n",
    "# - Load the data from the csv files\n",
    "# - Create a numpy array of shape (samples, timesteps, features)\n",
    "# - Assign each numpy array to a target variable\n",
    "# - Return the target variable\n",
    "def transform_data(series_path, experiments_summary_path, target_variable=None):\n",
    "    experiments_summary = pd.read_excel(experiments_summary_path)\n",
    "    experiments_summary = experiments_summary.set_index('filename')\n",
    "\n",
    "    X = []\n",
    "    y = []\n",
    "    for filename in os.listdir(series_path):\n",
    "        series_file = os.path.join(series_path, filename)\n",
    "        experiment_series = pd.read_csv(series_file)\n",
    "        \n",
    "        experiment_summary = experiments_summary.loc[filename]\n",
    "        \n",
    "        # Preprocessing steps\n",
    "        # - Add static fields\n",
    "        for static_var in ['gravity', 'wind_power', 'turbulence_power']:\n",
    "            experiment_series[static_var] = np.repeat(experiment_summary[static_var], experiment_summary['total_timesteps']+1)\n",
    "        \n",
    "        X.append(experiment_series.values)\n",
    "\n",
    "        if target_variable is not None:\n",
    "            y.append(experiment_summary[target_variable])\n",
    "    \n",
    "    if target_variable is not None:\n",
    "        return np.array(X), np.array(y)\n",
    "    else:\n",
    "        return np.array(X)\n",
    "\n",
    "train_X, train_y = transform_data(train_series_path, train_experiments_summary_path, 'efficiency')\n",
    "test_X = transform_data(test_series_path, test_experiments_summary_path)\n",
    "\n",
    "# Dump the data to a numpy files\n",
    "np.save('data/train_X.npy', train_X)\n",
    "np.save('data/train_y.npy', train_y)\n",
    "np.save('data/test_X.npy', test_X)"
   ]
  },
  {
   "cell_type": "code",
   "execution_count": 105,
   "metadata": {},
   "outputs": [
    {
     "name": "stdout",
     "output_type": "stream",
     "text": [
      "object\n",
      "float64\n",
      "object\n",
      "(9513,) (9513,)\n",
      "(189, 13) ()\n",
      "[[-1.53751369e-03  1.40325153e+00 -1.55660763e-01 ... -6.21445902e+00\n",
      "   4.28340138e+00  3.70362300e-01]\n",
      " [-3.12347407e-03  1.39573336e+00 -1.62180588e-01 ... -6.21445902e+00\n",
      "   4.28340138e+00  3.70362300e-01]\n",
      " [-4.76570148e-03  1.38783658e+00 -1.68811649e-01 ... -6.21445902e+00\n",
      "   4.28340138e+00  3.70362300e-01]\n",
      " ...\n",
      " [-8.84067565e-02 -6.48655870e-04 -3.39273782e-08 ... -6.21445902e+00\n",
      "   4.28340138e+00  3.70362300e-01]\n",
      " [-8.84067565e-02 -6.48655870e-04 -4.38394423e-08 ... -6.21445902e+00\n",
      "   4.28340138e+00  3.70362300e-01]\n",
      " [-8.84067565e-02 -6.48655870e-04  0.00000000e+00 ... -6.21445902e+00\n",
      "   4.28340138e+00  3.70362300e-01]] 405.06\n"
     ]
    }
   ],
   "source": [
    "# Load the data from the numpy files and transform it to (samples, timesteps, features)\n",
    "train_X, train_y = np.load('data/train_X.npy', allow_pickle=True), np.load('data/train_y.npy', allow_pickle=True)\n",
    "test_X = np.load('data/test_X.npy', allow_pickle=True)\n",
    "\n",
    "print(train_X.dtype)\n",
    "print(train_y.dtype)\n",
    "print(test_X.dtype)\n",
    "\n",
    "print(train_X.shape, train_y.shape)\n",
    "print(train_X[0].shape, train_y[0].shape)\n",
    "print(train_X[0], train_y[0])"
   ]
  },
  {
   "cell_type": "code",
   "execution_count": 106,
   "metadata": {},
   "outputs": [
    {
     "name": "stdout",
     "output_type": "stream",
     "text": [
      "(9513, 997, 13) (9513,)\n",
      "(997, 13) ()\n",
      "(2000, 952, 13)\n"
     ]
    }
   ],
   "source": [
    "# Pad the data to make it of the same length (max of all samples)\n",
    "def pad_data(X):\n",
    "    max_length = max([x.shape[0] for x in X])\n",
    "    X_padded = []\n",
    "    for x in X:\n",
    "        x_padded = np.zeros((max_length, x.shape[1]))\n",
    "        x_padded[:x.shape[0], :] = x\n",
    "        X_padded.append(x_padded)\n",
    "    return np.array(X_padded)\n",
    "\n",
    "train_X = pad_data(train_X)\n",
    "test_X = pad_data(test_X)\n",
    "\n",
    "print(train_X.shape, train_y.shape)\n",
    "print(train_X[0].shape, train_y[0].shape)\n",
    "print(test_X.shape)"
   ]
  },
  {
   "cell_type": "code",
   "execution_count": null,
   "metadata": {},
   "outputs": [
    {
     "name": "stdout",
     "output_type": "stream",
     "text": [
      "(9513, 997, 13) (9513,)\n",
      "(997, 13) ()\n",
      "(2000, 952, 13)\n"
     ]
    }
   ],
   "source": [
    "def reshape_data_lstm(X):\n",
    "    return X.reshape((X.shape[0], X[0].shape[0], X[0].shape[1]))\n",
    "\n",
    "train_X = reshape_data_lstm(train_X)\n",
    "test_X = reshape_data_lstm(test_X)\n",
    "\n",
    "print(train_X.shape, train_y.shape)\n",
    "print(train_X[0].shape, train_y[0].shape)\n",
    "print(test_X.shape)"
   ]
  },
  {
   "cell_type": "markdown",
   "metadata": {},
   "source": [
    "## Scaling and imputing"
   ]
  },
  {
   "cell_type": "markdown",
   "metadata": {},
   "source": [
    "# LSTM"
   ]
  },
  {
   "cell_type": "markdown",
   "metadata": {},
   "source": [
    "Crearemos una red LSTM que reciba series temporales asociadas a cada uno de los experimentos. Estas series contarán con todos las variables asociadas al estado y las acciones del agente, además de introducir como nuevas variables las del entorno. Estas últimas tendrán el mismo valor para todos los pasos del experimento."
   ]
  },
  {
   "cell_type": "markdown",
   "metadata": {},
   "source": [
    "Dado que las distintas series son de longitud variable y se encuentran en distintos archivos csv, deberemos entrenar la red mediante mini batches de tamano 1 (cada uno de los experimentos de los archivos). Otra opción sería realizar padding sobre las series, pero al contar con un rango amplio de timesteps para las series además de contar con gran cantidad de valores atípicos no parece un enfoque adecuado."
   ]
  },
  {
   "cell_type": "code",
   "execution_count": null,
   "metadata": {},
   "outputs": [
    {
     "name": "stderr",
     "output_type": "stream",
     "text": [
      "2022-06-12 22:33:34.013786: W tensorflow/stream_executor/platform/default/dso_loader.cc:64] Could not load dynamic library 'libcudart.so.11.0'; dlerror: libcudart.so.11.0: cannot open shared object file: No such file or directory\n",
      "2022-06-12 22:33:34.013841: I tensorflow/stream_executor/cuda/cudart_stub.cc:29] Ignore above cudart dlerror if you do not have a GPU set up on your machine.\n",
      "2022-06-12 22:33:35.839400: W tensorflow/stream_executor/platform/default/dso_loader.cc:64] Could not load dynamic library 'libcuda.so.1'; dlerror: libcuda.so.1: cannot open shared object file: No such file or directory\n",
      "2022-06-12 22:33:35.839467: W tensorflow/stream_executor/cuda/cuda_driver.cc:269] failed call to cuInit: UNKNOWN ERROR (303)\n",
      "2022-06-12 22:33:35.839489: I tensorflow/stream_executor/cuda/cuda_diagnostics.cc:156] kernel driver does not appear to be running on this host (DESKTOP-2S0FQ4N): /proc/driver/nvidia/version does not exist\n",
      "2022-06-12 22:33:35.839771: I tensorflow/core/platform/cpu_feature_guard.cc:193] This TensorFlow binary is optimized with oneAPI Deep Neural Network Library (oneDNN) to use the following CPU instructions in performance-critical operations:  AVX2 FMA\n",
      "To enable them in other operations, rebuild TensorFlow with the appropriate compiler flags.\n"
     ]
    },
    {
     "name": "stdout",
     "output_type": "stream",
     "text": [
      "Epoch 1/50\n"
     ]
    },
    {
     "ename": "KeyboardInterrupt",
     "evalue": "",
     "output_type": "error",
     "traceback": [
      "\u001b[0;31m---------------------------------------------------------------------------\u001b[0m",
      "\u001b[0;31mKeyboardInterrupt\u001b[0m                         Traceback (most recent call last)",
      "\u001b[0;32m/tmp/ipykernel_5537/4017311201.py\u001b[0m in \u001b[0;36m<module>\u001b[0;34m\u001b[0m\n\u001b[1;32m      9\u001b[0m \u001b[0;34m\u001b[0m\u001b[0m\n\u001b[1;32m     10\u001b[0m \u001b[0;31m# Train the model with early stopping.\u001b[0m\u001b[0;34m\u001b[0m\u001b[0;34m\u001b[0m\u001b[0;34m\u001b[0m\u001b[0m\n\u001b[0;32m---> 11\u001b[0;31m \u001b[0mhistory\u001b[0m \u001b[0;34m=\u001b[0m \u001b[0mmodel\u001b[0m\u001b[0;34m.\u001b[0m\u001b[0mfit\u001b[0m\u001b[0;34m(\u001b[0m\u001b[0mtrain_X\u001b[0m\u001b[0;34m,\u001b[0m \u001b[0mtrain_y\u001b[0m\u001b[0;34m,\u001b[0m \u001b[0mepochs\u001b[0m\u001b[0;34m=\u001b[0m\u001b[0;36m50\u001b[0m\u001b[0;34m,\u001b[0m \u001b[0mbatch_size\u001b[0m\u001b[0;34m=\u001b[0m\u001b[0;36m32\u001b[0m\u001b[0;34m,\u001b[0m \u001b[0mvalidation_split\u001b[0m\u001b[0;34m=\u001b[0m\u001b[0;36m0.2\u001b[0m\u001b[0;34m,\u001b[0m \u001b[0mverbose\u001b[0m\u001b[0;34m=\u001b[0m\u001b[0;36m2\u001b[0m\u001b[0;34m,\u001b[0m \u001b[0mshuffle\u001b[0m\u001b[0;34m=\u001b[0m\u001b[0;32mFalse\u001b[0m\u001b[0;34m,\u001b[0m \u001b[0mcallbacks\u001b[0m\u001b[0;34m=\u001b[0m\u001b[0;34m[\u001b[0m\u001b[0mEarlyStopping\u001b[0m\u001b[0;34m(\u001b[0m\u001b[0mmonitor\u001b[0m\u001b[0;34m=\u001b[0m\u001b[0;34m'val_loss'\u001b[0m\u001b[0;34m,\u001b[0m \u001b[0mpatience\u001b[0m\u001b[0;34m=\u001b[0m\u001b[0;36m10\u001b[0m\u001b[0;34m,\u001b[0m \u001b[0mmin_delta\u001b[0m\u001b[0;34m=\u001b[0m\u001b[0;36m0.0001\u001b[0m\u001b[0;34m,\u001b[0m \u001b[0mrestore_best_weights\u001b[0m\u001b[0;34m=\u001b[0m\u001b[0;32mTrue\u001b[0m\u001b[0;34m)\u001b[0m\u001b[0;34m]\u001b[0m\u001b[0;34m)\u001b[0m\u001b[0;34m\u001b[0m\u001b[0;34m\u001b[0m\u001b[0m\n\u001b[0m\u001b[1;32m     12\u001b[0m \u001b[0;34m\u001b[0m\u001b[0m\n\u001b[1;32m     13\u001b[0m \u001b[0;31m# Plot the model's predictions\u001b[0m\u001b[0;34m\u001b[0m\u001b[0;34m\u001b[0m\u001b[0;34m\u001b[0m\u001b[0m\n",
      "\u001b[0;32m~/.pyenv/versions/3.7.13/envs/fase6/lib/python3.7/site-packages/keras/utils/traceback_utils.py\u001b[0m in \u001b[0;36merror_handler\u001b[0;34m(*args, **kwargs)\u001b[0m\n\u001b[1;32m     62\u001b[0m     \u001b[0mfiltered_tb\u001b[0m \u001b[0;34m=\u001b[0m \u001b[0;32mNone\u001b[0m\u001b[0;34m\u001b[0m\u001b[0;34m\u001b[0m\u001b[0m\n\u001b[1;32m     63\u001b[0m     \u001b[0;32mtry\u001b[0m\u001b[0;34m:\u001b[0m\u001b[0;34m\u001b[0m\u001b[0;34m\u001b[0m\u001b[0m\n\u001b[0;32m---> 64\u001b[0;31m       \u001b[0;32mreturn\u001b[0m \u001b[0mfn\u001b[0m\u001b[0;34m(\u001b[0m\u001b[0;34m*\u001b[0m\u001b[0margs\u001b[0m\u001b[0;34m,\u001b[0m \u001b[0;34m**\u001b[0m\u001b[0mkwargs\u001b[0m\u001b[0;34m)\u001b[0m\u001b[0;34m\u001b[0m\u001b[0;34m\u001b[0m\u001b[0m\n\u001b[0m\u001b[1;32m     65\u001b[0m     \u001b[0;32mexcept\u001b[0m \u001b[0mException\u001b[0m \u001b[0;32mas\u001b[0m \u001b[0me\u001b[0m\u001b[0;34m:\u001b[0m  \u001b[0;31m# pylint: disable=broad-except\u001b[0m\u001b[0;34m\u001b[0m\u001b[0;34m\u001b[0m\u001b[0m\n\u001b[1;32m     66\u001b[0m       \u001b[0mfiltered_tb\u001b[0m \u001b[0;34m=\u001b[0m \u001b[0m_process_traceback_frames\u001b[0m\u001b[0;34m(\u001b[0m\u001b[0me\u001b[0m\u001b[0;34m.\u001b[0m\u001b[0m__traceback__\u001b[0m\u001b[0;34m)\u001b[0m\u001b[0;34m\u001b[0m\u001b[0;34m\u001b[0m\u001b[0m\n",
      "\u001b[0;32m~/.pyenv/versions/3.7.13/envs/fase6/lib/python3.7/site-packages/keras/engine/training.py\u001b[0m in \u001b[0;36mfit\u001b[0;34m(self, x, y, batch_size, epochs, verbose, callbacks, validation_split, validation_data, shuffle, class_weight, sample_weight, initial_epoch, steps_per_epoch, validation_steps, validation_batch_size, validation_freq, max_queue_size, workers, use_multiprocessing)\u001b[0m\n\u001b[1;32m   1407\u001b[0m                 _r=1):\n\u001b[1;32m   1408\u001b[0m               \u001b[0mcallbacks\u001b[0m\u001b[0;34m.\u001b[0m\u001b[0mon_train_batch_begin\u001b[0m\u001b[0;34m(\u001b[0m\u001b[0mstep\u001b[0m\u001b[0;34m)\u001b[0m\u001b[0;34m\u001b[0m\u001b[0;34m\u001b[0m\u001b[0m\n\u001b[0;32m-> 1409\u001b[0;31m               \u001b[0mtmp_logs\u001b[0m \u001b[0;34m=\u001b[0m \u001b[0mself\u001b[0m\u001b[0;34m.\u001b[0m\u001b[0mtrain_function\u001b[0m\u001b[0;34m(\u001b[0m\u001b[0miterator\u001b[0m\u001b[0;34m)\u001b[0m\u001b[0;34m\u001b[0m\u001b[0;34m\u001b[0m\u001b[0m\n\u001b[0m\u001b[1;32m   1410\u001b[0m               \u001b[0;32mif\u001b[0m \u001b[0mdata_handler\u001b[0m\u001b[0;34m.\u001b[0m\u001b[0mshould_sync\u001b[0m\u001b[0;34m:\u001b[0m\u001b[0;34m\u001b[0m\u001b[0;34m\u001b[0m\u001b[0m\n\u001b[1;32m   1411\u001b[0m                 \u001b[0mcontext\u001b[0m\u001b[0;34m.\u001b[0m\u001b[0masync_wait\u001b[0m\u001b[0;34m(\u001b[0m\u001b[0;34m)\u001b[0m\u001b[0;34m\u001b[0m\u001b[0;34m\u001b[0m\u001b[0m\n",
      "\u001b[0;32m~/.pyenv/versions/3.7.13/envs/fase6/lib/python3.7/site-packages/tensorflow/python/util/traceback_utils.py\u001b[0m in \u001b[0;36merror_handler\u001b[0;34m(*args, **kwargs)\u001b[0m\n\u001b[1;32m    148\u001b[0m     \u001b[0mfiltered_tb\u001b[0m \u001b[0;34m=\u001b[0m \u001b[0;32mNone\u001b[0m\u001b[0;34m\u001b[0m\u001b[0;34m\u001b[0m\u001b[0m\n\u001b[1;32m    149\u001b[0m     \u001b[0;32mtry\u001b[0m\u001b[0;34m:\u001b[0m\u001b[0;34m\u001b[0m\u001b[0;34m\u001b[0m\u001b[0m\n\u001b[0;32m--> 150\u001b[0;31m       \u001b[0;32mreturn\u001b[0m \u001b[0mfn\u001b[0m\u001b[0;34m(\u001b[0m\u001b[0;34m*\u001b[0m\u001b[0margs\u001b[0m\u001b[0;34m,\u001b[0m \u001b[0;34m**\u001b[0m\u001b[0mkwargs\u001b[0m\u001b[0;34m)\u001b[0m\u001b[0;34m\u001b[0m\u001b[0;34m\u001b[0m\u001b[0m\n\u001b[0m\u001b[1;32m    151\u001b[0m     \u001b[0;32mexcept\u001b[0m \u001b[0mException\u001b[0m \u001b[0;32mas\u001b[0m \u001b[0me\u001b[0m\u001b[0;34m:\u001b[0m\u001b[0;34m\u001b[0m\u001b[0;34m\u001b[0m\u001b[0m\n\u001b[1;32m    152\u001b[0m       \u001b[0mfiltered_tb\u001b[0m \u001b[0;34m=\u001b[0m \u001b[0m_process_traceback_frames\u001b[0m\u001b[0;34m(\u001b[0m\u001b[0me\u001b[0m\u001b[0;34m.\u001b[0m\u001b[0m__traceback__\u001b[0m\u001b[0;34m)\u001b[0m\u001b[0;34m\u001b[0m\u001b[0;34m\u001b[0m\u001b[0m\n",
      "\u001b[0;32m~/.pyenv/versions/3.7.13/envs/fase6/lib/python3.7/site-packages/tensorflow/python/eager/def_function.py\u001b[0m in \u001b[0;36m__call__\u001b[0;34m(self, *args, **kwds)\u001b[0m\n\u001b[1;32m    913\u001b[0m \u001b[0;34m\u001b[0m\u001b[0m\n\u001b[1;32m    914\u001b[0m       \u001b[0;32mwith\u001b[0m \u001b[0mOptionalXlaContext\u001b[0m\u001b[0;34m(\u001b[0m\u001b[0mself\u001b[0m\u001b[0;34m.\u001b[0m\u001b[0m_jit_compile\u001b[0m\u001b[0;34m)\u001b[0m\u001b[0;34m:\u001b[0m\u001b[0;34m\u001b[0m\u001b[0;34m\u001b[0m\u001b[0m\n\u001b[0;32m--> 915\u001b[0;31m         \u001b[0mresult\u001b[0m \u001b[0;34m=\u001b[0m \u001b[0mself\u001b[0m\u001b[0;34m.\u001b[0m\u001b[0m_call\u001b[0m\u001b[0;34m(\u001b[0m\u001b[0;34m*\u001b[0m\u001b[0margs\u001b[0m\u001b[0;34m,\u001b[0m \u001b[0;34m**\u001b[0m\u001b[0mkwds\u001b[0m\u001b[0;34m)\u001b[0m\u001b[0;34m\u001b[0m\u001b[0;34m\u001b[0m\u001b[0m\n\u001b[0m\u001b[1;32m    916\u001b[0m \u001b[0;34m\u001b[0m\u001b[0m\n\u001b[1;32m    917\u001b[0m       \u001b[0mnew_tracing_count\u001b[0m \u001b[0;34m=\u001b[0m \u001b[0mself\u001b[0m\u001b[0;34m.\u001b[0m\u001b[0mexperimental_get_tracing_count\u001b[0m\u001b[0;34m(\u001b[0m\u001b[0;34m)\u001b[0m\u001b[0;34m\u001b[0m\u001b[0;34m\u001b[0m\u001b[0m\n",
      "\u001b[0;32m~/.pyenv/versions/3.7.13/envs/fase6/lib/python3.7/site-packages/tensorflow/python/eager/def_function.py\u001b[0m in \u001b[0;36m_call\u001b[0;34m(self, *args, **kwds)\u001b[0m\n\u001b[1;32m    945\u001b[0m       \u001b[0;31m# In this case we have created variables on the first call, so we run the\u001b[0m\u001b[0;34m\u001b[0m\u001b[0;34m\u001b[0m\u001b[0;34m\u001b[0m\u001b[0m\n\u001b[1;32m    946\u001b[0m       \u001b[0;31m# defunned version which is guaranteed to never create variables.\u001b[0m\u001b[0;34m\u001b[0m\u001b[0;34m\u001b[0m\u001b[0;34m\u001b[0m\u001b[0m\n\u001b[0;32m--> 947\u001b[0;31m       \u001b[0;32mreturn\u001b[0m \u001b[0mself\u001b[0m\u001b[0;34m.\u001b[0m\u001b[0m_stateless_fn\u001b[0m\u001b[0;34m(\u001b[0m\u001b[0;34m*\u001b[0m\u001b[0margs\u001b[0m\u001b[0;34m,\u001b[0m \u001b[0;34m**\u001b[0m\u001b[0mkwds\u001b[0m\u001b[0;34m)\u001b[0m  \u001b[0;31m# pylint: disable=not-callable\u001b[0m\u001b[0;34m\u001b[0m\u001b[0;34m\u001b[0m\u001b[0m\n\u001b[0m\u001b[1;32m    948\u001b[0m     \u001b[0;32melif\u001b[0m \u001b[0mself\u001b[0m\u001b[0;34m.\u001b[0m\u001b[0m_stateful_fn\u001b[0m \u001b[0;32mis\u001b[0m \u001b[0;32mnot\u001b[0m \u001b[0;32mNone\u001b[0m\u001b[0;34m:\u001b[0m\u001b[0;34m\u001b[0m\u001b[0;34m\u001b[0m\u001b[0m\n\u001b[1;32m    949\u001b[0m       \u001b[0;31m# Release the lock early so that multiple threads can perform the call\u001b[0m\u001b[0;34m\u001b[0m\u001b[0;34m\u001b[0m\u001b[0;34m\u001b[0m\u001b[0m\n",
      "\u001b[0;32m~/.pyenv/versions/3.7.13/envs/fase6/lib/python3.7/site-packages/tensorflow/python/eager/function.py\u001b[0m in \u001b[0;36m__call__\u001b[0;34m(self, *args, **kwargs)\u001b[0m\n\u001b[1;32m   2452\u001b[0m        filtered_flat_args) = self._maybe_define_function(args, kwargs)\n\u001b[1;32m   2453\u001b[0m     return graph_function._call_flat(\n\u001b[0;32m-> 2454\u001b[0;31m         filtered_flat_args, captured_inputs=graph_function.captured_inputs)  # pylint: disable=protected-access\n\u001b[0m\u001b[1;32m   2455\u001b[0m \u001b[0;34m\u001b[0m\u001b[0m\n\u001b[1;32m   2456\u001b[0m   \u001b[0;34m@\u001b[0m\u001b[0mproperty\u001b[0m\u001b[0;34m\u001b[0m\u001b[0;34m\u001b[0m\u001b[0m\n",
      "\u001b[0;32m~/.pyenv/versions/3.7.13/envs/fase6/lib/python3.7/site-packages/tensorflow/python/eager/function.py\u001b[0m in \u001b[0;36m_call_flat\u001b[0;34m(self, args, captured_inputs, cancellation_manager)\u001b[0m\n\u001b[1;32m   1859\u001b[0m       \u001b[0;31m# No tape is watching; skip to running the function.\u001b[0m\u001b[0;34m\u001b[0m\u001b[0;34m\u001b[0m\u001b[0;34m\u001b[0m\u001b[0m\n\u001b[1;32m   1860\u001b[0m       return self._build_call_outputs(self._inference_function.call(\n\u001b[0;32m-> 1861\u001b[0;31m           ctx, args, cancellation_manager=cancellation_manager))\n\u001b[0m\u001b[1;32m   1862\u001b[0m     forward_backward = self._select_forward_and_backward_functions(\n\u001b[1;32m   1863\u001b[0m         \u001b[0margs\u001b[0m\u001b[0;34m,\u001b[0m\u001b[0;34m\u001b[0m\u001b[0;34m\u001b[0m\u001b[0m\n",
      "\u001b[0;32m~/.pyenv/versions/3.7.13/envs/fase6/lib/python3.7/site-packages/tensorflow/python/eager/function.py\u001b[0m in \u001b[0;36mcall\u001b[0;34m(self, ctx, args, cancellation_manager)\u001b[0m\n\u001b[1;32m    500\u001b[0m               \u001b[0minputs\u001b[0m\u001b[0;34m=\u001b[0m\u001b[0margs\u001b[0m\u001b[0;34m,\u001b[0m\u001b[0;34m\u001b[0m\u001b[0;34m\u001b[0m\u001b[0m\n\u001b[1;32m    501\u001b[0m               \u001b[0mattrs\u001b[0m\u001b[0;34m=\u001b[0m\u001b[0mattrs\u001b[0m\u001b[0;34m,\u001b[0m\u001b[0;34m\u001b[0m\u001b[0;34m\u001b[0m\u001b[0m\n\u001b[0;32m--> 502\u001b[0;31m               ctx=ctx)\n\u001b[0m\u001b[1;32m    503\u001b[0m         \u001b[0;32melse\u001b[0m\u001b[0;34m:\u001b[0m\u001b[0;34m\u001b[0m\u001b[0;34m\u001b[0m\u001b[0m\n\u001b[1;32m    504\u001b[0m           outputs = execute.execute_with_cancellation(\n",
      "\u001b[0;32m~/.pyenv/versions/3.7.13/envs/fase6/lib/python3.7/site-packages/tensorflow/python/eager/execute.py\u001b[0m in \u001b[0;36mquick_execute\u001b[0;34m(op_name, num_outputs, inputs, attrs, ctx, name)\u001b[0m\n\u001b[1;32m     53\u001b[0m     \u001b[0mctx\u001b[0m\u001b[0;34m.\u001b[0m\u001b[0mensure_initialized\u001b[0m\u001b[0;34m(\u001b[0m\u001b[0;34m)\u001b[0m\u001b[0;34m\u001b[0m\u001b[0;34m\u001b[0m\u001b[0m\n\u001b[1;32m     54\u001b[0m     tensors = pywrap_tfe.TFE_Py_Execute(ctx._handle, device_name, op_name,\n\u001b[0;32m---> 55\u001b[0;31m                                         inputs, attrs, num_outputs)\n\u001b[0m\u001b[1;32m     56\u001b[0m   \u001b[0;32mexcept\u001b[0m \u001b[0mcore\u001b[0m\u001b[0;34m.\u001b[0m\u001b[0m_NotOkStatusException\u001b[0m \u001b[0;32mas\u001b[0m \u001b[0me\u001b[0m\u001b[0;34m:\u001b[0m\u001b[0;34m\u001b[0m\u001b[0;34m\u001b[0m\u001b[0m\n\u001b[1;32m     57\u001b[0m     \u001b[0;32mif\u001b[0m \u001b[0mname\u001b[0m \u001b[0;32mis\u001b[0m \u001b[0;32mnot\u001b[0m \u001b[0;32mNone\u001b[0m\u001b[0;34m:\u001b[0m\u001b[0;34m\u001b[0m\u001b[0;34m\u001b[0m\u001b[0m\n",
      "\u001b[0;31mKeyboardInterrupt\u001b[0m: "
     ]
    }
   ],
   "source": [
    "from keras.models import Sequential\n",
    "from keras.layers import LSTM, Dense\n",
    "from keras.callbacks import EarlyStopping\n",
    "\n",
    "model = Sequential()\n",
    "model.add(LSTM(16, input_shape=(train_X.shape[1], train_X.shape[2]), return_sequences=False)) # input_shape=(timesteps, features) return_sequences=False -> returns a single vector\n",
    "model.add(Dense(1))\n",
    "model.compile(loss='mse', optimizer='adam')\n",
    "\n",
    "# Train the model with early stopping.\n",
    "history = model.fit(train_X, train_y, epochs=50, batch_size=32, validation_split=0.2, verbose=2, shuffle=False, callbacks=[EarlyStopping(monitor='val_loss', patience=10, min_delta=0.0001, restore_best_weights=True)])\n",
    "\n",
    "# Plot the model's predictions\n",
    "plt.plot(history.history['loss'], label='train')\n",
    "plt.plot(history.history['val_loss'], label='test')\n",
    "plt.legend()\n",
    "plt.show()"
   ]
  },
  {
   "cell_type": "code",
   "execution_count": null,
   "metadata": {},
   "outputs": [],
   "source": [
    "history.summary()"
   ]
  }
 ],
 "metadata": {
  "interpreter": {
   "hash": "31f2aee4e71d21fbe5cf8b01ff0e069b9275f58929596ceb00d14d90e3e16cd6"
  },
  "kernelspec": {
   "display_name": "Python 3.8.10 64-bit",
   "language": "python",
   "name": "python3"
  },
  "language_info": {
   "codemirror_mode": {
    "name": "ipython",
    "version": 3
   },
   "file_extension": ".py",
   "mimetype": "text/x-python",
   "name": "python",
   "nbconvert_exporter": "python",
   "pygments_lexer": "ipython3",
   "version": "3.8.10"
  },
  "orig_nbformat": 4,
  "vscode": {
   "interpreter": {
    "hash": "31f2aee4e71d21fbe5cf8b01ff0e069b9275f58929596ceb00d14d90e3e16cd6"
   }
  }
 },
 "nbformat": 4,
 "nbformat_minor": 2
}
